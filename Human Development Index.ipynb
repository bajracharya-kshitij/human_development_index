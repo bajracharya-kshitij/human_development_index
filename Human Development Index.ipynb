{
 "cells": [
  {
   "cell_type": "markdown",
   "metadata": {},
   "source": [
    "<center><h1>Human Development Index</h1></center>"
   ]
  },
  {
   "cell_type": "code",
   "execution_count": 1,
   "metadata": {},
   "outputs": [],
   "source": [
    "import numpy as np\n",
    "import pandas as pd\n",
    "import matplotlib.pyplot as plt"
   ]
  },
  {
   "cell_type": "markdown",
   "metadata": {},
   "source": [
    "## Read Data"
   ]
  },
  {
   "cell_type": "code",
   "execution_count": 2,
   "metadata": {},
   "outputs": [
    {
     "data": {
      "text/html": [
       "<div>\n",
       "<style scoped>\n",
       "    .dataframe tbody tr th:only-of-type {\n",
       "        vertical-align: middle;\n",
       "    }\n",
       "\n",
       "    .dataframe tbody tr th {\n",
       "        vertical-align: top;\n",
       "    }\n",
       "\n",
       "    .dataframe thead th {\n",
       "        text-align: right;\n",
       "    }\n",
       "</style>\n",
       "<table border=\"1\" class=\"dataframe\">\n",
       "  <thead>\n",
       "    <tr style=\"text-align: right;\">\n",
       "      <th></th>\n",
       "      <th>District</th>\n",
       "      <th>Life expectancy(In Years)</th>\n",
       "      <th>Per Capita Income(In USD)</th>\n",
       "      <th>Unnamed: 3</th>\n",
       "    </tr>\n",
       "  </thead>\n",
       "  <tbody>\n",
       "    <tr>\n",
       "      <th>0</th>\n",
       "      <td>Ramechhap</td>\n",
       "      <td>72.90</td>\n",
       "      <td>951</td>\n",
       "      <td>NaN</td>\n",
       "    </tr>\n",
       "    <tr>\n",
       "      <th>1</th>\n",
       "      <td>Gorkha</td>\n",
       "      <td>71.70</td>\n",
       "      <td>1,039</td>\n",
       "      <td>NaN</td>\n",
       "    </tr>\n",
       "    <tr>\n",
       "      <th>2</th>\n",
       "      <td>Saptari</td>\n",
       "      <td>71.34</td>\n",
       "      <td>801</td>\n",
       "      <td>NaN</td>\n",
       "    </tr>\n",
       "    <tr>\n",
       "      <th>3</th>\n",
       "      <td>Siraha</td>\n",
       "      <td>71.29</td>\n",
       "      <td>689</td>\n",
       "      <td>NaN</td>\n",
       "    </tr>\n",
       "    <tr>\n",
       "      <th>4</th>\n",
       "      <td>Rautahat</td>\n",
       "      <td>70.99</td>\n",
       "      <td>757</td>\n",
       "      <td>NaN</td>\n",
       "    </tr>\n",
       "  </tbody>\n",
       "</table>\n",
       "</div>"
      ],
      "text/plain": [
       "    District  Life expectancy(In Years) Per Capita Income(In USD)  Unnamed: 3\n",
       "0  Ramechhap                      72.90                       951         NaN\n",
       "1     Gorkha                      71.70                     1,039         NaN\n",
       "2    Saptari                      71.34                       801         NaN\n",
       "3     Siraha                      71.29                       689         NaN\n",
       "4   Rautahat                      70.99                       757         NaN"
      ]
     },
     "execution_count": 2,
     "metadata": {},
     "output_type": "execute_result"
    }
   ],
   "source": [
    "life_expectancy_income_df = pd.read_csv('data/life-expectancy-income.csv')\n",
    "life_expectancy_income_df.head()"
   ]
  },
  {
   "cell_type": "code",
   "execution_count": 3,
   "metadata": {},
   "outputs": [
    {
     "name": "stdout",
     "output_type": "stream",
     "text": [
      "<class 'pandas.core.frame.DataFrame'>\n",
      "RangeIndex: 75 entries, 0 to 74\n",
      "Data columns (total 4 columns):\n",
      "District                     75 non-null object\n",
      "Life expectancy(In Years)    75 non-null float64\n",
      "Per Capita Income(In USD)    75 non-null object\n",
      "Unnamed: 3                   0 non-null float64\n",
      "dtypes: float64(2), object(2)\n",
      "memory usage: 2.5+ KB\n"
     ]
    }
   ],
   "source": [
    "life_expectancy_income_df.info()"
   ]
  },
  {
   "cell_type": "markdown",
   "metadata": {},
   "source": [
    "Dataframe contains unnamed column with all NaN values, so this column is dropped."
   ]
  },
  {
   "cell_type": "code",
   "execution_count": 4,
   "metadata": {},
   "outputs": [
    {
     "data": {
      "text/html": [
       "<div>\n",
       "<style scoped>\n",
       "    .dataframe tbody tr th:only-of-type {\n",
       "        vertical-align: middle;\n",
       "    }\n",
       "\n",
       "    .dataframe tbody tr th {\n",
       "        vertical-align: top;\n",
       "    }\n",
       "\n",
       "    .dataframe thead th {\n",
       "        text-align: right;\n",
       "    }\n",
       "</style>\n",
       "<table border=\"1\" class=\"dataframe\">\n",
       "  <thead>\n",
       "    <tr style=\"text-align: right;\">\n",
       "      <th></th>\n",
       "      <th>District</th>\n",
       "      <th>Life expectancy(In Years)</th>\n",
       "      <th>Per Capita Income(In USD)</th>\n",
       "    </tr>\n",
       "  </thead>\n",
       "  <tbody>\n",
       "    <tr>\n",
       "      <th>0</th>\n",
       "      <td>Ramechhap</td>\n",
       "      <td>72.90</td>\n",
       "      <td>951</td>\n",
       "    </tr>\n",
       "    <tr>\n",
       "      <th>1</th>\n",
       "      <td>Gorkha</td>\n",
       "      <td>71.70</td>\n",
       "      <td>1,039</td>\n",
       "    </tr>\n",
       "    <tr>\n",
       "      <th>2</th>\n",
       "      <td>Saptari</td>\n",
       "      <td>71.34</td>\n",
       "      <td>801</td>\n",
       "    </tr>\n",
       "    <tr>\n",
       "      <th>3</th>\n",
       "      <td>Siraha</td>\n",
       "      <td>71.29</td>\n",
       "      <td>689</td>\n",
       "    </tr>\n",
       "    <tr>\n",
       "      <th>4</th>\n",
       "      <td>Rautahat</td>\n",
       "      <td>70.99</td>\n",
       "      <td>757</td>\n",
       "    </tr>\n",
       "  </tbody>\n",
       "</table>\n",
       "</div>"
      ],
      "text/plain": [
       "    District  Life expectancy(In Years) Per Capita Income(In USD)\n",
       "0  Ramechhap                      72.90                       951\n",
       "1     Gorkha                      71.70                     1,039\n",
       "2    Saptari                      71.34                       801\n",
       "3     Siraha                      71.29                       689\n",
       "4   Rautahat                      70.99                       757"
      ]
     },
     "execution_count": 4,
     "metadata": {},
     "output_type": "execute_result"
    }
   ],
   "source": [
    "life_expectancy_income_df = life_expectancy_income_df.loc[:, ~life_expectancy_income_df.columns.str.contains('^Unnamed')]\n",
    "life_expectancy_income_df.head()"
   ]
  },
  {
   "cell_type": "code",
   "execution_count": 5,
   "metadata": {},
   "outputs": [
    {
     "data": {
      "text/html": [
       "<div>\n",
       "<style scoped>\n",
       "    .dataframe tbody tr th:only-of-type {\n",
       "        vertical-align: middle;\n",
       "    }\n",
       "\n",
       "    .dataframe tbody tr th {\n",
       "        vertical-align: top;\n",
       "    }\n",
       "\n",
       "    .dataframe thead th {\n",
       "        text-align: right;\n",
       "    }\n",
       "</style>\n",
       "<table border=\"1\" class=\"dataframe\">\n",
       "  <thead>\n",
       "    <tr style=\"text-align: right;\">\n",
       "      <th></th>\n",
       "      <th>District</th>\n",
       "      <th>Total</th>\n",
       "      <th>Female</th>\n",
       "      <th>Male</th>\n",
       "      <th>Year</th>\n",
       "    </tr>\n",
       "  </thead>\n",
       "  <tbody>\n",
       "    <tr>\n",
       "      <th>0</th>\n",
       "      <td>Kathmandu</td>\n",
       "      <td>86.3</td>\n",
       "      <td>79.8</td>\n",
       "      <td>92.2</td>\n",
       "      <td>2013</td>\n",
       "    </tr>\n",
       "    <tr>\n",
       "      <th>1</th>\n",
       "      <td>Lalitpur</td>\n",
       "      <td>82.5</td>\n",
       "      <td>74.7</td>\n",
       "      <td>90.1</td>\n",
       "      <td>2013</td>\n",
       "    </tr>\n",
       "    <tr>\n",
       "      <th>2</th>\n",
       "      <td>Kaski</td>\n",
       "      <td>82.4</td>\n",
       "      <td>75.4</td>\n",
       "      <td>90.1</td>\n",
       "      <td>2013</td>\n",
       "    </tr>\n",
       "    <tr>\n",
       "      <th>3</th>\n",
       "      <td>Bhaktapur</td>\n",
       "      <td>81.7</td>\n",
       "      <td>72.7</td>\n",
       "      <td>90.5</td>\n",
       "      <td>2013</td>\n",
       "    </tr>\n",
       "    <tr>\n",
       "      <th>4</th>\n",
       "      <td>Ilam</td>\n",
       "      <td>77.9</td>\n",
       "      <td>72.0</td>\n",
       "      <td>84.2</td>\n",
       "      <td>2013</td>\n",
       "    </tr>\n",
       "  </tbody>\n",
       "</table>\n",
       "</div>"
      ],
      "text/plain": [
       "     District  Total  Female  Male   Year\n",
       "0  Kathmandu    86.3    79.8  92.2   2013\n",
       "1   Lalitpur    82.5    74.7  90.1   2013\n",
       "2      Kaski    82.4    75.4  90.1   2013\n",
       "3  Bhaktapur    81.7    72.7  90.5   2013\n",
       "4       Ilam    77.9    72.0  84.2   2013"
      ]
     },
     "execution_count": 5,
     "metadata": {},
     "output_type": "execute_result"
    }
   ],
   "source": [
    "literacy_rate_df = pd.read_csv('data/literacy-rates.csv')\n",
    "literacy_rate_df.head()"
   ]
  },
  {
   "cell_type": "code",
   "execution_count": 6,
   "metadata": {},
   "outputs": [
    {
     "name": "stdout",
     "output_type": "stream",
     "text": [
      "<class 'pandas.core.frame.DataFrame'>\n",
      "RangeIndex: 75 entries, 0 to 74\n",
      "Data columns (total 5 columns):\n",
      "District    75 non-null object\n",
      "Total       75 non-null float64\n",
      "Female      75 non-null float64\n",
      "Male        75 non-null float64\n",
      " Year       75 non-null int64\n",
      "dtypes: float64(3), int64(1), object(1)\n",
      "memory usage: 3.1+ KB\n"
     ]
    }
   ],
   "source": [
    "literacy_rate_df.info()"
   ]
  },
  {
   "cell_type": "markdown",
   "metadata": {},
   "source": [
    "Both datasets have 75 districts. Checking if district names are same in both the datasets."
   ]
  },
  {
   "cell_type": "code",
   "execution_count": 7,
   "metadata": {},
   "outputs": [
    {
     "name": "stdout",
     "output_type": "stream",
     "text": [
      "{'Saptari', 'Lamjung', 'Lalitpur', 'Mugu', 'Palpa', 'Panchthar', 'Ilam', 'Pyuthan', 'Morang', 'Myagdi', 'Dolpa', 'Parbat', 'Sindhupalchok', 'Taplejung', 'Humla', 'Bara', 'Jhapa', 'Solukhumbu', 'Manang', 'Rautahat', 'Sunsari', 'Nawalparasi', 'Ramechhap', 'Surkhet', 'Bardiya', 'Gorkha', 'Siraha', 'Dadeldhura', 'Salyan', 'Achham', 'Dolakha', 'Udayapur', 'Rupandehi', 'Jumla', 'Rukum', 'Kaski', 'Bhaktapur', 'Kanchanpur', 'Khotang', 'Sarlahi', 'Dang', 'Okhaldhunga', 'Dhanusa', 'Banke', 'Kapilbastu', 'Sindhuli', 'Dhading', 'Gulmi', 'Tehrathum', 'Baitadi', 'Arghakhanchi', 'Mustang', 'Syangja', 'Parsa', 'Nuwakot', 'Kailali', 'Kathmandu', 'Tanahu', 'Kavrepalanchok', 'Kalikot', 'Dailekh', 'Rolpa', 'Rasuwa', 'Makwanpur', 'Bajhang', 'Jajarkot', 'Bhojpur', 'Bajura', 'Mahottari', 'Darchula', 'Dhankuta', 'Sankhuwasabha', 'Doti', 'Chitwan', 'Baglung'}\n"
     ]
    }
   ],
   "source": [
    "print(set(life_expectancy_income_df['District']).difference(set(literacy_rate_df['District'])))"
   ]
  },
  {
   "cell_type": "code",
   "execution_count": 8,
   "metadata": {},
   "outputs": [
    {
     "name": "stdout",
     "output_type": "stream",
     "text": [
      "{'Rukum ', 'Mahottari ', 'Baglung ', 'Kanchanpur ', 'Kathmandu ', 'Banke ', 'Jumla ', 'Myagdi ', 'Rolpa ', 'Panchthar ', 'Pyuthan ', 'Salyan ', 'Bajhang ', 'Rupandehi ', 'Kailali ', 'Parbat ', 'Sindhupalchok ', 'Kaski ', 'Bhojpur ', 'Darchula ', 'Dang ', 'Dhading ', 'Sindhuli ', 'Kalikot ', 'Palpa ', 'Siraha ', 'Dhanusa ', 'Ilam ', 'Morang ', 'Doti ', 'Manang ', 'Udayapur ', 'Nuwakot ', 'Gulmi ', 'Gorkha ', 'Dolpa ', 'Sunsari ', 'Bhaktapur ', 'Makwanpur ', 'Ramechhap ', 'Tanahu ', 'Humla ', 'Chitawan ', 'Sankhuwasabha ', 'Sarlahi ', 'Nawalparasi ', 'Bardiya ', 'Parsa ', 'Dailekh ', 'Arghakhanchi ', 'Mustang ', 'Dhankuta ', 'Syangja ', 'Rasuwa ', 'Bajura ', 'Bara ', 'Rautahat ', 'Terhathum ', 'Jajarkot ', 'Mugu ', 'Dadeldhura ', 'Achham ', 'Baitadi ', 'Lamjung ', 'Khotang ', 'Kavrepalanchok ', 'Taplejung ', 'Okhaldhunga ', 'Surkhet ', 'Solukhumbu ', 'Jhapa ', 'Dolakha ', 'Saptari ', 'Lalitpur ', 'Kapilbastu '}\n"
     ]
    }
   ],
   "source": [
    "print(set(literacy_rate_df['District']).difference(set(life_expectancy_income_df['District'])))"
   ]
  },
  {
   "cell_type": "code",
   "execution_count": 9,
   "metadata": {},
   "outputs": [
    {
     "name": "stdout",
     "output_type": "stream",
     "text": [
      "{'Rukum ', 'Mahottari ', 'Baglung ', 'Kathmandu ', 'Kanchanpur ', 'Banke ', 'Jumla ', 'Myagdi ', 'Rolpa ', 'Panchthar ', 'Pyuthan ', 'Salyan ', 'Bajhang ', 'Rupandehi ', 'Kailali ', 'Parbat ', 'Sindhupalchok ', 'Kaski ', 'Dang ', 'Bhojpur ', 'Darchula ', 'Dhading ', 'Sindhuli ', 'Kalikot ', 'Palpa ', 'Siraha ', 'Dhanusa ', 'Ilam ', 'Morang ', 'Doti ', 'Manang ', 'Udayapur ', 'Nuwakot ', 'Gulmi ', 'Gorkha ', 'Dolpa ', 'Sunsari ', 'Bhaktapur ', 'Makwanpur ', 'Ramechhap ', 'Tanahu ', 'Humla ', 'Chitawan ', 'Sankhuwasabha ', 'Sarlahi ', 'Nawalparasi ', 'Bardiya ', 'Parsa ', 'Dailekh ', 'Arghakhanchi ', 'Mustang ', 'Dhankuta ', 'Syangja ', 'Rasuwa ', 'Bajura ', 'Bara ', 'Rautahat ', 'Terhathum ', 'Jajarkot ', 'Mugu ', 'Dadeldhura ', 'Achham ', 'Baitadi ', 'Kapilbastu ', 'Lamjung ', 'Khotang ', 'Kavrepalanchok ', 'Taplejung ', 'Okhaldhunga ', 'Surkhet ', 'Jhapa ', 'Dolakha ', 'Saptari ', 'Lalitpur ', 'Solukhumbu '}\n"
     ]
    }
   ],
   "source": [
    "print(set(literacy_rate_df['District']))"
   ]
  },
  {
   "cell_type": "markdown",
   "metadata": {},
   "source": [
    "All district names are different because of the trailing space in district names in literacy rate dataframe."
   ]
  },
  {
   "cell_type": "code",
   "execution_count": 10,
   "metadata": {},
   "outputs": [],
   "source": [
    "literacy_rate_df['District'] = literacy_rate_df['District'].map(lambda x : x.strip())"
   ]
  },
  {
   "cell_type": "code",
   "execution_count": 11,
   "metadata": {},
   "outputs": [
    {
     "name": "stdout",
     "output_type": "stream",
     "text": [
      "{'Tehrathum', 'Chitwan'}\n"
     ]
    }
   ],
   "source": [
    "print(set(life_expectancy_income_df['District']).difference(set(literacy_rate_df['District'])))"
   ]
  },
  {
   "cell_type": "code",
   "execution_count": 12,
   "metadata": {},
   "outputs": [
    {
     "name": "stdout",
     "output_type": "stream",
     "text": [
      "{'Chitawan', 'Terhathum'}\n"
     ]
    }
   ],
   "source": [
    "print(set(literacy_rate_df['District']).difference(set(life_expectancy_income_df['District'])))"
   ]
  },
  {
   "cell_type": "markdown",
   "metadata": {},
   "source": [
    "Still two district names are mismatched."
   ]
  },
  {
   "cell_type": "code",
   "execution_count": 13,
   "metadata": {},
   "outputs": [],
   "source": [
    "literacy_rate_df['District'] = literacy_rate_df['District'].map(lambda x : 'Chitwan' if x == 'Chitawan' else ('Tehrathum' if x == 'Terhathum' else x))"
   ]
  },
  {
   "cell_type": "code",
   "execution_count": 14,
   "metadata": {},
   "outputs": [
    {
     "name": "stdout",
     "output_type": "stream",
     "text": [
      "set()\n"
     ]
    }
   ],
   "source": [
    "print(set(life_expectancy_income_df['District']).difference(set(literacy_rate_df['District'])))"
   ]
  },
  {
   "cell_type": "markdown",
   "metadata": {},
   "source": [
    "Finally all district names are same. The two dataframes can now be merged based on the district name."
   ]
  },
  {
   "cell_type": "markdown",
   "metadata": {},
   "source": [
    "## Merge Dataframes"
   ]
  },
  {
   "cell_type": "code",
   "execution_count": 15,
   "metadata": {},
   "outputs": [
    {
     "data": {
      "text/html": [
       "<div>\n",
       "<style scoped>\n",
       "    .dataframe tbody tr th:only-of-type {\n",
       "        vertical-align: middle;\n",
       "    }\n",
       "\n",
       "    .dataframe tbody tr th {\n",
       "        vertical-align: top;\n",
       "    }\n",
       "\n",
       "    .dataframe thead th {\n",
       "        text-align: right;\n",
       "    }\n",
       "</style>\n",
       "<table border=\"1\" class=\"dataframe\">\n",
       "  <thead>\n",
       "    <tr style=\"text-align: right;\">\n",
       "      <th></th>\n",
       "      <th>District</th>\n",
       "      <th>Life expectancy(In Years)</th>\n",
       "      <th>Per Capita Income(In USD)</th>\n",
       "      <th>Total</th>\n",
       "      <th>Female</th>\n",
       "      <th>Male</th>\n",
       "      <th>Year</th>\n",
       "    </tr>\n",
       "  </thead>\n",
       "  <tbody>\n",
       "    <tr>\n",
       "      <th>0</th>\n",
       "      <td>Ramechhap</td>\n",
       "      <td>72.90</td>\n",
       "      <td>951</td>\n",
       "      <td>62.2</td>\n",
       "      <td>53.5</td>\n",
       "      <td>72.6</td>\n",
       "      <td>2013</td>\n",
       "    </tr>\n",
       "    <tr>\n",
       "      <th>1</th>\n",
       "      <td>Gorkha</td>\n",
       "      <td>71.70</td>\n",
       "      <td>1,039</td>\n",
       "      <td>66.3</td>\n",
       "      <td>59.4</td>\n",
       "      <td>75.1</td>\n",
       "      <td>2013</td>\n",
       "    </tr>\n",
       "    <tr>\n",
       "      <th>2</th>\n",
       "      <td>Saptari</td>\n",
       "      <td>71.34</td>\n",
       "      <td>801</td>\n",
       "      <td>54.5</td>\n",
       "      <td>42.6</td>\n",
       "      <td>67.0</td>\n",
       "      <td>2013</td>\n",
       "    </tr>\n",
       "    <tr>\n",
       "      <th>3</th>\n",
       "      <td>Siraha</td>\n",
       "      <td>71.29</td>\n",
       "      <td>689</td>\n",
       "      <td>50.2</td>\n",
       "      <td>39.2</td>\n",
       "      <td>61.9</td>\n",
       "      <td>2013</td>\n",
       "    </tr>\n",
       "    <tr>\n",
       "      <th>4</th>\n",
       "      <td>Rautahat</td>\n",
       "      <td>70.99</td>\n",
       "      <td>757</td>\n",
       "      <td>41.7</td>\n",
       "      <td>32.0</td>\n",
       "      <td>50.9</td>\n",
       "      <td>2013</td>\n",
       "    </tr>\n",
       "  </tbody>\n",
       "</table>\n",
       "</div>"
      ],
      "text/plain": [
       "    District  Life expectancy(In Years) Per Capita Income(In USD)  Total  \\\n",
       "0  Ramechhap                      72.90                       951   62.2   \n",
       "1     Gorkha                      71.70                     1,039   66.3   \n",
       "2    Saptari                      71.34                       801   54.5   \n",
       "3     Siraha                      71.29                       689   50.2   \n",
       "4   Rautahat                      70.99                       757   41.7   \n",
       "\n",
       "   Female  Male   Year  \n",
       "0    53.5  72.6   2013  \n",
       "1    59.4  75.1   2013  \n",
       "2    42.6  67.0   2013  \n",
       "3    39.2  61.9   2013  \n",
       "4    32.0  50.9   2013  "
      ]
     },
     "execution_count": 15,
     "metadata": {},
     "output_type": "execute_result"
    }
   ],
   "source": [
    "district_df = pd.merge(life_expectancy_income_df, literacy_rate_df, on='District', how='inner')\n",
    "district_df.head()"
   ]
  },
  {
   "cell_type": "code",
   "execution_count": 16,
   "metadata": {},
   "outputs": [
    {
     "name": "stdout",
     "output_type": "stream",
     "text": [
      "<class 'pandas.core.frame.DataFrame'>\n",
      "Int64Index: 75 entries, 0 to 74\n",
      "Data columns (total 7 columns):\n",
      "District                     75 non-null object\n",
      "Life expectancy(In Years)    75 non-null float64\n",
      "Per Capita Income(In USD)    75 non-null object\n",
      "Total                        75 non-null float64\n",
      "Female                       75 non-null float64\n",
      "Male                         75 non-null float64\n",
      " Year                        75 non-null int64\n",
      "dtypes: float64(4), int64(1), object(2)\n",
      "memory usage: 4.7+ KB\n"
     ]
    }
   ],
   "source": [
    "district_df.info()"
   ]
  },
  {
   "cell_type": "markdown",
   "metadata": {},
   "source": [
    "Since life expectancy and per capita income are not grouped by gender, I used only the total literacy rate and drop the columns for female and male. Also the year column doesn't provide us additional information. So, the year column is also dropped. The total column is renamed to Literacy Rate. "
   ]
  },
  {
   "cell_type": "code",
   "execution_count": 17,
   "metadata": {},
   "outputs": [
    {
     "data": {
      "text/html": [
       "<div>\n",
       "<style scoped>\n",
       "    .dataframe tbody tr th:only-of-type {\n",
       "        vertical-align: middle;\n",
       "    }\n",
       "\n",
       "    .dataframe tbody tr th {\n",
       "        vertical-align: top;\n",
       "    }\n",
       "\n",
       "    .dataframe thead th {\n",
       "        text-align: right;\n",
       "    }\n",
       "</style>\n",
       "<table border=\"1\" class=\"dataframe\">\n",
       "  <thead>\n",
       "    <tr style=\"text-align: right;\">\n",
       "      <th></th>\n",
       "      <th>District</th>\n",
       "      <th>Life expectancy(In Years)</th>\n",
       "      <th>Per Capita Income(In USD)</th>\n",
       "      <th>Literacy Rate</th>\n",
       "    </tr>\n",
       "  </thead>\n",
       "  <tbody>\n",
       "    <tr>\n",
       "      <th>0</th>\n",
       "      <td>Ramechhap</td>\n",
       "      <td>72.90</td>\n",
       "      <td>951</td>\n",
       "      <td>62.2</td>\n",
       "    </tr>\n",
       "    <tr>\n",
       "      <th>1</th>\n",
       "      <td>Gorkha</td>\n",
       "      <td>71.70</td>\n",
       "      <td>1,039</td>\n",
       "      <td>66.3</td>\n",
       "    </tr>\n",
       "    <tr>\n",
       "      <th>2</th>\n",
       "      <td>Saptari</td>\n",
       "      <td>71.34</td>\n",
       "      <td>801</td>\n",
       "      <td>54.5</td>\n",
       "    </tr>\n",
       "    <tr>\n",
       "      <th>3</th>\n",
       "      <td>Siraha</td>\n",
       "      <td>71.29</td>\n",
       "      <td>689</td>\n",
       "      <td>50.2</td>\n",
       "    </tr>\n",
       "    <tr>\n",
       "      <th>4</th>\n",
       "      <td>Rautahat</td>\n",
       "      <td>70.99</td>\n",
       "      <td>757</td>\n",
       "      <td>41.7</td>\n",
       "    </tr>\n",
       "  </tbody>\n",
       "</table>\n",
       "</div>"
      ],
      "text/plain": [
       "    District  Life expectancy(In Years) Per Capita Income(In USD)  \\\n",
       "0  Ramechhap                      72.90                       951   \n",
       "1     Gorkha                      71.70                     1,039   \n",
       "2    Saptari                      71.34                       801   \n",
       "3     Siraha                      71.29                       689   \n",
       "4   Rautahat                      70.99                       757   \n",
       "\n",
       "   Literacy Rate  \n",
       "0           62.2  \n",
       "1           66.3  \n",
       "2           54.5  \n",
       "3           50.2  \n",
       "4           41.7  "
      ]
     },
     "execution_count": 17,
     "metadata": {},
     "output_type": "execute_result"
    }
   ],
   "source": [
    "district_df.rename(columns={'Total':'Literacy Rate'}, inplace=True)\n",
    "district_df.drop(columns=['Female', 'Male', ' Year'], inplace=True)\n",
    "district_df.head()"
   ]
  },
  {
   "cell_type": "markdown",
   "metadata": {},
   "source": [
    "## Exploring additional datasets"
   ]
  },
  {
   "cell_type": "markdown",
   "metadata": {},
   "source": [
    "#### 1. Education level for people 5 years and older"
   ]
  },
  {
   "cell_type": "code",
   "execution_count": 18,
   "metadata": {},
   "outputs": [
    {
     "data": {
      "text/html": [
       "<div>\n",
       "<style scoped>\n",
       "    .dataframe tbody tr th:only-of-type {\n",
       "        vertical-align: middle;\n",
       "    }\n",
       "\n",
       "    .dataframe tbody tr th {\n",
       "        vertical-align: top;\n",
       "    }\n",
       "\n",
       "    .dataframe thead th {\n",
       "        text-align: right;\n",
       "    }\n",
       "</style>\n",
       "<table border=\"1\" class=\"dataframe\">\n",
       "  <thead>\n",
       "    <tr style=\"text-align: right;\">\n",
       "      <th></th>\n",
       "      <th>Province</th>\n",
       "      <th>Sex</th>\n",
       "      <th>Total</th>\n",
       "      <th>Population that have completed the educational level of Beginner</th>\n",
       "      <th>Population that have completed the educational level of Primary\\n(1-5)</th>\n",
       "      <th>Population that have completed the educational level of Lower secondary (6 -8)</th>\n",
       "      <th>Population that have completed the educational level of Secondary\\n(9 -10)</th>\n",
       "      <th>Population that have completed the educational level of S.L.C. &amp; equiv.</th>\n",
       "      <th>Population that have completed the educational level of Inter- mediate &amp; equiv.</th>\n",
       "      <th>Population that have completed the educational level of Graduate\\n&amp; equiv.</th>\n",
       "      <th>Population that have completed the educational level of Post Graduate\\nequiv.  &amp; above</th>\n",
       "      <th>Others</th>\n",
       "      <th>Non- formal education</th>\n",
       "      <th>Level not stated</th>\n",
       "    </tr>\n",
       "  </thead>\n",
       "  <tbody>\n",
       "    <tr>\n",
       "      <th>0</th>\n",
       "      <td>Province 1</td>\n",
       "      <td>Both Sex</td>\n",
       "      <td>2988776</td>\n",
       "      <td>99806</td>\n",
       "      <td>1120561</td>\n",
       "      <td>633306</td>\n",
       "      <td>398192</td>\n",
       "      <td>356169</td>\n",
       "      <td>150936</td>\n",
       "      <td>58514</td>\n",
       "      <td>15921</td>\n",
       "      <td>1296</td>\n",
       "      <td>143515</td>\n",
       "      <td>10560</td>\n",
       "    </tr>\n",
       "    <tr>\n",
       "      <th>1</th>\n",
       "      <td>Province 1</td>\n",
       "      <td>Male</td>\n",
       "      <td>1578675</td>\n",
       "      <td>52926</td>\n",
       "      <td>592289</td>\n",
       "      <td>325131</td>\n",
       "      <td>205382</td>\n",
       "      <td>185536</td>\n",
       "      <td>85278</td>\n",
       "      <td>40844</td>\n",
       "      <td>12600</td>\n",
       "      <td>746</td>\n",
       "      <td>72464</td>\n",
       "      <td>5479</td>\n",
       "    </tr>\n",
       "    <tr>\n",
       "      <th>2</th>\n",
       "      <td>Province 1</td>\n",
       "      <td>Female</td>\n",
       "      <td>1410101</td>\n",
       "      <td>46880</td>\n",
       "      <td>528272</td>\n",
       "      <td>308175</td>\n",
       "      <td>192810</td>\n",
       "      <td>170633</td>\n",
       "      <td>65658</td>\n",
       "      <td>17670</td>\n",
       "      <td>3321</td>\n",
       "      <td>550</td>\n",
       "      <td>71051</td>\n",
       "      <td>5081</td>\n",
       "    </tr>\n",
       "    <tr>\n",
       "      <th>3</th>\n",
       "      <td>Province 2</td>\n",
       "      <td>Both Sex</td>\n",
       "      <td>2428176</td>\n",
       "      <td>72057</td>\n",
       "      <td>1089642</td>\n",
       "      <td>485560</td>\n",
       "      <td>267899</td>\n",
       "      <td>228383</td>\n",
       "      <td>142694</td>\n",
       "      <td>62100</td>\n",
       "      <td>14703</td>\n",
       "      <td>5593</td>\n",
       "      <td>37049</td>\n",
       "      <td>22496</td>\n",
       "    </tr>\n",
       "    <tr>\n",
       "      <th>4</th>\n",
       "      <td>Province 2</td>\n",
       "      <td>Male</td>\n",
       "      <td>1476232</td>\n",
       "      <td>40493</td>\n",
       "      <td>613570</td>\n",
       "      <td>297429</td>\n",
       "      <td>178390</td>\n",
       "      <td>152063</td>\n",
       "      <td>97277</td>\n",
       "      <td>47990</td>\n",
       "      <td>12284</td>\n",
       "      <td>2941</td>\n",
       "      <td>20970</td>\n",
       "      <td>12825</td>\n",
       "    </tr>\n",
       "  </tbody>\n",
       "</table>\n",
       "</div>"
      ],
      "text/plain": [
       "     Province       Sex    Total  \\\n",
       "0  Province 1  Both Sex  2988776   \n",
       "1  Province 1      Male  1578675   \n",
       "2  Province 1    Female  1410101   \n",
       "3  Province 2  Both Sex  2428176   \n",
       "4  Province 2      Male  1476232   \n",
       "\n",
       "   Population that have completed the educational level of Beginner  \\\n",
       "0                                              99806                  \n",
       "1                                              52926                  \n",
       "2                                              46880                  \n",
       "3                                              72057                  \n",
       "4                                              40493                  \n",
       "\n",
       "   Population that have completed the educational level of Primary\\n(1-5)  \\\n",
       "0                                            1120561                        \n",
       "1                                             592289                        \n",
       "2                                             528272                        \n",
       "3                                            1089642                        \n",
       "4                                             613570                        \n",
       "\n",
       "   Population that have completed the educational level of Lower secondary (6 -8)  \\\n",
       "0                                             633306                                \n",
       "1                                             325131                                \n",
       "2                                             308175                                \n",
       "3                                             485560                                \n",
       "4                                             297429                                \n",
       "\n",
       "   Population that have completed the educational level of Secondary\\n(9 -10)  \\\n",
       "0                                             398192                            \n",
       "1                                             205382                            \n",
       "2                                             192810                            \n",
       "3                                             267899                            \n",
       "4                                             178390                            \n",
       "\n",
       "   Population that have completed the educational level of S.L.C. & equiv.  \\\n",
       "0                                             356169                         \n",
       "1                                             185536                         \n",
       "2                                             170633                         \n",
       "3                                             228383                         \n",
       "4                                             152063                         \n",
       "\n",
       "   Population that have completed the educational level of Inter- mediate & equiv.  \\\n",
       "0                                             150936                                 \n",
       "1                                              85278                                 \n",
       "2                                              65658                                 \n",
       "3                                             142694                                 \n",
       "4                                              97277                                 \n",
       "\n",
       "   Population that have completed the educational level of Graduate\\n& equiv.  \\\n",
       "0                                              58514                            \n",
       "1                                              40844                            \n",
       "2                                              17670                            \n",
       "3                                              62100                            \n",
       "4                                              47990                            \n",
       "\n",
       "   Population that have completed the educational level of Post Graduate\\nequiv.  & above  \\\n",
       "0                                              15921                                        \n",
       "1                                              12600                                        \n",
       "2                                               3321                                        \n",
       "3                                              14703                                        \n",
       "4                                              12284                                        \n",
       "\n",
       "   Others Non- formal education  Level not stated  \n",
       "0    1296                143515             10560  \n",
       "1     746                 72464              5479  \n",
       "2     550                 71051              5081  \n",
       "3    5593                 37049             22496  \n",
       "4    2941                 20970             12825  "
      ]
     },
     "execution_count": 18,
     "metadata": {},
     "output_type": "execute_result"
    }
   ],
   "source": [
    "literate_five_and_above_df = pd.read_csv('data/literate-population-aged-5-years-and-above-by-educational-attainment.csv')\n",
    "literate_five_and_above_df.head()"
   ]
  },
  {
   "cell_type": "code",
   "execution_count": 19,
   "metadata": {},
   "outputs": [
    {
     "data": {
      "text/plain": [
       "(24, 14)"
      ]
     },
     "execution_count": 19,
     "metadata": {},
     "output_type": "execute_result"
    }
   ],
   "source": [
    "literate_five_and_above_df.shape"
   ]
  },
  {
   "cell_type": "code",
   "execution_count": 20,
   "metadata": {},
   "outputs": [
    {
     "name": "stdout",
     "output_type": "stream",
     "text": [
      "{'Gandaki', 'Nepal', 'Province 7', 'Province 1', 'Province 5', 'Karnali', 'Province 2', 'Province 3'}\n"
     ]
    }
   ],
   "source": [
    "print(set(literate_five_and_above_df['Province']))"
   ]
  },
  {
   "cell_type": "markdown",
   "metadata": {},
   "source": [
    "District level information not available in this dataset, so I didn't use this dataset further."
   ]
  },
  {
   "cell_type": "markdown",
   "metadata": {},
   "source": [
    "#### 2. Population by federal units"
   ]
  },
  {
   "cell_type": "code",
   "execution_count": 21,
   "metadata": {},
   "outputs": [
    {
     "data": {
      "text/html": [
       "<div>\n",
       "<style scoped>\n",
       "    .dataframe tbody tr th:only-of-type {\n",
       "        vertical-align: middle;\n",
       "    }\n",
       "\n",
       "    .dataframe tbody tr th {\n",
       "        vertical-align: top;\n",
       "    }\n",
       "\n",
       "    .dataframe thead th {\n",
       "        text-align: right;\n",
       "    }\n",
       "</style>\n",
       "<table border=\"1\" class=\"dataframe\">\n",
       "  <thead>\n",
       "    <tr style=\"text-align: right;\">\n",
       "      <th></th>\n",
       "      <th>Name\\n</th>\n",
       "      <th>year</th>\n",
       "      <th>parent_level</th>\n",
       "      <th>geo_level</th>\n",
       "      <th>parent_code</th>\n",
       "      <th>sex</th>\n",
       "      <th>population</th>\n",
       "    </tr>\n",
       "  </thead>\n",
       "  <tbody>\n",
       "    <tr>\n",
       "      <th>0</th>\n",
       "      <td>Nepal</td>\n",
       "      <td>2016</td>\n",
       "      <td>-</td>\n",
       "      <td>country</td>\n",
       "      <td>-</td>\n",
       "      <td>female</td>\n",
       "      <td>13645463</td>\n",
       "    </tr>\n",
       "    <tr>\n",
       "      <th>1</th>\n",
       "      <td>Nepal</td>\n",
       "      <td>2016</td>\n",
       "      <td>-</td>\n",
       "      <td>country</td>\n",
       "      <td>-</td>\n",
       "      <td>male</td>\n",
       "      <td>12849041</td>\n",
       "    </tr>\n",
       "    <tr>\n",
       "      <th>2</th>\n",
       "      <td>Province No. 1</td>\n",
       "      <td>2016</td>\n",
       "      <td>country</td>\n",
       "      <td>province</td>\n",
       "      <td>NP</td>\n",
       "      <td>female</td>\n",
       "      <td>2368407</td>\n",
       "    </tr>\n",
       "    <tr>\n",
       "      <th>3</th>\n",
       "      <td>Province No. 1</td>\n",
       "      <td>2016</td>\n",
       "      <td>country</td>\n",
       "      <td>province</td>\n",
       "      <td>NP</td>\n",
       "      <td>male</td>\n",
       "      <td>2166536</td>\n",
       "    </tr>\n",
       "    <tr>\n",
       "      <th>4</th>\n",
       "      <td>Province No. 2</td>\n",
       "      <td>2016</td>\n",
       "      <td>country</td>\n",
       "      <td>province</td>\n",
       "      <td>NP</td>\n",
       "      <td>female</td>\n",
       "      <td>2686207</td>\n",
       "    </tr>\n",
       "  </tbody>\n",
       "</table>\n",
       "</div>"
      ],
      "text/plain": [
       "           Name\\n  year parent_level geo_level parent_code     sex  population\n",
       "0           Nepal  2016            -   country           -  female    13645463\n",
       "1           Nepal  2016            -   country           -    male    12849041\n",
       "2  Province No. 1  2016      country  province          NP  female     2368407\n",
       "3  Province No. 1  2016      country  province          NP    male     2166536\n",
       "4  Province No. 2  2016      country  province          NP  female     2686207"
      ]
     },
     "execution_count": 21,
     "metadata": {},
     "output_type": "execute_result"
    }
   ],
   "source": [
    "population_df = pd.read_csv('data/total-population-by-sex-country-province-district-and-local-level-population.csv')\n",
    "population_df.head()"
   ]
  },
  {
   "cell_type": "code",
   "execution_count": 22,
   "metadata": {},
   "outputs": [
    {
     "name": "stdout",
     "output_type": "stream",
     "text": [
      "{2016}\n"
     ]
    }
   ],
   "source": [
    "print(set(population_df['year']))"
   ]
  },
  {
   "cell_type": "markdown",
   "metadata": {},
   "source": [
    "All data in this dataset are from the year 2016, while our data in the literacy rate was from 2013. Due to this mismatch, this dataset is not further used."
   ]
  },
  {
   "cell_type": "markdown",
   "metadata": {},
   "source": [
    "#### 3. Number of federal units"
   ]
  },
  {
   "cell_type": "code",
   "execution_count": 23,
   "metadata": {},
   "outputs": [
    {
     "data": {
      "text/html": [
       "<div>\n",
       "<style scoped>\n",
       "    .dataframe tbody tr th:only-of-type {\n",
       "        vertical-align: middle;\n",
       "    }\n",
       "\n",
       "    .dataframe tbody tr th {\n",
       "        vertical-align: top;\n",
       "    }\n",
       "\n",
       "    .dataframe thead th {\n",
       "        text-align: right;\n",
       "    }\n",
       "</style>\n",
       "<table border=\"1\" class=\"dataframe\">\n",
       "  <thead>\n",
       "    <tr style=\"text-align: right;\">\n",
       "      <th></th>\n",
       "      <th>District</th>\n",
       "      <th>Metropolitan (Numbers)</th>\n",
       "      <th>Metropolitan (No of Wards)</th>\n",
       "      <th>Sub Metropolitan(Numbers)</th>\n",
       "      <th>Sub Metropolitan(No of Wards)</th>\n",
       "      <th>Municipality(Numbers)</th>\n",
       "      <th>Municipality(No of Wards)</th>\n",
       "      <th>Rural Municipality(Numbers)</th>\n",
       "      <th>Rural Municipality(No of Wards)</th>\n",
       "      <th>Total Units</th>\n",
       "      <th>Total No of Wards</th>\n",
       "    </tr>\n",
       "  </thead>\n",
       "  <tbody>\n",
       "    <tr>\n",
       "      <th>0</th>\n",
       "      <td>Taplejung</td>\n",
       "      <td>0</td>\n",
       "      <td>0.0</td>\n",
       "      <td>0</td>\n",
       "      <td>0</td>\n",
       "      <td>1</td>\n",
       "      <td>11</td>\n",
       "      <td>8</td>\n",
       "      <td>50</td>\n",
       "      <td>9</td>\n",
       "      <td>61</td>\n",
       "    </tr>\n",
       "    <tr>\n",
       "      <th>1</th>\n",
       "      <td>Panchthar</td>\n",
       "      <td>0</td>\n",
       "      <td>0.0</td>\n",
       "      <td>0</td>\n",
       "      <td>0</td>\n",
       "      <td>1</td>\n",
       "      <td>14</td>\n",
       "      <td>7</td>\n",
       "      <td>46</td>\n",
       "      <td>8</td>\n",
       "      <td>60</td>\n",
       "    </tr>\n",
       "    <tr>\n",
       "      <th>2</th>\n",
       "      <td>Ilam</td>\n",
       "      <td>0</td>\n",
       "      <td>0.0</td>\n",
       "      <td>0</td>\n",
       "      <td>0</td>\n",
       "      <td>4</td>\n",
       "      <td>45</td>\n",
       "      <td>6</td>\n",
       "      <td>36</td>\n",
       "      <td>10</td>\n",
       "      <td>81</td>\n",
       "    </tr>\n",
       "    <tr>\n",
       "      <th>3</th>\n",
       "      <td>Jhapa</td>\n",
       "      <td>0</td>\n",
       "      <td>0.0</td>\n",
       "      <td>0</td>\n",
       "      <td>0</td>\n",
       "      <td>8</td>\n",
       "      <td>85</td>\n",
       "      <td>7</td>\n",
       "      <td>46</td>\n",
       "      <td>15</td>\n",
       "      <td>131</td>\n",
       "    </tr>\n",
       "    <tr>\n",
       "      <th>4</th>\n",
       "      <td>Morang</td>\n",
       "      <td>1</td>\n",
       "      <td>19.0</td>\n",
       "      <td>0</td>\n",
       "      <td>0</td>\n",
       "      <td>8</td>\n",
       "      <td>79</td>\n",
       "      <td>8</td>\n",
       "      <td>61</td>\n",
       "      <td>17</td>\n",
       "      <td>159</td>\n",
       "    </tr>\n",
       "  </tbody>\n",
       "</table>\n",
       "</div>"
      ],
      "text/plain": [
       "    District  Metropolitan (Numbers)  Metropolitan (No of Wards)  \\\n",
       "0  Taplejung                       0                         0.0   \n",
       "1  Panchthar                       0                         0.0   \n",
       "2       Ilam                       0                         0.0   \n",
       "3      Jhapa                       0                         0.0   \n",
       "4     Morang                       1                        19.0   \n",
       "\n",
       "   Sub Metropolitan(Numbers)  Sub Metropolitan(No of Wards)  \\\n",
       "0                          0                              0   \n",
       "1                          0                              0   \n",
       "2                          0                              0   \n",
       "3                          0                              0   \n",
       "4                          0                              0   \n",
       "\n",
       "   Municipality(Numbers) Municipality(No of Wards)  \\\n",
       "0                      1                        11   \n",
       "1                      1                        14   \n",
       "2                      4                        45   \n",
       "3                      8                        85   \n",
       "4                      8                        79   \n",
       "\n",
       "   Rural Municipality(Numbers) Rural Municipality(No of Wards)  Total Units  \\\n",
       "0                            8                              50            9   \n",
       "1                            7                              46            8   \n",
       "2                            6                              36           10   \n",
       "3                            7                              46           15   \n",
       "4                            8                              61           17   \n",
       "\n",
       "  Total No of Wards  \n",
       "0                61  \n",
       "1                60  \n",
       "2                81  \n",
       "3               131  \n",
       "4               159  "
      ]
     },
     "execution_count": 23,
     "metadata": {},
     "output_type": "execute_result"
    }
   ],
   "source": [
    "federal_structure_df = pd.read_csv('data/total-number-of-rural-municipality-and-municipality-and-ward-divisions-in-federal-structure-in-2.csv')\n",
    "federal_structure_df.head()"
   ]
  },
  {
   "cell_type": "code",
   "execution_count": 24,
   "metadata": {},
   "outputs": [
    {
     "name": "stdout",
     "output_type": "stream",
     "text": [
      "<class 'pandas.core.frame.DataFrame'>\n",
      "RangeIndex: 78 entries, 0 to 77\n",
      "Data columns (total 11 columns):\n",
      "District                           78 non-null object\n",
      "Metropolitan (Numbers)             78 non-null int64\n",
      "Metropolitan (No of Wards)         77 non-null float64\n",
      "Sub Metropolitan(Numbers)          78 non-null int64\n",
      "Sub Metropolitan(No of Wards)      78 non-null int64\n",
      "Municipality(Numbers)              78 non-null int64\n",
      "Municipality(No of Wards)          78 non-null object\n",
      "Rural Municipality(Numbers)        78 non-null int64\n",
      "Rural Municipality(No of Wards)    78 non-null object\n",
      "Total Units                        78 non-null int64\n",
      "Total No of Wards                  78 non-null object\n",
      "dtypes: float64(1), int64(6), object(4)\n",
      "memory usage: 6.8+ KB\n"
     ]
    }
   ],
   "source": [
    "federal_structure_df.info()"
   ]
  },
  {
   "cell_type": "code",
   "execution_count": 25,
   "metadata": {},
   "outputs": [
    {
     "name": "stdout",
     "output_type": "stream",
     "text": [
      "{'Nawalparasi Bardaghat Susta East', 'Tehathum', 'Okhaldhung', 'Sindhupalchowk', 'Makawanpur', 'Myagdhi', 'Syanjha', 'Chitawan', 'Rukum West', 'Total', 'Ramechap', 'Nawalparasi Bardadhghat Susta west', 'Kavrepalanchowk', 'Rukum East'}\n"
     ]
    }
   ],
   "source": [
    "print(set(federal_structure_df['District']).difference(set(district_df['District'])))"
   ]
  },
  {
   "cell_type": "markdown",
   "metadata": {},
   "source": [
    "federal_structure_df has new districts Rukum East, Rukum West, Nawalparasi Bardadhghat Susta west and Nawalparasi Bardaghat Susta East which suggests that this data is also from later than 2013. So this dataset is also further not used."
   ]
  },
  {
   "cell_type": "code",
   "execution_count": 26,
   "metadata": {},
   "outputs": [
    {
     "data": {
      "text/html": [
       "<div>\n",
       "<style scoped>\n",
       "    .dataframe tbody tr th:only-of-type {\n",
       "        vertical-align: middle;\n",
       "    }\n",
       "\n",
       "    .dataframe tbody tr th {\n",
       "        vertical-align: top;\n",
       "    }\n",
       "\n",
       "    .dataframe thead th {\n",
       "        text-align: right;\n",
       "    }\n",
       "</style>\n",
       "<table border=\"1\" class=\"dataframe\">\n",
       "  <thead>\n",
       "    <tr style=\"text-align: right;\">\n",
       "      <th></th>\n",
       "      <th>District</th>\n",
       "      <th>Life expectancy(In Years)</th>\n",
       "      <th>Per Capita Income(In USD)</th>\n",
       "      <th>Literacy Rate</th>\n",
       "    </tr>\n",
       "  </thead>\n",
       "  <tbody>\n",
       "    <tr>\n",
       "      <th>0</th>\n",
       "      <td>Ramechhap</td>\n",
       "      <td>72.90</td>\n",
       "      <td>951</td>\n",
       "      <td>62.2</td>\n",
       "    </tr>\n",
       "    <tr>\n",
       "      <th>1</th>\n",
       "      <td>Gorkha</td>\n",
       "      <td>71.70</td>\n",
       "      <td>1,039</td>\n",
       "      <td>66.3</td>\n",
       "    </tr>\n",
       "    <tr>\n",
       "      <th>2</th>\n",
       "      <td>Saptari</td>\n",
       "      <td>71.34</td>\n",
       "      <td>801</td>\n",
       "      <td>54.5</td>\n",
       "    </tr>\n",
       "    <tr>\n",
       "      <th>3</th>\n",
       "      <td>Siraha</td>\n",
       "      <td>71.29</td>\n",
       "      <td>689</td>\n",
       "      <td>50.2</td>\n",
       "    </tr>\n",
       "    <tr>\n",
       "      <th>4</th>\n",
       "      <td>Rautahat</td>\n",
       "      <td>70.99</td>\n",
       "      <td>757</td>\n",
       "      <td>41.7</td>\n",
       "    </tr>\n",
       "  </tbody>\n",
       "</table>\n",
       "</div>"
      ],
      "text/plain": [
       "    District  Life expectancy(In Years) Per Capita Income(In USD)  \\\n",
       "0  Ramechhap                      72.90                       951   \n",
       "1     Gorkha                      71.70                     1,039   \n",
       "2    Saptari                      71.34                       801   \n",
       "3     Siraha                      71.29                       689   \n",
       "4   Rautahat                      70.99                       757   \n",
       "\n",
       "   Literacy Rate  \n",
       "0           62.2  \n",
       "1           66.3  \n",
       "2           54.5  \n",
       "3           50.2  \n",
       "4           41.7  "
      ]
     },
     "execution_count": 26,
     "metadata": {},
     "output_type": "execute_result"
    }
   ],
   "source": [
    "district_df.head()"
   ]
  },
  {
   "cell_type": "code",
   "execution_count": 27,
   "metadata": {},
   "outputs": [
    {
     "name": "stdout",
     "output_type": "stream",
     "text": [
      "<class 'pandas.core.frame.DataFrame'>\n",
      "Int64Index: 75 entries, 0 to 74\n",
      "Data columns (total 4 columns):\n",
      "District                     75 non-null object\n",
      "Life expectancy(In Years)    75 non-null float64\n",
      "Per Capita Income(In USD)    75 non-null object\n",
      "Literacy Rate                75 non-null float64\n",
      "dtypes: float64(2), object(2)\n",
      "memory usage: 2.9+ KB\n"
     ]
    }
   ],
   "source": [
    "district_df.info()"
   ]
  },
  {
   "cell_type": "code",
   "execution_count": 28,
   "metadata": {},
   "outputs": [],
   "source": [
    "district_df['Per Capita Income(In USD)'] = district_df['Per Capita Income(In USD)'].map(lambda x : float(x.replace(',','')))"
   ]
  },
  {
   "cell_type": "code",
   "execution_count": 29,
   "metadata": {},
   "outputs": [
    {
     "name": "stdout",
     "output_type": "stream",
     "text": [
      "<class 'pandas.core.frame.DataFrame'>\n",
      "Int64Index: 75 entries, 0 to 74\n",
      "Data columns (total 4 columns):\n",
      "District                     75 non-null object\n",
      "Life expectancy(In Years)    75 non-null float64\n",
      "Per Capita Income(In USD)    75 non-null float64\n",
      "Literacy Rate                75 non-null float64\n",
      "dtypes: float64(3), object(1)\n",
      "memory usage: 2.9+ KB\n"
     ]
    }
   ],
   "source": [
    "district_df.info()"
   ]
  },
  {
   "cell_type": "code",
   "execution_count": 30,
   "metadata": {},
   "outputs": [
    {
     "data": {
      "text/html": [
       "<div>\n",
       "<style scoped>\n",
       "    .dataframe tbody tr th:only-of-type {\n",
       "        vertical-align: middle;\n",
       "    }\n",
       "\n",
       "    .dataframe tbody tr th {\n",
       "        vertical-align: top;\n",
       "    }\n",
       "\n",
       "    .dataframe thead th {\n",
       "        text-align: right;\n",
       "    }\n",
       "</style>\n",
       "<table border=\"1\" class=\"dataframe\">\n",
       "  <thead>\n",
       "    <tr style=\"text-align: right;\">\n",
       "      <th></th>\n",
       "      <th>District</th>\n",
       "      <th>Life expectancy(In Years)</th>\n",
       "      <th>Per Capita Income(In USD)</th>\n",
       "      <th>Literacy Rate</th>\n",
       "    </tr>\n",
       "  </thead>\n",
       "  <tbody>\n",
       "    <tr>\n",
       "      <th>0</th>\n",
       "      <td>Ramechhap</td>\n",
       "      <td>72.90</td>\n",
       "      <td>951.0</td>\n",
       "      <td>62.2</td>\n",
       "    </tr>\n",
       "    <tr>\n",
       "      <th>1</th>\n",
       "      <td>Gorkha</td>\n",
       "      <td>71.70</td>\n",
       "      <td>1039.0</td>\n",
       "      <td>66.3</td>\n",
       "    </tr>\n",
       "    <tr>\n",
       "      <th>2</th>\n",
       "      <td>Saptari</td>\n",
       "      <td>71.34</td>\n",
       "      <td>801.0</td>\n",
       "      <td>54.5</td>\n",
       "    </tr>\n",
       "    <tr>\n",
       "      <th>3</th>\n",
       "      <td>Siraha</td>\n",
       "      <td>71.29</td>\n",
       "      <td>689.0</td>\n",
       "      <td>50.2</td>\n",
       "    </tr>\n",
       "    <tr>\n",
       "      <th>4</th>\n",
       "      <td>Rautahat</td>\n",
       "      <td>70.99</td>\n",
       "      <td>757.0</td>\n",
       "      <td>41.7</td>\n",
       "    </tr>\n",
       "  </tbody>\n",
       "</table>\n",
       "</div>"
      ],
      "text/plain": [
       "    District  Life expectancy(In Years)  Per Capita Income(In USD)  \\\n",
       "0  Ramechhap                      72.90                      951.0   \n",
       "1     Gorkha                      71.70                     1039.0   \n",
       "2    Saptari                      71.34                      801.0   \n",
       "3     Siraha                      71.29                      689.0   \n",
       "4   Rautahat                      70.99                      757.0   \n",
       "\n",
       "   Literacy Rate  \n",
       "0           62.2  \n",
       "1           66.3  \n",
       "2           54.5  \n",
       "3           50.2  \n",
       "4           41.7  "
      ]
     },
     "execution_count": 30,
     "metadata": {},
     "output_type": "execute_result"
    }
   ],
   "source": [
    "district_df.head()"
   ]
  },
  {
   "cell_type": "markdown",
   "metadata": {},
   "source": [
    "## Data Visualization"
   ]
  },
  {
   "cell_type": "code",
   "execution_count": 31,
   "metadata": {},
   "outputs": [
    {
     "data": {
      "image/png": "[encoded data removed]",
      "text/plain": [
       "<Figure size 1440x576 with 3 Axes>"
      ]
     },
     "metadata": {
      "needs_background": "light"
     },
     "output_type": "display_data"
    }
   ],
   "source": [
    "labels = district_df.columns\n",
    "f, axs = plt.subplots(1, len(labels)-1, figsize=(20,8))\n",
    "for i in range(1, len(labels)):\n",
    "    ax = plt.subplot(1, len(labels)-1, i)\n",
    "    ax.boxplot(district_df[labels[i]], labels=[labels[i]])"
   ]
  },
  {
   "cell_type": "markdown",
   "metadata": {},
   "source": [
    "Life expectancy and Per Capita Income have outliers."
   ]
  },
  {
   "cell_type": "markdown",
   "metadata": {},
   "source": [
    "**Note**: If a data point is below Q1 – 1.5×IQR or above Q3 + 1.5×IQR, it is viewed as being too far from the central values to be reasonable, it is considered as an outlier. See [this link](https://www.purplemath.com/modules/boxwhisk3.htm) for details."
   ]
  },
  {
   "cell_type": "code",
   "execution_count": 32,
   "metadata": {},
   "outputs": [
    {
     "data": {
      "text/plain": [
       "District                     Dolpa\n",
       "Life expectancy(In Years)     61.2\n",
       "Per Capita Income(In USD)     1040\n",
       "Literacy Rate                 54.1\n",
       "Name: 74, dtype: object"
      ]
     },
     "execution_count": 32,
     "metadata": {},
     "output_type": "execute_result"
    }
   ],
   "source": [
    "district_df.loc[district_df['Life expectancy(In Years)'].idxmin()]"
   ]
  },
  {
   "cell_type": "code",
   "execution_count": 33,
   "metadata": {
    "scrolled": true
   },
   "outputs": [
    {
     "name": "stdout",
     "output_type": "stream",
     "text": [
      "Upper Quartile:  1219.0\n"
     ]
    },
    {
     "data": {
      "text/html": [
       "<div>\n",
       "<style scoped>\n",
       "    .dataframe tbody tr th:only-of-type {\n",
       "        vertical-align: middle;\n",
       "    }\n",
       "\n",
       "    .dataframe tbody tr th {\n",
       "        vertical-align: top;\n",
       "    }\n",
       "\n",
       "    .dataframe thead th {\n",
       "        text-align: right;\n",
       "    }\n",
       "</style>\n",
       "<table border=\"1\" class=\"dataframe\">\n",
       "  <thead>\n",
       "    <tr style=\"text-align: right;\">\n",
       "      <th></th>\n",
       "      <th>District</th>\n",
       "      <th>Life expectancy(In Years)</th>\n",
       "      <th>Per Capita Income(In USD)</th>\n",
       "      <th>Literacy Rate</th>\n",
       "    </tr>\n",
       "  </thead>\n",
       "  <tbody>\n",
       "    <tr>\n",
       "      <th>16</th>\n",
       "      <td>Lalitpur</td>\n",
       "      <td>70.30</td>\n",
       "      <td>1894.0</td>\n",
       "      <td>82.5</td>\n",
       "    </tr>\n",
       "    <tr>\n",
       "      <th>37</th>\n",
       "      <td>Kathmandu</td>\n",
       "      <td>68.55</td>\n",
       "      <td>2764.0</td>\n",
       "      <td>86.3</td>\n",
       "    </tr>\n",
       "    <tr>\n",
       "      <th>67</th>\n",
       "      <td>Mustang</td>\n",
       "      <td>65.04</td>\n",
       "      <td>1922.0</td>\n",
       "      <td>66.2</td>\n",
       "    </tr>\n",
       "    <tr>\n",
       "      <th>68</th>\n",
       "      <td>Manang</td>\n",
       "      <td>65.04</td>\n",
       "      <td>3166.0</td>\n",
       "      <td>74.8</td>\n",
       "    </tr>\n",
       "  </tbody>\n",
       "</table>\n",
       "</div>"
      ],
      "text/plain": [
       "     District  Life expectancy(In Years)  Per Capita Income(In USD)  \\\n",
       "16   Lalitpur                      70.30                     1894.0   \n",
       "37  Kathmandu                      68.55                     2764.0   \n",
       "67    Mustang                      65.04                     1922.0   \n",
       "68     Manang                      65.04                     3166.0   \n",
       "\n",
       "    Literacy Rate  \n",
       "16           82.5  \n",
       "37           86.3  \n",
       "67           66.2  \n",
       "68           74.8  "
      ]
     },
     "execution_count": 33,
     "metadata": {},
     "output_type": "execute_result"
    }
   ],
   "source": [
    "upper_quartile = np.percentile(district_df['Per Capita Income(In USD)'], 75)\n",
    "print('Upper Quartile: ', upper_quartile)\n",
    "lower_quartile = np.percentile(district_df['Per Capita Income(In USD)'], 25)\n",
    "iqr = upper_quartile - lower_quartile\n",
    "district_df[district_df['Per Capita Income(In USD)'] > (upper_quartile + (1.5*iqr))]"
   ]
  },
  {
   "cell_type": "markdown",
   "metadata": {},
   "source": [
    "## Standardization"
   ]
  },
  {
   "cell_type": "code",
   "execution_count": 34,
   "metadata": {},
   "outputs": [],
   "source": [
    "from sklearn.preprocessing import StandardScaler"
   ]
  },
  {
   "cell_type": "code",
   "execution_count": 35,
   "metadata": {},
   "outputs": [
    {
     "data": {
      "text/plain": [
       "(75, 3)"
      ]
     },
     "execution_count": 35,
     "metadata": {},
     "output_type": "execute_result"
    }
   ],
   "source": [
    "scaler = StandardScaler()\n",
    "X = district_df.drop(columns=['District'])\n",
    "scaler.fit(X)\n",
    "scaled_data = scaler.transform(X)\n",
    "scaled_data.shape"
   ]
  },
  {
   "cell_type": "code",
   "execution_count": 36,
   "metadata": {},
   "outputs": [
    {
     "data": {
      "text/html": [
       "<div>\n",
       "<style scoped>\n",
       "    .dataframe tbody tr th:only-of-type {\n",
       "        vertical-align: middle;\n",
       "    }\n",
       "\n",
       "    .dataframe tbody tr th {\n",
       "        vertical-align: top;\n",
       "    }\n",
       "\n",
       "    .dataframe thead th {\n",
       "        text-align: right;\n",
       "    }\n",
       "</style>\n",
       "<table border=\"1\" class=\"dataframe\">\n",
       "  <thead>\n",
       "    <tr style=\"text-align: right;\">\n",
       "      <th></th>\n",
       "      <th>0</th>\n",
       "      <th>1</th>\n",
       "      <th>2</th>\n",
       "    </tr>\n",
       "  </thead>\n",
       "  <tbody>\n",
       "    <tr>\n",
       "      <th>count</th>\n",
       "      <td>75.0000</td>\n",
       "      <td>75.0000</td>\n",
       "      <td>75.0000</td>\n",
       "    </tr>\n",
       "    <tr>\n",
       "      <th>mean</th>\n",
       "      <td>-0.0000</td>\n",
       "      <td>0.0000</td>\n",
       "      <td>-0.0000</td>\n",
       "    </tr>\n",
       "    <tr>\n",
       "      <th>std</th>\n",
       "      <td>1.0067</td>\n",
       "      <td>1.0067</td>\n",
       "      <td>1.0067</td>\n",
       "    </tr>\n",
       "    <tr>\n",
       "      <th>min</th>\n",
       "      <td>-3.2218</td>\n",
       "      <td>-1.3471</td>\n",
       "      <td>-2.4724</td>\n",
       "    </tr>\n",
       "    <tr>\n",
       "      <th>25%</th>\n",
       "      <td>-0.5010</td>\n",
       "      <td>-0.6415</td>\n",
       "      <td>-0.8514</td>\n",
       "    </tr>\n",
       "    <tr>\n",
       "      <th>50%</th>\n",
       "      <td>0.0647</td>\n",
       "      <td>-0.1655</td>\n",
       "      <td>0.1149</td>\n",
       "    </tr>\n",
       "    <tr>\n",
       "      <th>75%</th>\n",
       "      <td>0.7980</td>\n",
       "      <td>0.3162</td>\n",
       "      <td>0.7168</td>\n",
       "    </tr>\n",
       "    <tr>\n",
       "      <th>max</th>\n",
       "      <td>2.0098</td>\n",
       "      <td>4.7403</td>\n",
       "      <td>2.2375</td>\n",
       "    </tr>\n",
       "  </tbody>\n",
       "</table>\n",
       "</div>"
      ],
      "text/plain": [
       "             0        1        2\n",
       "count  75.0000  75.0000  75.0000\n",
       "mean   -0.0000   0.0000  -0.0000\n",
       "std     1.0067   1.0067   1.0067\n",
       "min    -3.2218  -1.3471  -2.4724\n",
       "25%    -0.5010  -0.6415  -0.8514\n",
       "50%     0.0647  -0.1655   0.1149\n",
       "75%     0.7980   0.3162   0.7168\n",
       "max     2.0098   4.7403   2.2375"
      ]
     },
     "execution_count": 36,
     "metadata": {},
     "output_type": "execute_result"
    }
   ],
   "source": [
    "pd.DataFrame(scaled_data).describe().round(4)"
   ]
  },
  {
   "cell_type": "markdown",
   "metadata": {},
   "source": [
    "## Clustering"
   ]
  },
  {
   "cell_type": "markdown",
   "metadata": {},
   "source": [
    "### 1. DBSCAN "
   ]
  },
  {
   "cell_type": "code",
   "execution_count": 37,
   "metadata": {},
   "outputs": [],
   "source": [
    "from sklearn.cluster import DBSCAN\n",
    "from sklearn.neighbors import NearestNeighbors"
   ]
  },
  {
   "cell_type": "code",
   "execution_count": 38,
   "metadata": {},
   "outputs": [
    {
     "data": {
      "text/plain": [
       "(75, 9)"
      ]
     },
     "execution_count": 38,
     "metadata": {},
     "output_type": "execute_result"
    }
   ],
   "source": [
    "neighbors = NearestNeighbors(n_neighbors=9)\n",
    "nbrs = neighbors.fit(scaled_data)\n",
    "distances, indices = nbrs.kneighbors(scaled_data)\n",
    "distances.shape"
   ]
  },
  {
   "cell_type": "code",
   "execution_count": 39,
   "metadata": {},
   "outputs": [
    {
     "data": {
      "text/plain": [
       "[<matplotlib.lines.Line2D at 0x1a1fd19d68>]"
      ]
     },
     "execution_count": 39,
     "metadata": {},
     "output_type": "execute_result"
    },
    {
     "data": {
      "image/png": "[encoded data removed]",
      "text/plain": [
       "<Figure size 432x288 with 1 Axes>"
      ]
     },
     "metadata": {
      "needs_background": "light"
     },
     "output_type": "display_data"
    }
   ],
   "source": [
    "distances = np.sort(distances, axis=0)\n",
    "distances_ = distances[:, 8]\n",
    "plt.plot(distances_)"
   ]
  },
  {
   "cell_type": "code",
   "execution_count": 40,
   "metadata": {},
   "outputs": [],
   "source": [
    "min_samples = 4 # Rule of thumb - use dimension (no. of columns) + 1\n",
    "eps = 1.75"
   ]
  },
  {
   "cell_type": "markdown",
   "metadata": {},
   "source": [
    "## Visualize the clusters"
   ]
  },
  {
   "cell_type": "code",
   "execution_count": 41,
   "metadata": {},
   "outputs": [],
   "source": [
    "from collections import Counter\n",
    "from sklearn.decomposition import PCA\n",
    "import plotly.express as px"
   ]
  },
  {
   "cell_type": "code",
   "execution_count": 63,
   "metadata": {},
   "outputs": [],
   "source": [
    "def visualize_clusters(eps, min_samples):\n",
    "    dbscan = DBSCAN(eps=eps, min_samples=min_samples)\n",
    "    dbscan.fit(scaled_data)\n",
    "    district_df['DBSCAN Label'] = dbscan.labels_\n",
    "    counter = Counter(district_df['DBSCAN Label'])\n",
    "    print(counter)\n",
    "    \n",
    "    pca = PCA(n_components=2, random_state=101)\n",
    "    pca = pca.fit(scaled_data)\n",
    "    scaled_transformed = pca.transform(scaled_data)\n",
    "    \n",
    "    plot_data = pd.DataFrame(scaled_transformed, columns = ['C1', 'C2'])\n",
    "    plot_data['Label'] = dbscan.labels_\n",
    "    plot_data['District'] = district_df['District'].tolist()\n",
    "    \n",
    "    fig = px.scatter(plot_data, x='C1', y='C2', color='Label', hover_data=['District'])\n",
    "    fig.show()\n",
    "    \n",
    "    return counter.keys()"
   ]
  },
  {
   "cell_type": "code",
   "execution_count": 64,
   "metadata": {},
   "outputs": [
    {
     "name": "stdout",
     "output_type": "stream",
     "text": [
      "Counter({0: 73, -1: 2})\n"
     ]
    },
    {
     "data": {
      "application/vnd.plotly.v1+json": {
       "config": {
        "plotlyServerURL": "https://plot.ly"
       },
       "data": [
        {
         "customdata": [
          [
           "Ramechhap"
          ],
          [
           "Gorkha"
          ],
          [
           "Saptari"
          ],
          [
           "Siraha"
          ],
          [
           "Rautahat"
          ],
          [
           "Lamjung"
          ],
          [
           "Rasuwa"
          ],
          [
           "Dhading"
          ],
          [
           "Kavrepalanchok"
          ],
          [
           "Dolakha"
          ],
          [
           "Nuwakot"
          ],
          [
           "Okhaldhunga"
          ],
          [
           "Parbat"
          ],
          [
           "Kaski"
          ],
          [
           "Bara"
          ],
          [
           "Bhaktapur"
          ],
          [
           "Lalitpur"
          ],
          [
           "Parsa"
          ],
          [
           "Khotang"
          ],
          [
           "Tanahu"
          ],
          [
           "Sarlahi"
          ],
          [
           "Myagdi"
          ],
          [
           "Sindhuli"
          ],
          [
           "Chitwan"
          ],
          [
           "Syangja"
          ],
          [
           "Sindhupalchok"
          ],
          [
           "Dhanusa"
          ],
          [
           "Mahottari"
          ],
          [
           "Udayapur"
          ],
          [
           "Morang"
          ],
          [
           "Darchula"
          ],
          [
           "Dhankuta"
          ],
          [
           "Baitadi"
          ],
          [
           "Solukhumbu"
          ],
          [
           "Baglung"
          ],
          [
           "Salyan"
          ],
          [
           "Arghakhanchi"
          ],
          [
           "Kathmandu"
          ],
          [
           "Sankhuwasabha"
          ],
          [
           "Rukum"
          ],
          [
           "Banke"
          ],
          [
           "Sunsari"
          ],
          [
           "Bhojpur"
          ],
          [
           "Rupandehi"
          ],
          [
           "Palpa"
          ],
          [
           "Panchthar"
          ],
          [
           "Gulmi"
          ],
          [
           "Makwanpur"
          ],
          [
           "Tehrathum"
          ],
          [
           "Dailekh"
          ],
          [
           "Ilam"
          ],
          [
           "Dadeldhura"
          ],
          [
           "Nawalparasi"
          ],
          [
           "Kapilbastu"
          ],
          [
           "Dang"
          ],
          [
           "Jhapa"
          ],
          [
           "Surkhet"
          ],
          [
           "Bardiya"
          ],
          [
           "Achham"
          ],
          [
           "Kanchanpur"
          ],
          [
           "Doti"
          ],
          [
           "Kailali"
          ],
          [
           "Jajarkot"
          ],
          [
           "Rolpa"
          ],
          [
           "Taplejung"
          ],
          [
           "Mugu"
          ],
          [
           "Bajhang"
          ],
          [
           "Mustang"
          ],
          [
           "Manang"
          ],
          [
           "Pyuthan"
          ],
          [
           "Humla"
          ],
          [
           "Bajura"
          ],
          [
           "Kalikot"
          ],
          [
           "Jumla"
          ],
          [
           "Dolpa"
          ]
         ],
         "hovertemplate": "C1=%{x}<br>C2=%{y}<br>District=%{customdata[0]}<br>Label=%{marker.color}<extra></extra>",
         "legendgroup": "",
         "marker": {
          "color": [
           0,
           0,
           0,
           0,
           0,
           0,
           0,
           0,
           0,
           0,
           0,
           0,
           0,
           0,
           0,
           0,
           0,
           0,
           0,
           0,
           0,
           0,
           0,
           0,
           0,
           0,
           0,
           0,
           0,
           0,
           0,
           0,
           0,
           0,
           0,
           0,
           0,
           -1,
           0,
           0,
           0,
           0,
           0,
           0,
           0,
           0,
           0,
           0,
           0,
           0,
           0,
           0,
           0,
           0,
           0,
           0,
           0,
           0,
           0,
           0,
           0,
           0,
           0,
           0,
           0,
           0,
           0,
           0,
           -1,
           0,
           0,
           0,
           0,
           0,
           0
          ],
          "coloraxis": "coloraxis",
          "symbol": "circle"
         },
         "mode": "markers",
         "name": "",
         "showlegend": false,
         "type": "scatter",
         "x": [
          0.11015667764998524,
          0.4053727285896925,
          -0.8622509584755365,
          -1.353550664579631,
          -1.9040785163013418,
          0.8930887654266298,
          0.12525786974677577,
          -0.02733410793563116,
          1.11572745144665,
          -0.12782627016160636,
          -0.09974662210651108,
          0.009026057380781076,
          0.7795478834036355,
          2.242955466359527,
          -0.10028350179016562,
          1.9092290497600577,
          2.7367631038525237,
          -0.23892965952266437,
          0.5614380882816572,
          0.8955539924829182,
          -1.5963583501493586,
          0.6060726233047607,
          -0.5427719520338545,
          1.7276920220656313,
          1.192991892766106,
          -0.22104145526311408,
          -1.1607019479510967,
          -1.8537008101151757,
          0.1262782100610445,
          0.7375689322187072,
          -0.5990047591271433,
          1.0228440114936999,
          -0.8766078876531401,
          1.1502472113925997,
          0.21942987527035476,
          -0.48617296232203844,
          0.30214156219334076,
          4.146013146085425,
          0.48813459046369917,
          -0.6783772451986063,
          -0.12269078448246623,
          0.27553355127768625,
          0.17282875951899002,
          0.39489100569858987,
          0.6477971558540522,
          0.5165951269708163,
          0.006906961883862376,
          0.672225438926391,
          1.171356820799132,
          -0.8411930469361463,
          1.1566297557184708,
          -0.5292467593183462,
          0.4644455134587486,
          -0.9806485134385157,
          0.32639248295347134,
          0.823811051023782,
          0.19353775865910441,
          -0.10208186505489844,
          -1.6673264513574138,
          0.03671538071894544,
          -1.3047610954851256,
          -0.34990994951941584,
          -1.515411250553023,
          -1.2890215210021796,
          0.5110566990004521,
          -1.6638263152130768,
          -1.9720111670446694,
          0.9817493953105728,
          3.5174420315021924,
          -0.9457418650627097,
          -2.193968571118506,
          -2.0599561774386275,
          -1.9277441248394303,
          -1.4807394837087904,
          -1.6984294887115063
         ],
         "xaxis": "x",
         "y": [
          -2.0413094987379004,
          -1.4247721584378945,
          -1.5509302823637925,
          -1.646060506882542,
          -1.584414193742313,
          -0.9554328913927871,
          -0.9717615180238524,
          -1.138039668369485,
          -0.8170787445429135,
          -1.1688208857164357,
          -1.0964353470189927,
          -1.004505254011677,
          -0.851748610602865,
          -0.4185747845346949,
          -0.8379368242692324,
          -0.5170197821143799,
          -0.13924644531968033,
          -0.8268964592975723,
          -0.7135236080053613,
          -0.6297650575328383,
          -1.0980470413514334,
          -0.6519416095309831,
          -0.9055597934836979,
          -0.18539269542363138,
          -0.32896527894440203,
          -0.5522578305440898,
          -0.746449363517943,
          -0.9153235279638191,
          -0.42463617756327415,
          -0.1124003552927766,
          -0.5289628212649096,
          -0.05746955515877982,
          -0.5161666864724678,
          0.23534546523603364,
          -0.21764391937570232,
          -0.3492152830429469,
          -0.06973364965606915,
          1.151042125898869,
          0.11083404772082464,
          -0.19881829321873906,
          0.02005764059115078,
          0.08814670908870613,
          0.03887832631611499,
          0.1322232371352693,
          0.14257130872775856,
          0.21700545145490044,
          0.04379865546438249,
          0.36074247564139333,
          0.4620214106486869,
          -0.09433294853915841,
          0.4563777428240795,
          0.041490077331488066,
          0.37020393000508184,
          0.1858151491323287,
          0.5534411305672431,
          0.686151607451382,
          0.48793809393046705,
          0.49949040336710826,
          0.12030259877129218,
          0.559312857984227,
          0.433961196189556,
          0.7734255415598308,
          0.47915362242279513,
          0.6038611785961868,
          1.3156848131995227,
          0.9267103983984487,
          0.9169160128962361,
          1.9353769513881562,
          2.743865602437532,
          1.5507154385206312,
          1.4531071469724195,
          1.4973876439441096,
          1.662466146866861,
          2.0932637196450274,
          2.93850349293593
         ],
         "yaxis": "y"
        }
       ],
       "layout": {
        "coloraxis": {
         "colorbar": {
          "title": {
           "text": "Label"
          }
         },
         "colorscale": [
          [
           0,
           "#0d0887"
          ],
          [
           0.1111111111111111,
           "#46039f"
          ],
          [
           0.2222222222222222,
           "#7201a8"
          ],
          [
           0.3333333333333333,
           "#9c179e"
          ],
          [
           0.4444444444444444,
           "#bd3786"
          ],
          [
           0.5555555555555556,
           "#d8576b"
          ],
          [
           0.6666666666666666,
           "#ed7953"
          ],
          [
           0.7777777777777778,
           "#fb9f3a"
          ],
          [
           0.8888888888888888,
           "#fdca26"
          ],
          [
           1,
           "#f0f921"
          ]
         ]
        },
        "legend": {
         "tracegroupgap": 0
        },
        "margin": {
         "t": 60
        },
        "template": {
         "data": {
          "bar": [
           {
            "error_x": {
             "color": "#2a3f5f"
            },
            "error_y": {
             "color": "#2a3f5f"
            },
            "marker": {
             "line": {
              "color": "#E5ECF6",
              "width": 0.5
             }
            },
            "type": "bar"
           }
          ],
          "barpolar": [
           {
            "marker": {
             "line": {
              "color": "#E5ECF6",
              "width": 0.5
             }
            },
            "type": "barpolar"
           }
          ],
          "carpet": [
           {
            "aaxis": {
             "endlinecolor": "#2a3f5f",
             "gridcolor": "white",
             "linecolor": "white",
             "minorgridcolor": "white",
             "startlinecolor": "#2a3f5f"
            },
            "baxis": {
             "endlinecolor": "#2a3f5f",
             "gridcolor": "white",
             "linecolor": "white",
             "minorgridcolor": "white",
             "startlinecolor": "#2a3f5f"
            },
            "type": "carpet"
           }
          ],
          "choropleth": [
           {
            "colorbar": {
             "outlinewidth": 0,
             "ticks": ""
            },
            "type": "choropleth"
           }
          ],
          "contour": [
           {
            "colorbar": {
             "outlinewidth": 0,
             "ticks": ""
            },
            "colorscale": [
             [
              0,
              "#0d0887"
             ],
             [
              0.1111111111111111,
              "#46039f"
             ],
             [
              0.2222222222222222,
              "#7201a8"
             ],
             [
              0.3333333333333333,
              "#9c179e"
             ],
             [
              0.4444444444444444,
              "#bd3786"
             ],
             [
              0.5555555555555556,
              "#d8576b"
             ],
             [
              0.6666666666666666,
              "#ed7953"
             ],
             [
              0.7777777777777778,
              "#fb9f3a"
             ],
             [
              0.8888888888888888,
              "#fdca26"
             ],
             [
              1,
              "#f0f921"
             ]
            ],
            "type": "contour"
           }
          ],
          "contourcarpet": [
           {
            "colorbar": {
             "outlinewidth": 0,
             "ticks": ""
            },
            "type": "contourcarpet"
           }
          ],
          "heatmap": [
           {
            "colorbar": {
             "outlinewidth": 0,
             "ticks": ""
            },
            "colorscale": [
             [
              0,
              "#0d0887"
             ],
             [
              0.1111111111111111,
              "#46039f"
             ],
             [
              0.2222222222222222,
              "#7201a8"
             ],
             [
              0.3333333333333333,
              "#9c179e"
             ],
             [
              0.4444444444444444,
              "#bd3786"
             ],
             [
              0.5555555555555556,
              "#d8576b"
             ],
             [
              0.6666666666666666,
              "#ed7953"
             ],
             [
              0.7777777777777778,
              "#fb9f3a"
             ],
             [
              0.8888888888888888,
              "#fdca26"
             ],
             [
              1,
              "#f0f921"
             ]
            ],
            "type": "heatmap"
           }
          ],
          "heatmapgl": [
           {
            "colorbar": {
             "outlinewidth": 0,
             "ticks": ""
            },
            "colorscale": [
             [
              0,
              "#0d0887"
             ],
             [
              0.1111111111111111,
              "#46039f"
             ],
             [
              0.2222222222222222,
              "#7201a8"
             ],
             [
              0.3333333333333333,
              "#9c179e"
             ],
             [
              0.4444444444444444,
              "#bd3786"
             ],
             [
              0.5555555555555556,
              "#d8576b"
             ],
             [
              0.6666666666666666,
              "#ed7953"
             ],
             [
              0.7777777777777778,
              "#fb9f3a"
             ],
             [
              0.8888888888888888,
              "#fdca26"
             ],
             [
              1,
              "#f0f921"
             ]
            ],
            "type": "heatmapgl"
           }
          ],
          "histogram": [
           {
            "marker": {
             "colorbar": {
              "outlinewidth": 0,
              "ticks": ""
             }
            },
            "type": "histogram"
           }
          ],
          "histogram2d": [
           {
            "colorbar": {
             "outlinewidth": 0,
             "ticks": ""
            },
            "colorscale": [
             [
              0,
              "#0d0887"
             ],
             [
              0.1111111111111111,
              "#46039f"
             ],
             [
              0.2222222222222222,
              "#7201a8"
             ],
             [
              0.3333333333333333,
              "#9c179e"
             ],
             [
              0.4444444444444444,
              "#bd3786"
             ],
             [
              0.5555555555555556,
              "#d8576b"
             ],
             [
              0.6666666666666666,
              "#ed7953"
             ],
             [
              0.7777777777777778,
              "#fb9f3a"
             ],
             [
              0.8888888888888888,
              "#fdca26"
             ],
             [
              1,
              "#f0f921"
             ]
            ],
            "type": "histogram2d"
           }
          ],
          "histogram2dcontour": [
           {
            "colorbar": {
             "outlinewidth": 0,
             "ticks": ""
            },
            "colorscale": [
             [
              0,
              "#0d0887"
             ],
             [
              0.1111111111111111,
              "#46039f"
             ],
             [
              0.2222222222222222,
              "#7201a8"
             ],
             [
              0.3333333333333333,
              "#9c179e"
             ],
             [
              0.4444444444444444,
              "#bd3786"
             ],
             [
              0.5555555555555556,
              "#d8576b"
             ],
             [
              0.6666666666666666,
              "#ed7953"
             ],
             [
              0.7777777777777778,
              "#fb9f3a"
             ],
             [
              0.8888888888888888,
              "#fdca26"
             ],
             [
              1,
              "#f0f921"
             ]
            ],
            "type": "histogram2dcontour"
           }
          ],
          "mesh3d": [
           {
            "colorbar": {
             "outlinewidth": 0,
             "ticks": ""
            },
            "type": "mesh3d"
           }
          ],
          "parcoords": [
           {
            "line": {
             "colorbar": {
              "outlinewidth": 0,
              "ticks": ""
             }
            },
            "type": "parcoords"
           }
          ],
          "pie": [
           {
            "automargin": true,
            "type": "pie"
           }
          ],
          "scatter": [
           {
            "marker": {
             "colorbar": {
              "outlinewidth": 0,
              "ticks": ""
             }
            },
            "type": "scatter"
           }
          ],
          "scatter3d": [
           {
            "line": {
             "colorbar": {
              "outlinewidth": 0,
              "ticks": ""
             }
            },
            "marker": {
             "colorbar": {
              "outlinewidth": 0,
              "ticks": ""
             }
            },
            "type": "scatter3d"
           }
          ],
          "scattercarpet": [
           {
            "marker": {
             "colorbar": {
              "outlinewidth": 0,
              "ticks": ""
             }
            },
            "type": "scattercarpet"
           }
          ],
          "scattergeo": [
           {
            "marker": {
             "colorbar": {
              "outlinewidth": 0,
              "ticks": ""
             }
            },
            "type": "scattergeo"
           }
          ],
          "scattergl": [
           {
            "marker": {
             "colorbar": {
              "outlinewidth": 0,
              "ticks": ""
             }
            },
            "type": "scattergl"
           }
          ],
          "scattermapbox": [
           {
            "marker": {
             "colorbar": {
              "outlinewidth": 0,
              "ticks": ""
             }
            },
            "type": "scattermapbox"
           }
          ],
          "scatterpolar": [
           {
            "marker": {
             "colorbar": {
              "outlinewidth": 0,
              "ticks": ""
             }
            },
            "type": "scatterpolar"
           }
          ],
          "scatterpolargl": [
           {
            "marker": {
             "colorbar": {
              "outlinewidth": 0,
              "ticks": ""
             }
            },
            "type": "scatterpolargl"
           }
          ],
          "scatterternary": [
           {
            "marker": {
             "colorbar": {
              "outlinewidth": 0,
              "ticks": ""
             }
            },
            "type": "scatterternary"
           }
          ],
          "surface": [
           {
            "colorbar": {
             "outlinewidth": 0,
             "ticks": ""
            },
            "colorscale": [
             [
              0,
              "#0d0887"
             ],
             [
              0.1111111111111111,
              "#46039f"
             ],
             [
              0.2222222222222222,
              "#7201a8"
             ],
             [
              0.3333333333333333,
              "#9c179e"
             ],
             [
              0.4444444444444444,
              "#bd3786"
             ],
             [
              0.5555555555555556,
              "#d8576b"
             ],
             [
              0.6666666666666666,
              "#ed7953"
             ],
             [
              0.7777777777777778,
              "#fb9f3a"
             ],
             [
              0.8888888888888888,
              "#fdca26"
             ],
             [
              1,
              "#f0f921"
             ]
            ],
            "type": "surface"
           }
          ],
          "table": [
           {
            "cells": {
             "fill": {
              "color": "#EBF0F8"
             },
             "line": {
              "color": "white"
             }
            },
            "header": {
             "fill": {
              "color": "#C8D4E3"
             },
             "line": {
              "color": "white"
             }
            },
            "type": "table"
           }
          ]
         },
         "layout": {
          "annotationdefaults": {
           "arrowcolor": "#2a3f5f",
           "arrowhead": 0,
           "arrowwidth": 1
          },
          "coloraxis": {
           "colorbar": {
            "outlinewidth": 0,
            "ticks": ""
           }
          },
          "colorscale": {
           "diverging": [
            [
             0,
             "#8e0152"
            ],
            [
             0.1,
             "#c51b7d"
            ],
            [
             0.2,
             "#de77ae"
            ],
            [
             0.3,
             "#f1b6da"
            ],
            [
             0.4,
             "#fde0ef"
            ],
            [
             0.5,
             "#f7f7f7"
            ],
            [
             0.6,
             "#e6f5d0"
            ],
            [
             0.7,
             "#b8e186"
            ],
            [
             0.8,
             "#7fbc41"
            ],
            [
             0.9,
             "#4d9221"
            ],
            [
             1,
             "#276419"
            ]
           ],
           "sequential": [
            [
             0,
             "#0d0887"
            ],
            [
             0.1111111111111111,
             "#46039f"
            ],
            [
             0.2222222222222222,
             "#7201a8"
            ],
            [
             0.3333333333333333,
             "#9c179e"
            ],
            [
             0.4444444444444444,
             "#bd3786"
            ],
            [
             0.5555555555555556,
             "#d8576b"
            ],
            [
             0.6666666666666666,
             "#ed7953"
            ],
            [
             0.7777777777777778,
             "#fb9f3a"
            ],
            [
             0.8888888888888888,
             "#fdca26"
            ],
            [
             1,
             "#f0f921"
            ]
           ],
           "sequentialminus": [
            [
             0,
             "#0d0887"
            ],
            [
             0.1111111111111111,
             "#46039f"
            ],
            [
             0.2222222222222222,
             "#7201a8"
            ],
            [
             0.3333333333333333,
             "#9c179e"
            ],
            [
             0.4444444444444444,
             "#bd3786"
            ],
            [
             0.5555555555555556,
             "#d8576b"
            ],
            [
             0.6666666666666666,
             "#ed7953"
            ],
            [
             0.7777777777777778,
             "#fb9f3a"
            ],
            [
             0.8888888888888888,
             "#fdca26"
            ],
            [
             1,
             "#f0f921"
            ]
           ]
          },
          "colorway": [
           "#636efa",
           "#EF553B",
           "#00cc96",
           "#ab63fa",
           "#FFA15A",
           "#19d3f3",
           "#FF6692",
           "#B6E880",
           "#FF97FF",
           "#FECB52"
          ],
          "font": {
           "color": "#2a3f5f"
          },
          "geo": {
           "bgcolor": "white",
           "lakecolor": "white",
           "landcolor": "#E5ECF6",
           "showlakes": true,
           "showland": true,
           "subunitcolor": "white"
          },
          "hoverlabel": {
           "align": "left"
          },
          "hovermode": "closest",
          "mapbox": {
           "style": "light"
          },
          "paper_bgcolor": "white",
          "plot_bgcolor": "#E5ECF6",
          "polar": {
           "angularaxis": {
            "gridcolor": "white",
            "linecolor": "white",
            "ticks": ""
           },
           "bgcolor": "#E5ECF6",
           "radialaxis": {
            "gridcolor": "white",
            "linecolor": "white",
            "ticks": ""
           }
          },
          "scene": {
           "xaxis": {
            "backgroundcolor": "#E5ECF6",
            "gridcolor": "white",
            "gridwidth": 2,
            "linecolor": "white",
            "showbackground": true,
            "ticks": "",
            "zerolinecolor": "white"
           },
           "yaxis": {
            "backgroundcolor": "#E5ECF6",
            "gridcolor": "white",
            "gridwidth": 2,
            "linecolor": "white",
            "showbackground": true,
            "ticks": "",
            "zerolinecolor": "white"
           },
           "zaxis": {
            "backgroundcolor": "#E5ECF6",
            "gridcolor": "white",
            "gridwidth": 2,
            "linecolor": "white",
            "showbackground": true,
            "ticks": "",
            "zerolinecolor": "white"
           }
          },
          "shapedefaults": {
           "line": {
            "color": "#2a3f5f"
           }
          },
          "ternary": {
           "aaxis": {
            "gridcolor": "white",
            "linecolor": "white",
            "ticks": ""
           },
           "baxis": {
            "gridcolor": "white",
            "linecolor": "white",
            "ticks": ""
           },
           "bgcolor": "#E5ECF6",
           "caxis": {
            "gridcolor": "white",
            "linecolor": "white",
            "ticks": ""
           }
          },
          "title": {
           "x": 0.05
          },
          "xaxis": {
           "automargin": true,
           "gridcolor": "white",
           "linecolor": "white",
           "ticks": "",
           "title": {
            "standoff": 15
           },
           "zerolinecolor": "white",
           "zerolinewidth": 2
          },
          "yaxis": {
           "automargin": true,
           "gridcolor": "white",
           "linecolor": "white",
           "ticks": "",
           "title": {
            "standoff": 15
           },
           "zerolinecolor": "white",
           "zerolinewidth": 2
          }
         }
        },
        "xaxis": {
         "anchor": "y",
         "domain": [
          0,
          1
         ],
         "title": {
          "text": "C1"
         }
        },
        "yaxis": {
         "anchor": "x",
         "domain": [
          0,
          1
         ],
         "title": {
          "text": "C2"
         }
        }
       }
      },
      "text/html": [
       "<div>\n",
       "        \n",
       "        \n",
       "            <div id=\"79d9f952-1ead-4b98-994b-9a894228ea6a\" class=\"plotly-graph-div\" style=\"height:525px; width:100%;\"></div>\n",
       "            <script type=\"text/javascript\">\n",
       "                require([\"plotly\"], function(Plotly) {\n",
       "                    window.PLOTLYENV=window.PLOTLYENV || {};\n",
       "                    \n",
       "                if (document.getElementById(\"79d9f952-1ead-4b98-994b-9a894228ea6a\")) {\n",
       "                    Plotly.newPlot(\n",
       "                        '79d9f952-1ead-4b98-994b-9a894228ea6a',\n",
       "                        [{\"customdata\": [[\"Ramechhap\"], [\"Gorkha\"], [\"Saptari\"], [\"Siraha\"], [\"Rautahat\"], [\"Lamjung\"], [\"Rasuwa\"], [\"Dhading\"], [\"Kavrepalanchok\"], [\"Dolakha\"], [\"Nuwakot\"], [\"Okhaldhunga\"], [\"Parbat\"], [\"Kaski\"], [\"Bara\"], [\"Bhaktapur\"], [\"Lalitpur\"], [\"Parsa\"], [\"Khotang\"], [\"Tanahu\"], [\"Sarlahi\"], [\"Myagdi\"], [\"Sindhuli\"], [\"Chitwan\"], [\"Syangja\"], [\"Sindhupalchok\"], [\"Dhanusa\"], [\"Mahottari\"], [\"Udayapur\"], [\"Morang\"], [\"Darchula\"], [\"Dhankuta\"], [\"Baitadi\"], [\"Solukhumbu\"], [\"Baglung\"], [\"Salyan\"], [\"Arghakhanchi\"], [\"Kathmandu\"], [\"Sankhuwasabha\"], [\"Rukum\"], [\"Banke\"], [\"Sunsari\"], [\"Bhojpur\"], [\"Rupandehi\"], [\"Palpa\"], [\"Panchthar\"], [\"Gulmi\"], [\"Makwanpur\"], [\"Tehrathum\"], [\"Dailekh\"], [\"Ilam\"], [\"Dadeldhura\"], [\"Nawalparasi\"], [\"Kapilbastu\"], [\"Dang\"], [\"Jhapa\"], [\"Surkhet\"], [\"Bardiya\"], [\"Achham\"], [\"Kanchanpur\"], [\"Doti\"], [\"Kailali\"], [\"Jajarkot\"], [\"Rolpa\"], [\"Taplejung\"], [\"Mugu\"], [\"Bajhang\"], [\"Mustang\"], [\"Manang\"], [\"Pyuthan\"], [\"Humla\"], [\"Bajura\"], [\"Kalikot\"], [\"Jumla\"], [\"Dolpa\"]], \"hovertemplate\": \"C1=%{x}<br>C2=%{y}<br>District=%{customdata[0]}<br>Label=%{marker.color}<extra></extra>\", \"legendgroup\": \"\", \"marker\": {\"color\": [0, 0, 0, 0, 0, 0, 0, 0, 0, 0, 0, 0, 0, 0, 0, 0, 0, 0, 0, 0, 0, 0, 0, 0, 0, 0, 0, 0, 0, 0, 0, 0, 0, 0, 0, 0, 0, -1, 0, 0, 0, 0, 0, 0, 0, 0, 0, 0, 0, 0, 0, 0, 0, 0, 0, 0, 0, 0, 0, 0, 0, 0, 0, 0, 0, 0, 0, 0, -1, 0, 0, 0, 0, 0, 0], \"coloraxis\": \"coloraxis\", \"symbol\": \"circle\"}, \"mode\": \"markers\", \"name\": \"\", \"showlegend\": false, \"type\": \"scatter\", \"x\": [0.11015667764998524, 0.4053727285896925, -0.8622509584755365, -1.353550664579631, -1.9040785163013418, 0.8930887654266298, 0.12525786974677577, -0.02733410793563116, 1.11572745144665, -0.12782627016160636, -0.09974662210651108, 0.009026057380781076, 0.7795478834036355, 2.242955466359527, -0.10028350179016562, 1.9092290497600577, 2.7367631038525237, -0.23892965952266437, 0.5614380882816572, 0.8955539924829182, -1.5963583501493586, 0.6060726233047607, -0.5427719520338545, 1.7276920220656313, 1.192991892766106, -0.22104145526311408, -1.1607019479510967, -1.8537008101151757, 0.1262782100610445, 0.7375689322187072, -0.5990047591271433, 1.0228440114936999, -0.8766078876531401, 1.1502472113925997, 0.21942987527035476, -0.48617296232203844, 0.30214156219334076, 4.146013146085425, 0.48813459046369917, -0.6783772451986063, -0.12269078448246623, 0.27553355127768625, 0.17282875951899002, 0.39489100569858987, 0.6477971558540522, 0.5165951269708163, 0.006906961883862376, 0.672225438926391, 1.171356820799132, -0.8411930469361463, 1.1566297557184708, -0.5292467593183462, 0.4644455134587486, -0.9806485134385157, 0.32639248295347134, 0.823811051023782, 0.19353775865910441, -0.10208186505489844, -1.6673264513574138, 0.03671538071894544, -1.3047610954851256, -0.34990994951941584, -1.515411250553023, -1.2890215210021796, 0.5110566990004521, -1.6638263152130768, -1.9720111670446694, 0.9817493953105728, 3.5174420315021924, -0.9457418650627097, -2.193968571118506, -2.0599561774386275, -1.9277441248394303, -1.4807394837087904, -1.6984294887115063], \"xaxis\": \"x\", \"y\": [-2.0413094987379004, -1.4247721584378945, -1.5509302823637925, -1.646060506882542, -1.584414193742313, -0.9554328913927871, -0.9717615180238524, -1.138039668369485, -0.8170787445429135, -1.1688208857164357, -1.0964353470189927, -1.004505254011677, -0.851748610602865, -0.4185747845346949, -0.8379368242692324, -0.5170197821143799, -0.13924644531968033, -0.8268964592975723, -0.7135236080053613, -0.6297650575328383, -1.0980470413514334, -0.6519416095309831, -0.9055597934836979, -0.18539269542363138, -0.32896527894440203, -0.5522578305440898, -0.746449363517943, -0.9153235279638191, -0.42463617756327415, -0.1124003552927766, -0.5289628212649096, -0.05746955515877982, -0.5161666864724678, 0.23534546523603364, -0.21764391937570232, -0.3492152830429469, -0.06973364965606915, 1.151042125898869, 0.11083404772082464, -0.19881829321873906, 0.02005764059115078, 0.08814670908870613, 0.03887832631611499, 0.1322232371352693, 0.14257130872775856, 0.21700545145490044, 0.04379865546438249, 0.36074247564139333, 0.4620214106486869, -0.09433294853915841, 0.4563777428240795, 0.041490077331488066, 0.37020393000508184, 0.1858151491323287, 0.5534411305672431, 0.686151607451382, 0.48793809393046705, 0.49949040336710826, 0.12030259877129218, 0.559312857984227, 0.433961196189556, 0.7734255415598308, 0.47915362242279513, 0.6038611785961868, 1.3156848131995227, 0.9267103983984487, 0.9169160128962361, 1.9353769513881562, 2.743865602437532, 1.5507154385206312, 1.4531071469724195, 1.4973876439441096, 1.662466146866861, 2.0932637196450274, 2.93850349293593], \"yaxis\": \"y\"}],\n",
       "                        {\"coloraxis\": {\"colorbar\": {\"title\": {\"text\": \"Label\"}}, \"colorscale\": [[0.0, \"#0d0887\"], [0.1111111111111111, \"#46039f\"], [0.2222222222222222, \"#7201a8\"], [0.3333333333333333, \"#9c179e\"], [0.4444444444444444, \"#bd3786\"], [0.5555555555555556, \"#d8576b\"], [0.6666666666666666, \"#ed7953\"], [0.7777777777777778, \"#fb9f3a\"], [0.8888888888888888, \"#fdca26\"], [1.0, \"#f0f921\"]]}, \"legend\": {\"tracegroupgap\": 0}, \"margin\": {\"t\": 60}, \"template\": {\"data\": {\"bar\": [{\"error_x\": {\"color\": \"#2a3f5f\"}, \"error_y\": {\"color\": \"#2a3f5f\"}, \"marker\": {\"line\": {\"color\": \"#E5ECF6\", \"width\": 0.5}}, \"type\": \"bar\"}], \"barpolar\": [{\"marker\": {\"line\": {\"color\": \"#E5ECF6\", \"width\": 0.5}}, \"type\": \"barpolar\"}], \"carpet\": [{\"aaxis\": {\"endlinecolor\": \"#2a3f5f\", \"gridcolor\": \"white\", \"linecolor\": \"white\", \"minorgridcolor\": \"white\", \"startlinecolor\": \"#2a3f5f\"}, \"baxis\": {\"endlinecolor\": \"#2a3f5f\", \"gridcolor\": \"white\", \"linecolor\": \"white\", \"minorgridcolor\": \"white\", \"startlinecolor\": \"#2a3f5f\"}, \"type\": \"carpet\"}], \"choropleth\": [{\"colorbar\": {\"outlinewidth\": 0, \"ticks\": \"\"}, \"type\": \"choropleth\"}], \"contour\": [{\"colorbar\": {\"outlinewidth\": 0, \"ticks\": \"\"}, \"colorscale\": [[0.0, \"#0d0887\"], [0.1111111111111111, \"#46039f\"], [0.2222222222222222, \"#7201a8\"], [0.3333333333333333, \"#9c179e\"], [0.4444444444444444, \"#bd3786\"], [0.5555555555555556, \"#d8576b\"], [0.6666666666666666, \"#ed7953\"], [0.7777777777777778, \"#fb9f3a\"], [0.8888888888888888, \"#fdca26\"], [1.0, \"#f0f921\"]], \"type\": \"contour\"}], \"contourcarpet\": [{\"colorbar\": {\"outlinewidth\": 0, \"ticks\": \"\"}, \"type\": \"contourcarpet\"}], \"heatmap\": [{\"colorbar\": {\"outlinewidth\": 0, \"ticks\": \"\"}, \"colorscale\": [[0.0, \"#0d0887\"], [0.1111111111111111, \"#46039f\"], [0.2222222222222222, \"#7201a8\"], [0.3333333333333333, \"#9c179e\"], [0.4444444444444444, \"#bd3786\"], [0.5555555555555556, \"#d8576b\"], [0.6666666666666666, \"#ed7953\"], [0.7777777777777778, \"#fb9f3a\"], [0.8888888888888888, \"#fdca26\"], [1.0, \"#f0f921\"]], \"type\": \"heatmap\"}], \"heatmapgl\": [{\"colorbar\": {\"outlinewidth\": 0, \"ticks\": \"\"}, \"colorscale\": [[0.0, \"#0d0887\"], [0.1111111111111111, \"#46039f\"], [0.2222222222222222, \"#7201a8\"], [0.3333333333333333, \"#9c179e\"], [0.4444444444444444, \"#bd3786\"], [0.5555555555555556, \"#d8576b\"], [0.6666666666666666, \"#ed7953\"], [0.7777777777777778, \"#fb9f3a\"], [0.8888888888888888, \"#fdca26\"], [1.0, \"#f0f921\"]], \"type\": \"heatmapgl\"}], \"histogram\": [{\"marker\": {\"colorbar\": {\"outlinewidth\": 0, \"ticks\": \"\"}}, \"type\": \"histogram\"}], \"histogram2d\": [{\"colorbar\": {\"outlinewidth\": 0, \"ticks\": \"\"}, \"colorscale\": [[0.0, \"#0d0887\"], [0.1111111111111111, \"#46039f\"], [0.2222222222222222, \"#7201a8\"], [0.3333333333333333, \"#9c179e\"], [0.4444444444444444, \"#bd3786\"], [0.5555555555555556, \"#d8576b\"], [0.6666666666666666, \"#ed7953\"], [0.7777777777777778, \"#fb9f3a\"], [0.8888888888888888, \"#fdca26\"], [1.0, \"#f0f921\"]], \"type\": \"histogram2d\"}], \"histogram2dcontour\": [{\"colorbar\": {\"outlinewidth\": 0, \"ticks\": \"\"}, \"colorscale\": [[0.0, \"#0d0887\"], [0.1111111111111111, \"#46039f\"], [0.2222222222222222, \"#7201a8\"], [0.3333333333333333, \"#9c179e\"], [0.4444444444444444, \"#bd3786\"], [0.5555555555555556, \"#d8576b\"], [0.6666666666666666, \"#ed7953\"], [0.7777777777777778, \"#fb9f3a\"], [0.8888888888888888, \"#fdca26\"], [1.0, \"#f0f921\"]], \"type\": \"histogram2dcontour\"}], \"mesh3d\": [{\"colorbar\": {\"outlinewidth\": 0, \"ticks\": \"\"}, \"type\": \"mesh3d\"}], \"parcoords\": [{\"line\": {\"colorbar\": {\"outlinewidth\": 0, \"ticks\": \"\"}}, \"type\": \"parcoords\"}], \"pie\": [{\"automargin\": true, \"type\": \"pie\"}], \"scatter\": [{\"marker\": {\"colorbar\": {\"outlinewidth\": 0, \"ticks\": \"\"}}, \"type\": \"scatter\"}], \"scatter3d\": [{\"line\": {\"colorbar\": {\"outlinewidth\": 0, \"ticks\": \"\"}}, \"marker\": {\"colorbar\": {\"outlinewidth\": 0, \"ticks\": \"\"}}, \"type\": \"scatter3d\"}], \"scattercarpet\": [{\"marker\": {\"colorbar\": {\"outlinewidth\": 0, \"ticks\": \"\"}}, \"type\": \"scattercarpet\"}], \"scattergeo\": [{\"marker\": {\"colorbar\": {\"outlinewidth\": 0, \"ticks\": \"\"}}, \"type\": \"scattergeo\"}], \"scattergl\": [{\"marker\": {\"colorbar\": {\"outlinewidth\": 0, \"ticks\": \"\"}}, \"type\": \"scattergl\"}], \"scattermapbox\": [{\"marker\": {\"colorbar\": {\"outlinewidth\": 0, \"ticks\": \"\"}}, \"type\": \"scattermapbox\"}], \"scatterpolar\": [{\"marker\": {\"colorbar\": {\"outlinewidth\": 0, \"ticks\": \"\"}}, \"type\": \"scatterpolar\"}], \"scatterpolargl\": [{\"marker\": {\"colorbar\": {\"outlinewidth\": 0, \"ticks\": \"\"}}, \"type\": \"scatterpolargl\"}], \"scatterternary\": [{\"marker\": {\"colorbar\": {\"outlinewidth\": 0, \"ticks\": \"\"}}, \"type\": \"scatterternary\"}], \"surface\": [{\"colorbar\": {\"outlinewidth\": 0, \"ticks\": \"\"}, \"colorscale\": [[0.0, \"#0d0887\"], [0.1111111111111111, \"#46039f\"], [0.2222222222222222, \"#7201a8\"], [0.3333333333333333, \"#9c179e\"], [0.4444444444444444, \"#bd3786\"], [0.5555555555555556, \"#d8576b\"], [0.6666666666666666, \"#ed7953\"], [0.7777777777777778, \"#fb9f3a\"], [0.8888888888888888, \"#fdca26\"], [1.0, \"#f0f921\"]], \"type\": \"surface\"}], \"table\": [{\"cells\": {\"fill\": {\"color\": \"#EBF0F8\"}, \"line\": {\"color\": \"white\"}}, \"header\": {\"fill\": {\"color\": \"#C8D4E3\"}, \"line\": {\"color\": \"white\"}}, \"type\": \"table\"}]}, \"layout\": {\"annotationdefaults\": {\"arrowcolor\": \"#2a3f5f\", \"arrowhead\": 0, \"arrowwidth\": 1}, \"coloraxis\": {\"colorbar\": {\"outlinewidth\": 0, \"ticks\": \"\"}}, \"colorscale\": {\"diverging\": [[0, \"#8e0152\"], [0.1, \"#c51b7d\"], [0.2, \"#de77ae\"], [0.3, \"#f1b6da\"], [0.4, \"#fde0ef\"], [0.5, \"#f7f7f7\"], [0.6, \"#e6f5d0\"], [0.7, \"#b8e186\"], [0.8, \"#7fbc41\"], [0.9, \"#4d9221\"], [1, \"#276419\"]], \"sequential\": [[0.0, \"#0d0887\"], [0.1111111111111111, \"#46039f\"], [0.2222222222222222, \"#7201a8\"], [0.3333333333333333, \"#9c179e\"], [0.4444444444444444, \"#bd3786\"], [0.5555555555555556, \"#d8576b\"], [0.6666666666666666, \"#ed7953\"], [0.7777777777777778, \"#fb9f3a\"], [0.8888888888888888, \"#fdca26\"], [1.0, \"#f0f921\"]], \"sequentialminus\": [[0.0, \"#0d0887\"], [0.1111111111111111, \"#46039f\"], [0.2222222222222222, \"#7201a8\"], [0.3333333333333333, \"#9c179e\"], [0.4444444444444444, \"#bd3786\"], [0.5555555555555556, \"#d8576b\"], [0.6666666666666666, \"#ed7953\"], [0.7777777777777778, \"#fb9f3a\"], [0.8888888888888888, \"#fdca26\"], [1.0, \"#f0f921\"]]}, \"colorway\": [\"#636efa\", \"#EF553B\", \"#00cc96\", \"#ab63fa\", \"#FFA15A\", \"#19d3f3\", \"#FF6692\", \"#B6E880\", \"#FF97FF\", \"#FECB52\"], \"font\": {\"color\": \"#2a3f5f\"}, \"geo\": {\"bgcolor\": \"white\", \"lakecolor\": \"white\", \"landcolor\": \"#E5ECF6\", \"showlakes\": true, \"showland\": true, \"subunitcolor\": \"white\"}, \"hoverlabel\": {\"align\": \"left\"}, \"hovermode\": \"closest\", \"mapbox\": {\"style\": \"light\"}, \"paper_bgcolor\": \"white\", \"plot_bgcolor\": \"#E5ECF6\", \"polar\": {\"angularaxis\": {\"gridcolor\": \"white\", \"linecolor\": \"white\", \"ticks\": \"\"}, \"bgcolor\": \"#E5ECF6\", \"radialaxis\": {\"gridcolor\": \"white\", \"linecolor\": \"white\", \"ticks\": \"\"}}, \"scene\": {\"xaxis\": {\"backgroundcolor\": \"#E5ECF6\", \"gridcolor\": \"white\", \"gridwidth\": 2, \"linecolor\": \"white\", \"showbackground\": true, \"ticks\": \"\", \"zerolinecolor\": \"white\"}, \"yaxis\": {\"backgroundcolor\": \"#E5ECF6\", \"gridcolor\": \"white\", \"gridwidth\": 2, \"linecolor\": \"white\", \"showbackground\": true, \"ticks\": \"\", \"zerolinecolor\": \"white\"}, \"zaxis\": {\"backgroundcolor\": \"#E5ECF6\", \"gridcolor\": \"white\", \"gridwidth\": 2, \"linecolor\": \"white\", \"showbackground\": true, \"ticks\": \"\", \"zerolinecolor\": \"white\"}}, \"shapedefaults\": {\"line\": {\"color\": \"#2a3f5f\"}}, \"ternary\": {\"aaxis\": {\"gridcolor\": \"white\", \"linecolor\": \"white\", \"ticks\": \"\"}, \"baxis\": {\"gridcolor\": \"white\", \"linecolor\": \"white\", \"ticks\": \"\"}, \"bgcolor\": \"#E5ECF6\", \"caxis\": {\"gridcolor\": \"white\", \"linecolor\": \"white\", \"ticks\": \"\"}}, \"title\": {\"x\": 0.05}, \"xaxis\": {\"automargin\": true, \"gridcolor\": \"white\", \"linecolor\": \"white\", \"ticks\": \"\", \"title\": {\"standoff\": 15}, \"zerolinecolor\": \"white\", \"zerolinewidth\": 2}, \"yaxis\": {\"automargin\": true, \"gridcolor\": \"white\", \"linecolor\": \"white\", \"ticks\": \"\", \"title\": {\"standoff\": 15}, \"zerolinecolor\": \"white\", \"zerolinewidth\": 2}}}, \"xaxis\": {\"anchor\": \"y\", \"domain\": [0.0, 1.0], \"title\": {\"text\": \"C1\"}}, \"yaxis\": {\"anchor\": \"x\", \"domain\": [0.0, 1.0], \"title\": {\"text\": \"C2\"}}},\n",
       "                        {\"responsive\": true}\n",
       "                    ).then(function(){\n",
       "                            \n",
       "var gd = document.getElementById('79d9f952-1ead-4b98-994b-9a894228ea6a');\n",
       "var x = new MutationObserver(function (mutations, observer) {{\n",
       "        var display = window.getComputedStyle(gd).display;\n",
       "        if (!display || display === 'none') {{\n",
       "            console.log([gd, 'removed!']);\n",
       "            Plotly.purge(gd);\n",
       "            observer.disconnect();\n",
       "        }}\n",
       "}});\n",
       "\n",
       "// Listen for the removal of the full notebook cells\n",
       "var notebookContainer = gd.closest('#notebook-container');\n",
       "if (notebookContainer) {{\n",
       "    x.observe(notebookContainer, {childList: true});\n",
       "}}\n",
       "\n",
       "// Listen for the clearing of the current output cell\n",
       "var outputEl = gd.closest('.output');\n",
       "if (outputEl) {{\n",
       "    x.observe(outputEl, {childList: true});\n",
       "}}\n",
       "\n",
       "                        })\n",
       "                };\n",
       "                });\n",
       "            </script>\n",
       "        </div>"
      ]
     },
     "metadata": {},
     "output_type": "display_data"
    },
    {
     "data": {
      "text/plain": [
       "dict_keys([0, -1])"
      ]
     },
     "execution_count": 64,
     "metadata": {},
     "output_type": "execute_result"
    }
   ],
   "source": [
    "visualize_clusters(eps, min_samples)"
   ]
  },
  {
   "cell_type": "code",
   "execution_count": 71,
   "metadata": {},
   "outputs": [
    {
     "name": "stdout",
     "output_type": "stream",
     "text": [
      "min_samples:  3 , eps:  0.1\n",
      "Counter({-1: 75})\n",
      "\n",
      "min_samples:  3 , eps:  0.15000000000000002\n",
      "Counter({-1: 75})\n",
      "\n",
      "min_samples:  3 , eps:  0.20000000000000004\n",
      "Counter({-1: 72, 0: 3})\n",
      "\n",
      "min_samples:  3 , eps:  0.25000000000000006\n",
      "Counter({-1: 69, 0: 3, 1: 3})\n",
      "\n",
      "min_samples:  3 , eps:  0.30000000000000004\n",
      "Counter({-1: 62, 1: 7, 0: 3, 2: 3})\n",
      "\n",
      "min_samples:  3 , eps:  0.3500000000000001\n",
      "Counter({-1: 58, 2: 8, 0: 3, 1: 3, 3: 3})\n",
      "\n",
      "min_samples:  3 , eps:  0.40000000000000013\n",
      "Counter({-1: 54, 2: 8, 3: 4, 0: 3, 1: 3, 4: 3})\n",
      "\n",
      "min_samples:  3 , eps:  0.45000000000000007\n",
      "Counter({-1: 39, 1: 22, 2: 6, 0: 4, 3: 4})\n",
      "\n",
      "min_samples:  3 , eps:  0.5000000000000001\n",
      "Counter({-1: 38, 1: 22, 2: 6, 0: 5, 3: 4})\n",
      "\n",
      "min_samples:  3 , eps:  0.5500000000000002\n",
      "Counter({-1: 30, 0: 29, 1: 6, 2: 6, 3: 4})\n",
      "\n",
      "min_samples:  3 , eps:  0.6000000000000002\n",
      "Counter({1: 30, -1: 21, 0: 8, 3: 6, 4: 4, 2: 3, 5: 3})\n",
      "\n",
      "min_samples:  3 , eps:  0.6500000000000001\n",
      "Counter({0: 44, -1: 20, 2: 8, 1: 3})\n",
      "\n",
      "min_samples:  3 , eps:  0.7000000000000002\n",
      "Counter({0: 44, -1: 16, 3: 8, 2: 4, 1: 3})\n",
      "\n",
      "min_samples:  3 , eps:  0.7500000000000002\n",
      "Counter({0: 50, -1: 11, 2: 8, 1: 6})\n",
      "\n",
      "min_samples:  3 , eps:  0.8000000000000002\n",
      "Counter({0: 52, 2: 10, -1: 7, 1: 6})\n",
      "\n",
      "min_samples:  3 , eps:  0.8500000000000002\n",
      "Counter({0: 62, -1: 7, 1: 6})\n",
      "\n",
      "min_samples:  3 , eps:  0.9000000000000002\n",
      "Counter({0: 68, -1: 7})\n",
      "\n",
      "min_samples:  3 , eps:  0.9500000000000003\n",
      "Counter({0: 68, -1: 7})\n",
      "\n",
      "min_samples:  3 , eps:  1.0000000000000004\n",
      "Counter({0: 70, -1: 5})\n",
      "\n",
      "min_samples:  3 , eps:  1.0500000000000003\n",
      "Counter({0: 70, -1: 5})\n",
      "\n",
      "min_samples:  3 , eps:  1.1000000000000005\n",
      "Counter({0: 70, -1: 5})\n",
      "\n",
      "min_samples:  3 , eps:  1.1500000000000004\n",
      "Counter({0: 72, -1: 3})\n",
      "\n",
      "min_samples:  3 , eps:  1.2000000000000004\n",
      "Counter({0: 72, -1: 3})\n",
      "\n",
      "min_samples:  3 , eps:  1.2500000000000004\n",
      "Counter({0: 72, -1: 3})\n",
      "\n",
      "min_samples:  3 , eps:  1.3000000000000005\n",
      "Counter({0: 72, -1: 3})\n",
      "\n",
      "min_samples:  3 , eps:  1.3500000000000005\n",
      "Counter({0: 72, -1: 3})\n",
      "\n",
      "min_samples:  3 , eps:  1.4000000000000006\n",
      "Counter({0: 72, -1: 3})\n",
      "\n",
      "min_samples:  3 , eps:  1.4500000000000006\n",
      "Counter({0: 72, -1: 3})\n",
      "\n",
      "min_samples:  3 , eps:  1.5000000000000004\n",
      "Counter({0: 72, -1: 3})\n",
      "\n",
      "min_samples:  3 , eps:  1.5500000000000005\n",
      "Counter({0: 73, -1: 2})\n",
      "\n",
      "min_samples:  3 , eps:  1.6000000000000005\n",
      "Counter({0: 73, -1: 2})\n",
      "\n",
      "min_samples:  3 , eps:  1.6500000000000006\n",
      "Counter({0: 73, -1: 2})\n",
      "\n",
      "min_samples:  3 , eps:  1.7000000000000006\n",
      "Counter({0: 73, -1: 2})\n",
      "\n",
      "min_samples:  3 , eps:  1.7500000000000007\n",
      "Counter({0: 73, -1: 2})\n",
      "\n",
      "min_samples:  3 , eps:  1.8000000000000007\n",
      "Counter({0: 73, -1: 2})\n",
      "\n",
      "min_samples:  3 , eps:  1.8500000000000008\n",
      "Counter({0: 73, -1: 2})\n",
      "\n",
      "min_samples:  3 , eps:  1.9000000000000008\n",
      "Counter({0: 73, -1: 2})\n",
      "\n",
      "min_samples:  3 , eps:  1.9500000000000006\n",
      "Counter({0: 73, -1: 2})\n",
      "\n",
      "min_samples:  3 , eps:  2.0000000000000004\n",
      "Counter({0: 73, -1: 2})\n",
      "\n",
      "min_samples:  3 , eps:  2.0500000000000007\n",
      "Counter({0: 73, -1: 2})\n",
      "\n",
      "min_samples:  3 , eps:  2.100000000000001\n",
      "Counter({0: 73, -1: 2})\n",
      "\n",
      "min_samples:  3 , eps:  2.150000000000001\n",
      "Counter({0: 73, -1: 2})\n",
      "\n",
      "min_samples:  3 , eps:  2.2000000000000006\n",
      "Counter({0: 75})\n",
      "\n",
      "min_samples:  3 , eps:  2.250000000000001\n",
      "Counter({0: 75})\n",
      "\n",
      "min_samples:  3 , eps:  2.3000000000000007\n",
      "Counter({0: 75})\n",
      "\n",
      "min_samples:  3 , eps:  2.350000000000001\n",
      "Counter({0: 75})\n",
      "\n",
      "min_samples:  3 , eps:  2.400000000000001\n",
      "Counter({0: 75})\n",
      "\n",
      "min_samples:  3 , eps:  2.450000000000001\n",
      "Counter({0: 75})\n",
      "\n",
      "min_samples:  3 , eps:  2.500000000000001\n",
      "Counter({0: 75})\n",
      "\n",
      "min_samples:  3 , eps:  2.5500000000000007\n",
      "Counter({0: 75})\n",
      "\n",
      "min_samples:  3 , eps:  2.600000000000001\n",
      "Counter({0: 75})\n",
      "\n",
      "min_samples:  3 , eps:  2.650000000000001\n",
      "Counter({0: 75})\n",
      "\n",
      "min_samples:  3 , eps:  2.700000000000001\n",
      "Counter({0: 75})\n",
      "\n",
      "min_samples:  3 , eps:  2.750000000000001\n",
      "Counter({0: 75})\n",
      "\n",
      "min_samples:  3 , eps:  2.800000000000001\n",
      "Counter({0: 75})\n",
      "\n",
      "min_samples:  3 , eps:  2.850000000000001\n",
      "Counter({0: 75})\n",
      "\n",
      "min_samples:  3 , eps:  2.900000000000001\n",
      "Counter({0: 75})\n",
      "\n",
      "min_samples:  3 , eps:  2.950000000000001\n",
      "Counter({0: 75})\n",
      "\n",
      "min_samples:  3 , eps:  3.000000000000001\n",
      "Counter({0: 75})\n",
      "\n",
      "min_samples:  3 , eps:  3.050000000000001\n",
      "Counter({0: 75})\n",
      "\n",
      "min_samples:  3 , eps:  3.100000000000001\n",
      "Counter({0: 75})\n",
      "\n",
      "min_samples:  3 , eps:  3.1500000000000012\n",
      "Counter({0: 75})\n",
      "\n",
      "min_samples:  3 , eps:  3.200000000000001\n",
      "Counter({0: 75})\n",
      "\n",
      "min_samples:  3 , eps:  3.2500000000000013\n",
      "Counter({0: 75})\n",
      "\n",
      "min_samples:  3 , eps:  3.300000000000001\n",
      "Counter({0: 75})\n",
      "\n",
      "min_samples:  3 , eps:  3.350000000000001\n",
      "Counter({0: 75})\n",
      "\n",
      "min_samples:  3 , eps:  3.4000000000000012\n",
      "Counter({0: 75})\n",
      "\n",
      "min_samples:  3 , eps:  3.450000000000001\n",
      "Counter({0: 75})\n",
      "\n",
      "min_samples:  3 , eps:  3.5000000000000013\n",
      "Counter({0: 75})\n",
      "\n",
      "min_samples:  3 , eps:  3.550000000000001\n",
      "Counter({0: 75})\n",
      "\n",
      "min_samples:  3 , eps:  3.6000000000000014\n",
      "Counter({0: 75})\n",
      "\n",
      "min_samples:  3 , eps:  3.6500000000000012\n",
      "Counter({0: 75})\n",
      "\n",
      "min_samples:  3 , eps:  3.7000000000000015\n",
      "Counter({0: 75})\n",
      "\n",
      "min_samples:  3 , eps:  3.7500000000000013\n",
      "Counter({0: 75})\n",
      "\n",
      "min_samples:  3 , eps:  3.800000000000001\n",
      "Counter({0: 75})\n",
      "\n",
      "min_samples:  3 , eps:  3.8500000000000014\n",
      "Counter({0: 75})\n",
      "\n",
      "min_samples:  3 , eps:  3.9000000000000012\n",
      "Counter({0: 75})\n",
      "\n",
      "min_samples:  3 , eps:  3.9500000000000015\n",
      "Counter({0: 75})\n",
      "\n",
      "min_samples:  3 , eps:  4.000000000000001\n",
      "Counter({0: 75})\n",
      "\n",
      "min_samples:  3 , eps:  4.050000000000002\n",
      "Counter({0: 75})\n",
      "\n",
      "min_samples:  3 , eps:  4.100000000000001\n",
      "Counter({0: 75})\n",
      "\n",
      "min_samples:  3 , eps:  4.150000000000001\n",
      "Counter({0: 75})\n",
      "\n",
      "min_samples:  3 , eps:  4.200000000000001\n",
      "Counter({0: 75})\n",
      "\n",
      "min_samples:  3 , eps:  4.250000000000001\n",
      "Counter({0: 75})\n",
      "\n",
      "min_samples:  3 , eps:  4.300000000000001\n",
      "Counter({0: 75})\n",
      "\n",
      "min_samples:  3 , eps:  4.350000000000001\n",
      "Counter({0: 75})\n",
      "\n",
      "min_samples:  3 , eps:  4.400000000000001\n",
      "Counter({0: 75})\n",
      "\n",
      "min_samples:  3 , eps:  4.450000000000001\n",
      "Counter({0: 75})\n",
      "\n",
      "min_samples:  3 , eps:  4.500000000000001\n",
      "Counter({0: 75})\n",
      "\n",
      "min_samples:  3 , eps:  4.550000000000001\n",
      "Counter({0: 75})\n",
      "\n",
      "min_samples:  3 , eps:  4.600000000000001\n",
      "Counter({0: 75})\n",
      "\n",
      "min_samples:  3 , eps:  4.650000000000001\n",
      "Counter({0: 75})\n",
      "\n",
      "min_samples:  3 , eps:  4.700000000000001\n",
      "Counter({0: 75})\n",
      "\n",
      "min_samples:  3 , eps:  4.750000000000001\n",
      "Counter({0: 75})\n",
      "\n",
      "min_samples:  3 , eps:  4.800000000000002\n",
      "Counter({0: 75})\n",
      "\n",
      "min_samples:  3 , eps:  4.850000000000001\n",
      "Counter({0: 75})\n",
      "\n",
      "min_samples:  3 , eps:  4.900000000000001\n",
      "Counter({0: 75})\n",
      "\n",
      "min_samples:  3 , eps:  4.950000000000001\n",
      "Counter({0: 75})\n",
      "\n",
      "min_samples:  4 , eps:  0.1\n",
      "Counter({-1: 75})\n",
      "\n",
      "min_samples:  4 , eps:  0.15000000000000002\n",
      "Counter({-1: 75})\n",
      "\n",
      "min_samples:  4 , eps:  0.20000000000000004\n",
      "Counter({-1: 75})\n",
      "\n",
      "min_samples:  4 , eps:  0.25000000000000006\n",
      "Counter({-1: 75})\n",
      "\n",
      "min_samples:  4 , eps:  0.30000000000000004\n",
      "Counter({-1: 68, 0: 7})\n",
      "\n",
      "min_samples:  4 , eps:  0.3500000000000001\n",
      "Counter({-1: 67, 0: 8})\n",
      "\n",
      "min_samples:  4 , eps:  0.40000000000000013\n",
      "Counter({-1: 67, 0: 8})\n",
      "\n",
      "min_samples:  4 , eps:  0.45000000000000007\n",
      "Counter({-1: 43, 2: 14, 1: 5, 3: 5, 0: 4, 4: 4})\n",
      "\n",
      "min_samples:  4 , eps:  0.5000000000000001\n",
      "Counter({-1: 40, 2: 15, 3: 6, 0: 5, 1: 5, 4: 4})\n",
      "\n",
      "min_samples:  4 , eps:  0.5500000000000002\n",
      "Counter({-1: 32, 0: 27, 1: 6, 2: 6, 3: 4})\n",
      "\n",
      "min_samples:  4 , eps:  0.6000000000000002\n",
      "Counter({1: 30, -1: 27, 0: 8, 2: 6, 3: 4})\n",
      "\n",
      "min_samples:  4 , eps:  0.6500000000000001\n",
      "Counter({0: 44, -1: 25, 1: 6})\n",
      "\n",
      "min_samples:  4 , eps:  0.7000000000000002\n",
      "Counter({0: 44, -1: 21, 2: 6, 1: 4})\n",
      "\n",
      "min_samples:  4 , eps:  0.7500000000000002\n",
      "Counter({0: 49, -1: 13, 2: 8, 1: 5})\n",
      "\n",
      "min_samples:  4 , eps:  0.8000000000000002\n",
      "Counter({0: 52, -1: 9, 2: 9, 1: 5})\n",
      "\n",
      "min_samples:  4 , eps:  0.8500000000000002\n",
      "Counter({0: 61, -1: 9, 1: 5})\n",
      "\n",
      "min_samples:  4 , eps:  0.9000000000000002\n",
      "Counter({0: 63, -1: 8, 1: 4})\n",
      "\n",
      "min_samples:  4 , eps:  0.9500000000000003\n",
      "Counter({0: 68, -1: 7})\n",
      "\n",
      "min_samples:  4 , eps:  1.0000000000000004\n",
      "Counter({0: 68, -1: 7})\n",
      "\n",
      "min_samples:  4 , eps:  1.0500000000000003\n",
      "Counter({0: 70, -1: 5})\n",
      "\n",
      "min_samples:  4 , eps:  1.1000000000000005\n",
      "Counter({0: 70, -1: 5})\n",
      "\n",
      "min_samples:  4 , eps:  1.1500000000000004\n",
      "Counter({0: 72, -1: 3})\n",
      "\n",
      "min_samples:  4 , eps:  1.2000000000000004\n",
      "Counter({0: 72, -1: 3})\n",
      "\n",
      "min_samples:  4 , eps:  1.2500000000000004\n",
      "Counter({0: 72, -1: 3})\n",
      "\n",
      "min_samples:  4 , eps:  1.3000000000000005\n",
      "Counter({0: 72, -1: 3})\n",
      "\n",
      "min_samples:  4 , eps:  1.3500000000000005\n",
      "Counter({0: 72, -1: 3})\n",
      "\n",
      "min_samples:  4 , eps:  1.4000000000000006\n",
      "Counter({0: 72, -1: 3})\n",
      "\n",
      "min_samples:  4 , eps:  1.4500000000000006\n",
      "Counter({0: 72, -1: 3})\n",
      "\n",
      "min_samples:  4 , eps:  1.5000000000000004\n",
      "Counter({0: 72, -1: 3})\n",
      "\n",
      "min_samples:  4 , eps:  1.5500000000000005\n",
      "Counter({0: 73, -1: 2})\n",
      "\n",
      "min_samples:  4 , eps:  1.6000000000000005\n",
      "Counter({0: 73, -1: 2})\n",
      "\n",
      "min_samples:  4 , eps:  1.6500000000000006\n",
      "Counter({0: 73, -1: 2})\n",
      "\n",
      "min_samples:  4 , eps:  1.7000000000000006\n",
      "Counter({0: 73, -1: 2})\n",
      "\n",
      "min_samples:  4 , eps:  1.7500000000000007\n",
      "Counter({0: 73, -1: 2})\n",
      "\n",
      "min_samples:  4 , eps:  1.8000000000000007\n",
      "Counter({0: 73, -1: 2})\n",
      "\n",
      "min_samples:  4 , eps:  1.8500000000000008\n",
      "Counter({0: 73, -1: 2})\n",
      "\n",
      "min_samples:  4 , eps:  1.9000000000000008\n",
      "Counter({0: 73, -1: 2})\n",
      "\n",
      "min_samples:  4 , eps:  1.9500000000000006\n",
      "Counter({0: 73, -1: 2})\n",
      "\n",
      "min_samples:  4 , eps:  2.0000000000000004\n",
      "Counter({0: 73, -1: 2})\n",
      "\n",
      "min_samples:  4 , eps:  2.0500000000000007\n",
      "Counter({0: 73, -1: 2})\n",
      "\n",
      "min_samples:  4 , eps:  2.100000000000001\n",
      "Counter({0: 73, -1: 2})\n",
      "\n",
      "min_samples:  4 , eps:  2.150000000000001\n",
      "Counter({0: 73, -1: 2})\n",
      "\n",
      "min_samples:  4 , eps:  2.2000000000000006\n",
      "Counter({0: 74, -1: 1})\n",
      "\n",
      "min_samples:  4 , eps:  2.250000000000001\n",
      "Counter({0: 74, -1: 1})\n",
      "\n",
      "min_samples:  4 , eps:  2.3000000000000007\n",
      "Counter({0: 74, -1: 1})\n",
      "\n",
      "min_samples:  4 , eps:  2.350000000000001\n",
      "Counter({0: 74, -1: 1})\n",
      "\n",
      "min_samples:  4 , eps:  2.400000000000001\n",
      "Counter({0: 74, -1: 1})\n",
      "\n",
      "min_samples:  4 , eps:  2.450000000000001\n",
      "Counter({0: 74, -1: 1})\n",
      "\n",
      "min_samples:  4 , eps:  2.500000000000001\n",
      "Counter({0: 74, -1: 1})\n",
      "\n",
      "min_samples:  4 , eps:  2.5500000000000007\n",
      "Counter({0: 74, -1: 1})\n",
      "\n",
      "min_samples:  4 , eps:  2.600000000000001\n",
      "Counter({0: 74, -1: 1})\n",
      "\n",
      "min_samples:  4 , eps:  2.650000000000001\n",
      "Counter({0: 74, -1: 1})\n",
      "\n",
      "min_samples:  4 , eps:  2.700000000000001\n",
      "Counter({0: 74, -1: 1})\n",
      "\n",
      "min_samples:  4 , eps:  2.750000000000001\n",
      "Counter({0: 74, -1: 1})\n",
      "\n",
      "min_samples:  4 , eps:  2.800000000000001\n",
      "Counter({0: 74, -1: 1})\n",
      "\n",
      "min_samples:  4 , eps:  2.850000000000001\n",
      "Counter({0: 74, -1: 1})\n",
      "\n",
      "min_samples:  4 , eps:  2.900000000000001\n",
      "Counter({0: 75})\n",
      "\n",
      "min_samples:  4 , eps:  2.950000000000001\n",
      "Counter({0: 75})\n",
      "\n",
      "min_samples:  4 , eps:  3.000000000000001\n",
      "Counter({0: 75})\n",
      "\n",
      "min_samples:  4 , eps:  3.050000000000001\n",
      "Counter({0: 75})\n",
      "\n",
      "min_samples:  4 , eps:  3.100000000000001\n",
      "Counter({0: 75})\n",
      "\n",
      "min_samples:  4 , eps:  3.1500000000000012\n",
      "Counter({0: 75})\n",
      "\n",
      "min_samples:  4 , eps:  3.200000000000001\n",
      "Counter({0: 75})\n",
      "\n",
      "min_samples:  4 , eps:  3.2500000000000013\n",
      "Counter({0: 75})\n",
      "\n",
      "min_samples:  4 , eps:  3.300000000000001\n",
      "Counter({0: 75})\n",
      "\n",
      "min_samples:  4 , eps:  3.350000000000001\n",
      "Counter({0: 75})\n",
      "\n",
      "min_samples:  4 , eps:  3.4000000000000012\n",
      "Counter({0: 75})\n",
      "\n",
      "min_samples:  4 , eps:  3.450000000000001\n",
      "Counter({0: 75})\n",
      "\n",
      "min_samples:  4 , eps:  3.5000000000000013\n",
      "Counter({0: 75})\n",
      "\n",
      "min_samples:  4 , eps:  3.550000000000001\n",
      "Counter({0: 75})\n",
      "\n",
      "min_samples:  4 , eps:  3.6000000000000014\n",
      "Counter({0: 75})\n",
      "\n",
      "min_samples:  4 , eps:  3.6500000000000012\n",
      "Counter({0: 75})\n",
      "\n",
      "min_samples:  4 , eps:  3.7000000000000015\n",
      "Counter({0: 75})\n",
      "\n",
      "min_samples:  4 , eps:  3.7500000000000013\n",
      "Counter({0: 75})\n",
      "\n",
      "min_samples:  4 , eps:  3.800000000000001\n",
      "Counter({0: 75})\n",
      "\n",
      "min_samples:  4 , eps:  3.8500000000000014\n",
      "Counter({0: 75})\n",
      "\n",
      "min_samples:  4 , eps:  3.9000000000000012\n",
      "Counter({0: 75})\n",
      "\n",
      "min_samples:  4 , eps:  3.9500000000000015\n",
      "Counter({0: 75})\n",
      "\n",
      "min_samples:  4 , eps:  4.000000000000001\n",
      "Counter({0: 75})\n",
      "\n",
      "min_samples:  4 , eps:  4.050000000000002\n",
      "Counter({0: 75})\n",
      "\n",
      "min_samples:  4 , eps:  4.100000000000001\n",
      "Counter({0: 75})\n",
      "\n",
      "min_samples:  4 , eps:  4.150000000000001\n",
      "Counter({0: 75})\n",
      "\n",
      "min_samples:  4 , eps:  4.200000000000001\n",
      "Counter({0: 75})\n",
      "\n",
      "min_samples:  4 , eps:  4.250000000000001\n",
      "Counter({0: 75})\n",
      "\n",
      "min_samples:  4 , eps:  4.300000000000001\n",
      "Counter({0: 75})\n",
      "\n",
      "min_samples:  4 , eps:  4.350000000000001\n",
      "Counter({0: 75})\n",
      "\n",
      "min_samples:  4 , eps:  4.400000000000001\n",
      "Counter({0: 75})\n",
      "\n",
      "min_samples:  4 , eps:  4.450000000000001\n",
      "Counter({0: 75})\n",
      "\n",
      "min_samples:  4 , eps:  4.500000000000001\n",
      "Counter({0: 75})\n",
      "\n",
      "min_samples:  4 , eps:  4.550000000000001\n",
      "Counter({0: 75})\n",
      "\n",
      "min_samples:  4 , eps:  4.600000000000001\n",
      "Counter({0: 75})\n",
      "\n"
     ]
    },
    {
     "name": "stdout",
     "output_type": "stream",
     "text": [
      "min_samples:  4 , eps:  4.650000000000001\n",
      "Counter({0: 75})\n",
      "\n",
      "min_samples:  4 , eps:  4.700000000000001\n",
      "Counter({0: 75})\n",
      "\n",
      "min_samples:  4 , eps:  4.750000000000001\n",
      "Counter({0: 75})\n",
      "\n",
      "min_samples:  4 , eps:  4.800000000000002\n",
      "Counter({0: 75})\n",
      "\n",
      "min_samples:  4 , eps:  4.850000000000001\n",
      "Counter({0: 75})\n",
      "\n",
      "min_samples:  4 , eps:  4.900000000000001\n",
      "Counter({0: 75})\n",
      "\n",
      "min_samples:  4 , eps:  4.950000000000001\n",
      "Counter({0: 75})\n",
      "\n"
     ]
    }
   ],
   "source": [
    "min_samples_set = np.arange(3, 5)\n",
    "eps_set = np.arange(0.1, 5, 0.05)\n",
    "for i in min_samples_set:\n",
    "    for j in eps_set:\n",
    "        dbscan = DBSCAN(eps=j, min_samples=i)\n",
    "        dbscan.fit(scaled_data)\n",
    "        district_df['DBSCAN Label'] = dbscan.labels_\n",
    "        \n",
    "        print('min_samples: ', i, ', eps: ', j)\n",
    "        print(Counter(district_df['DBSCAN Label']))\n",
    "        print('')"
   ]
  },
  {
   "cell_type": "code",
   "execution_count": 65,
   "metadata": {},
   "outputs": [
    {
     "name": "stdout",
     "output_type": "stream",
     "text": [
      "Counter({0: 44, -1: 16, 3: 8, 2: 4, 1: 3})\n"
     ]
    },
    {
     "data": {
      "application/vnd.plotly.v1+json": {
       "config": {
        "plotlyServerURL": "https://plot.ly"
       },
       "data": [
        {
         "customdata": [
          [
           "Ramechhap"
          ],
          [
           "Gorkha"
          ],
          [
           "Saptari"
          ],
          [
           "Siraha"
          ],
          [
           "Rautahat"
          ],
          [
           "Lamjung"
          ],
          [
           "Rasuwa"
          ],
          [
           "Dhading"
          ],
          [
           "Kavrepalanchok"
          ],
          [
           "Dolakha"
          ],
          [
           "Nuwakot"
          ],
          [
           "Okhaldhunga"
          ],
          [
           "Parbat"
          ],
          [
           "Kaski"
          ],
          [
           "Bara"
          ],
          [
           "Bhaktapur"
          ],
          [
           "Lalitpur"
          ],
          [
           "Parsa"
          ],
          [
           "Khotang"
          ],
          [
           "Tanahu"
          ],
          [
           "Sarlahi"
          ],
          [
           "Myagdi"
          ],
          [
           "Sindhuli"
          ],
          [
           "Chitwan"
          ],
          [
           "Syangja"
          ],
          [
           "Sindhupalchok"
          ],
          [
           "Dhanusa"
          ],
          [
           "Mahottari"
          ],
          [
           "Udayapur"
          ],
          [
           "Morang"
          ],
          [
           "Darchula"
          ],
          [
           "Dhankuta"
          ],
          [
           "Baitadi"
          ],
          [
           "Solukhumbu"
          ],
          [
           "Baglung"
          ],
          [
           "Salyan"
          ],
          [
           "Arghakhanchi"
          ],
          [
           "Kathmandu"
          ],
          [
           "Sankhuwasabha"
          ],
          [
           "Rukum"
          ],
          [
           "Banke"
          ],
          [
           "Sunsari"
          ],
          [
           "Bhojpur"
          ],
          [
           "Rupandehi"
          ],
          [
           "Palpa"
          ],
          [
           "Panchthar"
          ],
          [
           "Gulmi"
          ],
          [
           "Makwanpur"
          ],
          [
           "Tehrathum"
          ],
          [
           "Dailekh"
          ],
          [
           "Ilam"
          ],
          [
           "Dadeldhura"
          ],
          [
           "Nawalparasi"
          ],
          [
           "Kapilbastu"
          ],
          [
           "Dang"
          ],
          [
           "Jhapa"
          ],
          [
           "Surkhet"
          ],
          [
           "Bardiya"
          ],
          [
           "Achham"
          ],
          [
           "Kanchanpur"
          ],
          [
           "Doti"
          ],
          [
           "Kailali"
          ],
          [
           "Jajarkot"
          ],
          [
           "Rolpa"
          ],
          [
           "Taplejung"
          ],
          [
           "Mugu"
          ],
          [
           "Bajhang"
          ],
          [
           "Mustang"
          ],
          [
           "Manang"
          ],
          [
           "Pyuthan"
          ],
          [
           "Humla"
          ],
          [
           "Bajura"
          ],
          [
           "Kalikot"
          ],
          [
           "Jumla"
          ],
          [
           "Dolpa"
          ]
         ],
         "hovertemplate": "C1=%{x}<br>C2=%{y}<br>District=%{customdata[0]}<br>Label=%{marker.color}<extra></extra>",
         "legendgroup": "",
         "marker": {
          "color": [
           -1,
           0,
           -1,
           -1,
           2,
           0,
           -1,
           0,
           0,
           0,
           0,
           0,
           0,
           1,
           -1,
           1,
           -1,
           0,
           0,
           0,
           2,
           0,
           0,
           1,
           0,
           0,
           2,
           2,
           0,
           0,
           0,
           0,
           0,
           -1,
           0,
           0,
           0,
           -1,
           0,
           0,
           0,
           0,
           0,
           0,
           0,
           0,
           0,
           0,
           0,
           0,
           0,
           0,
           0,
           3,
           0,
           0,
           0,
           0,
           3,
           0,
           3,
           0,
           3,
           3,
           -1,
           -1,
           3,
           -1,
           -1,
           -1,
           -1,
           3,
           3,
           -1,
           -1
          ],
          "coloraxis": "coloraxis",
          "symbol": "circle"
         },
         "mode": "markers",
         "name": "",
         "showlegend": false,
         "type": "scatter",
         "x": [
          0.11015667764998524,
          0.4053727285896925,
          -0.8622509584755365,
          -1.353550664579631,
          -1.9040785163013418,
          0.8930887654266298,
          0.12525786974677577,
          -0.02733410793563116,
          1.11572745144665,
          -0.12782627016160636,
          -0.09974662210651108,
          0.009026057380781076,
          0.7795478834036355,
          2.242955466359527,
          -0.10028350179016562,
          1.9092290497600577,
          2.7367631038525237,
          -0.23892965952266437,
          0.5614380882816572,
          0.8955539924829182,
          -1.5963583501493586,
          0.6060726233047607,
          -0.5427719520338545,
          1.7276920220656313,
          1.192991892766106,
          -0.22104145526311408,
          -1.1607019479510967,
          -1.8537008101151757,
          0.1262782100610445,
          0.7375689322187072,
          -0.5990047591271433,
          1.0228440114936999,
          -0.8766078876531401,
          1.1502472113925997,
          0.21942987527035476,
          -0.48617296232203844,
          0.30214156219334076,
          4.146013146085425,
          0.48813459046369917,
          -0.6783772451986063,
          -0.12269078448246623,
          0.27553355127768625,
          0.17282875951899002,
          0.39489100569858987,
          0.6477971558540522,
          0.5165951269708163,
          0.006906961883862376,
          0.672225438926391,
          1.171356820799132,
          -0.8411930469361463,
          1.1566297557184708,
          -0.5292467593183462,
          0.4644455134587486,
          -0.9806485134385157,
          0.32639248295347134,
          0.823811051023782,
          0.19353775865910441,
          -0.10208186505489844,
          -1.6673264513574138,
          0.03671538071894544,
          -1.3047610954851256,
          -0.34990994951941584,
          -1.515411250553023,
          -1.2890215210021796,
          0.5110566990004521,
          -1.6638263152130768,
          -1.9720111670446694,
          0.9817493953105728,
          3.5174420315021924,
          -0.9457418650627097,
          -2.193968571118506,
          -2.0599561774386275,
          -1.9277441248394303,
          -1.4807394837087904,
          -1.6984294887115063
         ],
         "xaxis": "x",
         "y": [
          -2.0413094987379004,
          -1.4247721584378945,
          -1.5509302823637925,
          -1.646060506882542,
          -1.584414193742313,
          -0.9554328913927871,
          -0.9717615180238524,
          -1.138039668369485,
          -0.8170787445429135,
          -1.1688208857164357,
          -1.0964353470189927,
          -1.004505254011677,
          -0.851748610602865,
          -0.4185747845346949,
          -0.8379368242692324,
          -0.5170197821143799,
          -0.13924644531968033,
          -0.8268964592975723,
          -0.7135236080053613,
          -0.6297650575328383,
          -1.0980470413514334,
          -0.6519416095309831,
          -0.9055597934836979,
          -0.18539269542363138,
          -0.32896527894440203,
          -0.5522578305440898,
          -0.746449363517943,
          -0.9153235279638191,
          -0.42463617756327415,
          -0.1124003552927766,
          -0.5289628212649096,
          -0.05746955515877982,
          -0.5161666864724678,
          0.23534546523603364,
          -0.21764391937570232,
          -0.3492152830429469,
          -0.06973364965606915,
          1.151042125898869,
          0.11083404772082464,
          -0.19881829321873906,
          0.02005764059115078,
          0.08814670908870613,
          0.03887832631611499,
          0.1322232371352693,
          0.14257130872775856,
          0.21700545145490044,
          0.04379865546438249,
          0.36074247564139333,
          0.4620214106486869,
          -0.09433294853915841,
          0.4563777428240795,
          0.041490077331488066,
          0.37020393000508184,
          0.1858151491323287,
          0.5534411305672431,
          0.686151607451382,
          0.48793809393046705,
          0.49949040336710826,
          0.12030259877129218,
          0.559312857984227,
          0.433961196189556,
          0.7734255415598308,
          0.47915362242279513,
          0.6038611785961868,
          1.3156848131995227,
          0.9267103983984487,
          0.9169160128962361,
          1.9353769513881562,
          2.743865602437532,
          1.5507154385206312,
          1.4531071469724195,
          1.4973876439441096,
          1.662466146866861,
          2.0932637196450274,
          2.93850349293593
         ],
         "yaxis": "y"
        }
       ],
       "layout": {
        "coloraxis": {
         "colorbar": {
          "title": {
           "text": "Label"
          }
         },
         "colorscale": [
          [
           0,
           "#0d0887"
          ],
          [
           0.1111111111111111,
           "#46039f"
          ],
          [
           0.2222222222222222,
           "#7201a8"
          ],
          [
           0.3333333333333333,
           "#9c179e"
          ],
          [
           0.4444444444444444,
           "#bd3786"
          ],
          [
           0.5555555555555556,
           "#d8576b"
          ],
          [
           0.6666666666666666,
           "#ed7953"
          ],
          [
           0.7777777777777778,
           "#fb9f3a"
          ],
          [
           0.8888888888888888,
           "#fdca26"
          ],
          [
           1,
           "#f0f921"
          ]
         ]
        },
        "legend": {
         "tracegroupgap": 0
        },
        "margin": {
         "t": 60
        },
        "template": {
         "data": {
          "bar": [
           {
            "error_x": {
             "color": "#2a3f5f"
            },
            "error_y": {
             "color": "#2a3f5f"
            },
            "marker": {
             "line": {
              "color": "#E5ECF6",
              "width": 0.5
             }
            },
            "type": "bar"
           }
          ],
          "barpolar": [
           {
            "marker": {
             "line": {
              "color": "#E5ECF6",
              "width": 0.5
             }
            },
            "type": "barpolar"
           }
          ],
          "carpet": [
           {
            "aaxis": {
             "endlinecolor": "#2a3f5f",
             "gridcolor": "white",
             "linecolor": "white",
             "minorgridcolor": "white",
             "startlinecolor": "#2a3f5f"
            },
            "baxis": {
             "endlinecolor": "#2a3f5f",
             "gridcolor": "white",
             "linecolor": "white",
             "minorgridcolor": "white",
             "startlinecolor": "#2a3f5f"
            },
            "type": "carpet"
           }
          ],
          "choropleth": [
           {
            "colorbar": {
             "outlinewidth": 0,
             "ticks": ""
            },
            "type": "choropleth"
           }
          ],
          "contour": [
           {
            "colorbar": {
             "outlinewidth": 0,
             "ticks": ""
            },
            "colorscale": [
             [
              0,
              "#0d0887"
             ],
             [
              0.1111111111111111,
              "#46039f"
             ],
             [
              0.2222222222222222,
              "#7201a8"
             ],
             [
              0.3333333333333333,
              "#9c179e"
             ],
             [
              0.4444444444444444,
              "#bd3786"
             ],
             [
              0.5555555555555556,
              "#d8576b"
             ],
             [
              0.6666666666666666,
              "#ed7953"
             ],
             [
              0.7777777777777778,
              "#fb9f3a"
             ],
             [
              0.8888888888888888,
              "#fdca26"
             ],
             [
              1,
              "#f0f921"
             ]
            ],
            "type": "contour"
           }
          ],
          "contourcarpet": [
           {
            "colorbar": {
             "outlinewidth": 0,
             "ticks": ""
            },
            "type": "contourcarpet"
           }
          ],
          "heatmap": [
           {
            "colorbar": {
             "outlinewidth": 0,
             "ticks": ""
            },
            "colorscale": [
             [
              0,
              "#0d0887"
             ],
             [
              0.1111111111111111,
              "#46039f"
             ],
             [
              0.2222222222222222,
              "#7201a8"
             ],
             [
              0.3333333333333333,
              "#9c179e"
             ],
             [
              0.4444444444444444,
              "#bd3786"
             ],
             [
              0.5555555555555556,
              "#d8576b"
             ],
             [
              0.6666666666666666,
              "#ed7953"
             ],
             [
              0.7777777777777778,
              "#fb9f3a"
             ],
             [
              0.8888888888888888,
              "#fdca26"
             ],
             [
              1,
              "#f0f921"
             ]
            ],
            "type": "heatmap"
           }
          ],
          "heatmapgl": [
           {
            "colorbar": {
             "outlinewidth": 0,
             "ticks": ""
            },
            "colorscale": [
             [
              0,
              "#0d0887"
             ],
             [
              0.1111111111111111,
              "#46039f"
             ],
             [
              0.2222222222222222,
              "#7201a8"
             ],
             [
              0.3333333333333333,
              "#9c179e"
             ],
             [
              0.4444444444444444,
              "#bd3786"
             ],
             [
              0.5555555555555556,
              "#d8576b"
             ],
             [
              0.6666666666666666,
              "#ed7953"
             ],
             [
              0.7777777777777778,
              "#fb9f3a"
             ],
             [
              0.8888888888888888,
              "#fdca26"
             ],
             [
              1,
              "#f0f921"
             ]
            ],
            "type": "heatmapgl"
           }
          ],
          "histogram": [
           {
            "marker": {
             "colorbar": {
              "outlinewidth": 0,
              "ticks": ""
             }
            },
            "type": "histogram"
           }
          ],
          "histogram2d": [
           {
            "colorbar": {
             "outlinewidth": 0,
             "ticks": ""
            },
            "colorscale": [
             [
              0,
              "#0d0887"
             ],
             [
              0.1111111111111111,
              "#46039f"
             ],
             [
              0.2222222222222222,
              "#7201a8"
             ],
             [
              0.3333333333333333,
              "#9c179e"
             ],
             [
              0.4444444444444444,
              "#bd3786"
             ],
             [
              0.5555555555555556,
              "#d8576b"
             ],
             [
              0.6666666666666666,
              "#ed7953"
             ],
             [
              0.7777777777777778,
              "#fb9f3a"
             ],
             [
              0.8888888888888888,
              "#fdca26"
             ],
             [
              1,
              "#f0f921"
             ]
            ],
            "type": "histogram2d"
           }
          ],
          "histogram2dcontour": [
           {
            "colorbar": {
             "outlinewidth": 0,
             "ticks": ""
            },
            "colorscale": [
             [
              0,
              "#0d0887"
             ],
             [
              0.1111111111111111,
              "#46039f"
             ],
             [
              0.2222222222222222,
              "#7201a8"
             ],
             [
              0.3333333333333333,
              "#9c179e"
             ],
             [
              0.4444444444444444,
              "#bd3786"
             ],
             [
              0.5555555555555556,
              "#d8576b"
             ],
             [
              0.6666666666666666,
              "#ed7953"
             ],
             [
              0.7777777777777778,
              "#fb9f3a"
             ],
             [
              0.8888888888888888,
              "#fdca26"
             ],
             [
              1,
              "#f0f921"
             ]
            ],
            "type": "histogram2dcontour"
           }
          ],
          "mesh3d": [
           {
            "colorbar": {
             "outlinewidth": 0,
             "ticks": ""
            },
            "type": "mesh3d"
           }
          ],
          "parcoords": [
           {
            "line": {
             "colorbar": {
              "outlinewidth": 0,
              "ticks": ""
             }
            },
            "type": "parcoords"
           }
          ],
          "pie": [
           {
            "automargin": true,
            "type": "pie"
           }
          ],
          "scatter": [
           {
            "marker": {
             "colorbar": {
              "outlinewidth": 0,
              "ticks": ""
             }
            },
            "type": "scatter"
           }
          ],
          "scatter3d": [
           {
            "line": {
             "colorbar": {
              "outlinewidth": 0,
              "ticks": ""
             }
            },
            "marker": {
             "colorbar": {
              "outlinewidth": 0,
              "ticks": ""
             }
            },
            "type": "scatter3d"
           }
          ],
          "scattercarpet": [
           {
            "marker": {
             "colorbar": {
              "outlinewidth": 0,
              "ticks": ""
             }
            },
            "type": "scattercarpet"
           }
          ],
          "scattergeo": [
           {
            "marker": {
             "colorbar": {
              "outlinewidth": 0,
              "ticks": ""
             }
            },
            "type": "scattergeo"
           }
          ],
          "scattergl": [
           {
            "marker": {
             "colorbar": {
              "outlinewidth": 0,
              "ticks": ""
             }
            },
            "type": "scattergl"
           }
          ],
          "scattermapbox": [
           {
            "marker": {
             "colorbar": {
              "outlinewidth": 0,
              "ticks": ""
             }
            },
            "type": "scattermapbox"
           }
          ],
          "scatterpolar": [
           {
            "marker": {
             "colorbar": {
              "outlinewidth": 0,
              "ticks": ""
             }
            },
            "type": "scatterpolar"
           }
          ],
          "scatterpolargl": [
           {
            "marker": {
             "colorbar": {
              "outlinewidth": 0,
              "ticks": ""
             }
            },
            "type": "scatterpolargl"
           }
          ],
          "scatterternary": [
           {
            "marker": {
             "colorbar": {
              "outlinewidth": 0,
              "ticks": ""
             }
            },
            "type": "scatterternary"
           }
          ],
          "surface": [
           {
            "colorbar": {
             "outlinewidth": 0,
             "ticks": ""
            },
            "colorscale": [
             [
              0,
              "#0d0887"
             ],
             [
              0.1111111111111111,
              "#46039f"
             ],
             [
              0.2222222222222222,
              "#7201a8"
             ],
             [
              0.3333333333333333,
              "#9c179e"
             ],
             [
              0.4444444444444444,
              "#bd3786"
             ],
             [
              0.5555555555555556,
              "#d8576b"
             ],
             [
              0.6666666666666666,
              "#ed7953"
             ],
             [
              0.7777777777777778,
              "#fb9f3a"
             ],
             [
              0.8888888888888888,
              "#fdca26"
             ],
             [
              1,
              "#f0f921"
             ]
            ],
            "type": "surface"
           }
          ],
          "table": [
           {
            "cells": {
             "fill": {
              "color": "#EBF0F8"
             },
             "line": {
              "color": "white"
             }
            },
            "header": {
             "fill": {
              "color": "#C8D4E3"
             },
             "line": {
              "color": "white"
             }
            },
            "type": "table"
           }
          ]
         },
         "layout": {
          "annotationdefaults": {
           "arrowcolor": "#2a3f5f",
           "arrowhead": 0,
           "arrowwidth": 1
          },
          "coloraxis": {
           "colorbar": {
            "outlinewidth": 0,
            "ticks": ""
           }
          },
          "colorscale": {
           "diverging": [
            [
             0,
             "#8e0152"
            ],
            [
             0.1,
             "#c51b7d"
            ],
            [
             0.2,
             "#de77ae"
            ],
            [
             0.3,
             "#f1b6da"
            ],
            [
             0.4,
             "#fde0ef"
            ],
            [
             0.5,
             "#f7f7f7"
            ],
            [
             0.6,
             "#e6f5d0"
            ],
            [
             0.7,
             "#b8e186"
            ],
            [
             0.8,
             "#7fbc41"
            ],
            [
             0.9,
             "#4d9221"
            ],
            [
             1,
             "#276419"
            ]
           ],
           "sequential": [
            [
             0,
             "#0d0887"
            ],
            [
             0.1111111111111111,
             "#46039f"
            ],
            [
             0.2222222222222222,
             "#7201a8"
            ],
            [
             0.3333333333333333,
             "#9c179e"
            ],
            [
             0.4444444444444444,
             "#bd3786"
            ],
            [
             0.5555555555555556,
             "#d8576b"
            ],
            [
             0.6666666666666666,
             "#ed7953"
            ],
            [
             0.7777777777777778,
             "#fb9f3a"
            ],
            [
             0.8888888888888888,
             "#fdca26"
            ],
            [
             1,
             "#f0f921"
            ]
           ],
           "sequentialminus": [
            [
             0,
             "#0d0887"
            ],
            [
             0.1111111111111111,
             "#46039f"
            ],
            [
             0.2222222222222222,
             "#7201a8"
            ],
            [
             0.3333333333333333,
             "#9c179e"
            ],
            [
             0.4444444444444444,
             "#bd3786"
            ],
            [
             0.5555555555555556,
             "#d8576b"
            ],
            [
             0.6666666666666666,
             "#ed7953"
            ],
            [
             0.7777777777777778,
             "#fb9f3a"
            ],
            [
             0.8888888888888888,
             "#fdca26"
            ],
            [
             1,
             "#f0f921"
            ]
           ]
          },
          "colorway": [
           "#636efa",
           "#EF553B",
           "#00cc96",
           "#ab63fa",
           "#FFA15A",
           "#19d3f3",
           "#FF6692",
           "#B6E880",
           "#FF97FF",
           "#FECB52"
          ],
          "font": {
           "color": "#2a3f5f"
          },
          "geo": {
           "bgcolor": "white",
           "lakecolor": "white",
           "landcolor": "#E5ECF6",
           "showlakes": true,
           "showland": true,
           "subunitcolor": "white"
          },
          "hoverlabel": {
           "align": "left"
          },
          "hovermode": "closest",
          "mapbox": {
           "style": "light"
          },
          "paper_bgcolor": "white",
          "plot_bgcolor": "#E5ECF6",
          "polar": {
           "angularaxis": {
            "gridcolor": "white",
            "linecolor": "white",
            "ticks": ""
           },
           "bgcolor": "#E5ECF6",
           "radialaxis": {
            "gridcolor": "white",
            "linecolor": "white",
            "ticks": ""
           }
          },
          "scene": {
           "xaxis": {
            "backgroundcolor": "#E5ECF6",
            "gridcolor": "white",
            "gridwidth": 2,
            "linecolor": "white",
            "showbackground": true,
            "ticks": "",
            "zerolinecolor": "white"
           },
           "yaxis": {
            "backgroundcolor": "#E5ECF6",
            "gridcolor": "white",
            "gridwidth": 2,
            "linecolor": "white",
            "showbackground": true,
            "ticks": "",
            "zerolinecolor": "white"
           },
           "zaxis": {
            "backgroundcolor": "#E5ECF6",
            "gridcolor": "white",
            "gridwidth": 2,
            "linecolor": "white",
            "showbackground": true,
            "ticks": "",
            "zerolinecolor": "white"
           }
          },
          "shapedefaults": {
           "line": {
            "color": "#2a3f5f"
           }
          },
          "ternary": {
           "aaxis": {
            "gridcolor": "white",
            "linecolor": "white",
            "ticks": ""
           },
           "baxis": {
            "gridcolor": "white",
            "linecolor": "white",
            "ticks": ""
           },
           "bgcolor": "#E5ECF6",
           "caxis": {
            "gridcolor": "white",
            "linecolor": "white",
            "ticks": ""
           }
          },
          "title": {
           "x": 0.05
          },
          "xaxis": {
           "automargin": true,
           "gridcolor": "white",
           "linecolor": "white",
           "ticks": "",
           "title": {
            "standoff": 15
           },
           "zerolinecolor": "white",
           "zerolinewidth": 2
          },
          "yaxis": {
           "automargin": true,
           "gridcolor": "white",
           "linecolor": "white",
           "ticks": "",
           "title": {
            "standoff": 15
           },
           "zerolinecolor": "white",
           "zerolinewidth": 2
          }
         }
        },
        "xaxis": {
         "anchor": "y",
         "domain": [
          0,
          1
         ],
         "title": {
          "text": "C1"
         }
        },
        "yaxis": {
         "anchor": "x",
         "domain": [
          0,
          1
         ],
         "title": {
          "text": "C2"
         }
        }
       }
      },
      "text/html": [
       "<div>\n",
       "        \n",
       "        \n",
       "            <div id=\"fad065b9-5c39-4e4a-9f59-d1fdee6bacd2\" class=\"plotly-graph-div\" style=\"height:525px; width:100%;\"></div>\n",
       "            <script type=\"text/javascript\">\n",
       "                require([\"plotly\"], function(Plotly) {\n",
       "                    window.PLOTLYENV=window.PLOTLYENV || {};\n",
       "                    \n",
       "                if (document.getElementById(\"fad065b9-5c39-4e4a-9f59-d1fdee6bacd2\")) {\n",
       "                    Plotly.newPlot(\n",
       "                        'fad065b9-5c39-4e4a-9f59-d1fdee6bacd2',\n",
       "                        [{\"customdata\": [[\"Ramechhap\"], [\"Gorkha\"], [\"Saptari\"], [\"Siraha\"], [\"Rautahat\"], [\"Lamjung\"], [\"Rasuwa\"], [\"Dhading\"], [\"Kavrepalanchok\"], [\"Dolakha\"], [\"Nuwakot\"], [\"Okhaldhunga\"], [\"Parbat\"], [\"Kaski\"], [\"Bara\"], [\"Bhaktapur\"], [\"Lalitpur\"], [\"Parsa\"], [\"Khotang\"], [\"Tanahu\"], [\"Sarlahi\"], [\"Myagdi\"], [\"Sindhuli\"], [\"Chitwan\"], [\"Syangja\"], [\"Sindhupalchok\"], [\"Dhanusa\"], [\"Mahottari\"], [\"Udayapur\"], [\"Morang\"], [\"Darchula\"], [\"Dhankuta\"], [\"Baitadi\"], [\"Solukhumbu\"], [\"Baglung\"], [\"Salyan\"], [\"Arghakhanchi\"], [\"Kathmandu\"], [\"Sankhuwasabha\"], [\"Rukum\"], [\"Banke\"], [\"Sunsari\"], [\"Bhojpur\"], [\"Rupandehi\"], [\"Palpa\"], [\"Panchthar\"], [\"Gulmi\"], [\"Makwanpur\"], [\"Tehrathum\"], [\"Dailekh\"], [\"Ilam\"], [\"Dadeldhura\"], [\"Nawalparasi\"], [\"Kapilbastu\"], [\"Dang\"], [\"Jhapa\"], [\"Surkhet\"], [\"Bardiya\"], [\"Achham\"], [\"Kanchanpur\"], [\"Doti\"], [\"Kailali\"], [\"Jajarkot\"], [\"Rolpa\"], [\"Taplejung\"], [\"Mugu\"], [\"Bajhang\"], [\"Mustang\"], [\"Manang\"], [\"Pyuthan\"], [\"Humla\"], [\"Bajura\"], [\"Kalikot\"], [\"Jumla\"], [\"Dolpa\"]], \"hovertemplate\": \"C1=%{x}<br>C2=%{y}<br>District=%{customdata[0]}<br>Label=%{marker.color}<extra></extra>\", \"legendgroup\": \"\", \"marker\": {\"color\": [-1, 0, -1, -1, 2, 0, -1, 0, 0, 0, 0, 0, 0, 1, -1, 1, -1, 0, 0, 0, 2, 0, 0, 1, 0, 0, 2, 2, 0, 0, 0, 0, 0, -1, 0, 0, 0, -1, 0, 0, 0, 0, 0, 0, 0, 0, 0, 0, 0, 0, 0, 0, 0, 3, 0, 0, 0, 0, 3, 0, 3, 0, 3, 3, -1, -1, 3, -1, -1, -1, -1, 3, 3, -1, -1], \"coloraxis\": \"coloraxis\", \"symbol\": \"circle\"}, \"mode\": \"markers\", \"name\": \"\", \"showlegend\": false, \"type\": \"scatter\", \"x\": [0.11015667764998524, 0.4053727285896925, -0.8622509584755365, -1.353550664579631, -1.9040785163013418, 0.8930887654266298, 0.12525786974677577, -0.02733410793563116, 1.11572745144665, -0.12782627016160636, -0.09974662210651108, 0.009026057380781076, 0.7795478834036355, 2.242955466359527, -0.10028350179016562, 1.9092290497600577, 2.7367631038525237, -0.23892965952266437, 0.5614380882816572, 0.8955539924829182, -1.5963583501493586, 0.6060726233047607, -0.5427719520338545, 1.7276920220656313, 1.192991892766106, -0.22104145526311408, -1.1607019479510967, -1.8537008101151757, 0.1262782100610445, 0.7375689322187072, -0.5990047591271433, 1.0228440114936999, -0.8766078876531401, 1.1502472113925997, 0.21942987527035476, -0.48617296232203844, 0.30214156219334076, 4.146013146085425, 0.48813459046369917, -0.6783772451986063, -0.12269078448246623, 0.27553355127768625, 0.17282875951899002, 0.39489100569858987, 0.6477971558540522, 0.5165951269708163, 0.006906961883862376, 0.672225438926391, 1.171356820799132, -0.8411930469361463, 1.1566297557184708, -0.5292467593183462, 0.4644455134587486, -0.9806485134385157, 0.32639248295347134, 0.823811051023782, 0.19353775865910441, -0.10208186505489844, -1.6673264513574138, 0.03671538071894544, -1.3047610954851256, -0.34990994951941584, -1.515411250553023, -1.2890215210021796, 0.5110566990004521, -1.6638263152130768, -1.9720111670446694, 0.9817493953105728, 3.5174420315021924, -0.9457418650627097, -2.193968571118506, -2.0599561774386275, -1.9277441248394303, -1.4807394837087904, -1.6984294887115063], \"xaxis\": \"x\", \"y\": [-2.0413094987379004, -1.4247721584378945, -1.5509302823637925, -1.646060506882542, -1.584414193742313, -0.9554328913927871, -0.9717615180238524, -1.138039668369485, -0.8170787445429135, -1.1688208857164357, -1.0964353470189927, -1.004505254011677, -0.851748610602865, -0.4185747845346949, -0.8379368242692324, -0.5170197821143799, -0.13924644531968033, -0.8268964592975723, -0.7135236080053613, -0.6297650575328383, -1.0980470413514334, -0.6519416095309831, -0.9055597934836979, -0.18539269542363138, -0.32896527894440203, -0.5522578305440898, -0.746449363517943, -0.9153235279638191, -0.42463617756327415, -0.1124003552927766, -0.5289628212649096, -0.05746955515877982, -0.5161666864724678, 0.23534546523603364, -0.21764391937570232, -0.3492152830429469, -0.06973364965606915, 1.151042125898869, 0.11083404772082464, -0.19881829321873906, 0.02005764059115078, 0.08814670908870613, 0.03887832631611499, 0.1322232371352693, 0.14257130872775856, 0.21700545145490044, 0.04379865546438249, 0.36074247564139333, 0.4620214106486869, -0.09433294853915841, 0.4563777428240795, 0.041490077331488066, 0.37020393000508184, 0.1858151491323287, 0.5534411305672431, 0.686151607451382, 0.48793809393046705, 0.49949040336710826, 0.12030259877129218, 0.559312857984227, 0.433961196189556, 0.7734255415598308, 0.47915362242279513, 0.6038611785961868, 1.3156848131995227, 0.9267103983984487, 0.9169160128962361, 1.9353769513881562, 2.743865602437532, 1.5507154385206312, 1.4531071469724195, 1.4973876439441096, 1.662466146866861, 2.0932637196450274, 2.93850349293593], \"yaxis\": \"y\"}],\n",
       "                        {\"coloraxis\": {\"colorbar\": {\"title\": {\"text\": \"Label\"}}, \"colorscale\": [[0.0, \"#0d0887\"], [0.1111111111111111, \"#46039f\"], [0.2222222222222222, \"#7201a8\"], [0.3333333333333333, \"#9c179e\"], [0.4444444444444444, \"#bd3786\"], [0.5555555555555556, \"#d8576b\"], [0.6666666666666666, \"#ed7953\"], [0.7777777777777778, \"#fb9f3a\"], [0.8888888888888888, \"#fdca26\"], [1.0, \"#f0f921\"]]}, \"legend\": {\"tracegroupgap\": 0}, \"margin\": {\"t\": 60}, \"template\": {\"data\": {\"bar\": [{\"error_x\": {\"color\": \"#2a3f5f\"}, \"error_y\": {\"color\": \"#2a3f5f\"}, \"marker\": {\"line\": {\"color\": \"#E5ECF6\", \"width\": 0.5}}, \"type\": \"bar\"}], \"barpolar\": [{\"marker\": {\"line\": {\"color\": \"#E5ECF6\", \"width\": 0.5}}, \"type\": \"barpolar\"}], \"carpet\": [{\"aaxis\": {\"endlinecolor\": \"#2a3f5f\", \"gridcolor\": \"white\", \"linecolor\": \"white\", \"minorgridcolor\": \"white\", \"startlinecolor\": \"#2a3f5f\"}, \"baxis\": {\"endlinecolor\": \"#2a3f5f\", \"gridcolor\": \"white\", \"linecolor\": \"white\", \"minorgridcolor\": \"white\", \"startlinecolor\": \"#2a3f5f\"}, \"type\": \"carpet\"}], \"choropleth\": [{\"colorbar\": {\"outlinewidth\": 0, \"ticks\": \"\"}, \"type\": \"choropleth\"}], \"contour\": [{\"colorbar\": {\"outlinewidth\": 0, \"ticks\": \"\"}, \"colorscale\": [[0.0, \"#0d0887\"], [0.1111111111111111, \"#46039f\"], [0.2222222222222222, \"#7201a8\"], [0.3333333333333333, \"#9c179e\"], [0.4444444444444444, \"#bd3786\"], [0.5555555555555556, \"#d8576b\"], [0.6666666666666666, \"#ed7953\"], [0.7777777777777778, \"#fb9f3a\"], [0.8888888888888888, \"#fdca26\"], [1.0, \"#f0f921\"]], \"type\": \"contour\"}], \"contourcarpet\": [{\"colorbar\": {\"outlinewidth\": 0, \"ticks\": \"\"}, \"type\": \"contourcarpet\"}], \"heatmap\": [{\"colorbar\": {\"outlinewidth\": 0, \"ticks\": \"\"}, \"colorscale\": [[0.0, \"#0d0887\"], [0.1111111111111111, \"#46039f\"], [0.2222222222222222, \"#7201a8\"], [0.3333333333333333, \"#9c179e\"], [0.4444444444444444, \"#bd3786\"], [0.5555555555555556, \"#d8576b\"], [0.6666666666666666, \"#ed7953\"], [0.7777777777777778, \"#fb9f3a\"], [0.8888888888888888, \"#fdca26\"], [1.0, \"#f0f921\"]], \"type\": \"heatmap\"}], \"heatmapgl\": [{\"colorbar\": {\"outlinewidth\": 0, \"ticks\": \"\"}, \"colorscale\": [[0.0, \"#0d0887\"], [0.1111111111111111, \"#46039f\"], [0.2222222222222222, \"#7201a8\"], [0.3333333333333333, \"#9c179e\"], [0.4444444444444444, \"#bd3786\"], [0.5555555555555556, \"#d8576b\"], [0.6666666666666666, \"#ed7953\"], [0.7777777777777778, \"#fb9f3a\"], [0.8888888888888888, \"#fdca26\"], [1.0, \"#f0f921\"]], \"type\": \"heatmapgl\"}], \"histogram\": [{\"marker\": {\"colorbar\": {\"outlinewidth\": 0, \"ticks\": \"\"}}, \"type\": \"histogram\"}], \"histogram2d\": [{\"colorbar\": {\"outlinewidth\": 0, \"ticks\": \"\"}, \"colorscale\": [[0.0, \"#0d0887\"], [0.1111111111111111, \"#46039f\"], [0.2222222222222222, \"#7201a8\"], [0.3333333333333333, \"#9c179e\"], [0.4444444444444444, \"#bd3786\"], [0.5555555555555556, \"#d8576b\"], [0.6666666666666666, \"#ed7953\"], [0.7777777777777778, \"#fb9f3a\"], [0.8888888888888888, \"#fdca26\"], [1.0, \"#f0f921\"]], \"type\": \"histogram2d\"}], \"histogram2dcontour\": [{\"colorbar\": {\"outlinewidth\": 0, \"ticks\": \"\"}, \"colorscale\": [[0.0, \"#0d0887\"], [0.1111111111111111, \"#46039f\"], [0.2222222222222222, \"#7201a8\"], [0.3333333333333333, \"#9c179e\"], [0.4444444444444444, \"#bd3786\"], [0.5555555555555556, \"#d8576b\"], [0.6666666666666666, \"#ed7953\"], [0.7777777777777778, \"#fb9f3a\"], [0.8888888888888888, \"#fdca26\"], [1.0, \"#f0f921\"]], \"type\": \"histogram2dcontour\"}], \"mesh3d\": [{\"colorbar\": {\"outlinewidth\": 0, \"ticks\": \"\"}, \"type\": \"mesh3d\"}], \"parcoords\": [{\"line\": {\"colorbar\": {\"outlinewidth\": 0, \"ticks\": \"\"}}, \"type\": \"parcoords\"}], \"pie\": [{\"automargin\": true, \"type\": \"pie\"}], \"scatter\": [{\"marker\": {\"colorbar\": {\"outlinewidth\": 0, \"ticks\": \"\"}}, \"type\": \"scatter\"}], \"scatter3d\": [{\"line\": {\"colorbar\": {\"outlinewidth\": 0, \"ticks\": \"\"}}, \"marker\": {\"colorbar\": {\"outlinewidth\": 0, \"ticks\": \"\"}}, \"type\": \"scatter3d\"}], \"scattercarpet\": [{\"marker\": {\"colorbar\": {\"outlinewidth\": 0, \"ticks\": \"\"}}, \"type\": \"scattercarpet\"}], \"scattergeo\": [{\"marker\": {\"colorbar\": {\"outlinewidth\": 0, \"ticks\": \"\"}}, \"type\": \"scattergeo\"}], \"scattergl\": [{\"marker\": {\"colorbar\": {\"outlinewidth\": 0, \"ticks\": \"\"}}, \"type\": \"scattergl\"}], \"scattermapbox\": [{\"marker\": {\"colorbar\": {\"outlinewidth\": 0, \"ticks\": \"\"}}, \"type\": \"scattermapbox\"}], \"scatterpolar\": [{\"marker\": {\"colorbar\": {\"outlinewidth\": 0, \"ticks\": \"\"}}, \"type\": \"scatterpolar\"}], \"scatterpolargl\": [{\"marker\": {\"colorbar\": {\"outlinewidth\": 0, \"ticks\": \"\"}}, \"type\": \"scatterpolargl\"}], \"scatterternary\": [{\"marker\": {\"colorbar\": {\"outlinewidth\": 0, \"ticks\": \"\"}}, \"type\": \"scatterternary\"}], \"surface\": [{\"colorbar\": {\"outlinewidth\": 0, \"ticks\": \"\"}, \"colorscale\": [[0.0, \"#0d0887\"], [0.1111111111111111, \"#46039f\"], [0.2222222222222222, \"#7201a8\"], [0.3333333333333333, \"#9c179e\"], [0.4444444444444444, \"#bd3786\"], [0.5555555555555556, \"#d8576b\"], [0.6666666666666666, \"#ed7953\"], [0.7777777777777778, \"#fb9f3a\"], [0.8888888888888888, \"#fdca26\"], [1.0, \"#f0f921\"]], \"type\": \"surface\"}], \"table\": [{\"cells\": {\"fill\": {\"color\": \"#EBF0F8\"}, \"line\": {\"color\": \"white\"}}, \"header\": {\"fill\": {\"color\": \"#C8D4E3\"}, \"line\": {\"color\": \"white\"}}, \"type\": \"table\"}]}, \"layout\": {\"annotationdefaults\": {\"arrowcolor\": \"#2a3f5f\", \"arrowhead\": 0, \"arrowwidth\": 1}, \"coloraxis\": {\"colorbar\": {\"outlinewidth\": 0, \"ticks\": \"\"}}, \"colorscale\": {\"diverging\": [[0, \"#8e0152\"], [0.1, \"#c51b7d\"], [0.2, \"#de77ae\"], [0.3, \"#f1b6da\"], [0.4, \"#fde0ef\"], [0.5, \"#f7f7f7\"], [0.6, \"#e6f5d0\"], [0.7, \"#b8e186\"], [0.8, \"#7fbc41\"], [0.9, \"#4d9221\"], [1, \"#276419\"]], \"sequential\": [[0.0, \"#0d0887\"], [0.1111111111111111, \"#46039f\"], [0.2222222222222222, \"#7201a8\"], [0.3333333333333333, \"#9c179e\"], [0.4444444444444444, \"#bd3786\"], [0.5555555555555556, \"#d8576b\"], [0.6666666666666666, \"#ed7953\"], [0.7777777777777778, \"#fb9f3a\"], [0.8888888888888888, \"#fdca26\"], [1.0, \"#f0f921\"]], \"sequentialminus\": [[0.0, \"#0d0887\"], [0.1111111111111111, \"#46039f\"], [0.2222222222222222, \"#7201a8\"], [0.3333333333333333, \"#9c179e\"], [0.4444444444444444, \"#bd3786\"], [0.5555555555555556, \"#d8576b\"], [0.6666666666666666, \"#ed7953\"], [0.7777777777777778, \"#fb9f3a\"], [0.8888888888888888, \"#fdca26\"], [1.0, \"#f0f921\"]]}, \"colorway\": [\"#636efa\", \"#EF553B\", \"#00cc96\", \"#ab63fa\", \"#FFA15A\", \"#19d3f3\", \"#FF6692\", \"#B6E880\", \"#FF97FF\", \"#FECB52\"], \"font\": {\"color\": \"#2a3f5f\"}, \"geo\": {\"bgcolor\": \"white\", \"lakecolor\": \"white\", \"landcolor\": \"#E5ECF6\", \"showlakes\": true, \"showland\": true, \"subunitcolor\": \"white\"}, \"hoverlabel\": {\"align\": \"left\"}, \"hovermode\": \"closest\", \"mapbox\": {\"style\": \"light\"}, \"paper_bgcolor\": \"white\", \"plot_bgcolor\": \"#E5ECF6\", \"polar\": {\"angularaxis\": {\"gridcolor\": \"white\", \"linecolor\": \"white\", \"ticks\": \"\"}, \"bgcolor\": \"#E5ECF6\", \"radialaxis\": {\"gridcolor\": \"white\", \"linecolor\": \"white\", \"ticks\": \"\"}}, \"scene\": {\"xaxis\": {\"backgroundcolor\": \"#E5ECF6\", \"gridcolor\": \"white\", \"gridwidth\": 2, \"linecolor\": \"white\", \"showbackground\": true, \"ticks\": \"\", \"zerolinecolor\": \"white\"}, \"yaxis\": {\"backgroundcolor\": \"#E5ECF6\", \"gridcolor\": \"white\", \"gridwidth\": 2, \"linecolor\": \"white\", \"showbackground\": true, \"ticks\": \"\", \"zerolinecolor\": \"white\"}, \"zaxis\": {\"backgroundcolor\": \"#E5ECF6\", \"gridcolor\": \"white\", \"gridwidth\": 2, \"linecolor\": \"white\", \"showbackground\": true, \"ticks\": \"\", \"zerolinecolor\": \"white\"}}, \"shapedefaults\": {\"line\": {\"color\": \"#2a3f5f\"}}, \"ternary\": {\"aaxis\": {\"gridcolor\": \"white\", \"linecolor\": \"white\", \"ticks\": \"\"}, \"baxis\": {\"gridcolor\": \"white\", \"linecolor\": \"white\", \"ticks\": \"\"}, \"bgcolor\": \"#E5ECF6\", \"caxis\": {\"gridcolor\": \"white\", \"linecolor\": \"white\", \"ticks\": \"\"}}, \"title\": {\"x\": 0.05}, \"xaxis\": {\"automargin\": true, \"gridcolor\": \"white\", \"linecolor\": \"white\", \"ticks\": \"\", \"title\": {\"standoff\": 15}, \"zerolinecolor\": \"white\", \"zerolinewidth\": 2}, \"yaxis\": {\"automargin\": true, \"gridcolor\": \"white\", \"linecolor\": \"white\", \"ticks\": \"\", \"title\": {\"standoff\": 15}, \"zerolinecolor\": \"white\", \"zerolinewidth\": 2}}}, \"xaxis\": {\"anchor\": \"y\", \"domain\": [0.0, 1.0], \"title\": {\"text\": \"C1\"}}, \"yaxis\": {\"anchor\": \"x\", \"domain\": [0.0, 1.0], \"title\": {\"text\": \"C2\"}}},\n",
       "                        {\"responsive\": true}\n",
       "                    ).then(function(){\n",
       "                            \n",
       "var gd = document.getElementById('fad065b9-5c39-4e4a-9f59-d1fdee6bacd2');\n",
       "var x = new MutationObserver(function (mutations, observer) {{\n",
       "        var display = window.getComputedStyle(gd).display;\n",
       "        if (!display || display === 'none') {{\n",
       "            console.log([gd, 'removed!']);\n",
       "            Plotly.purge(gd);\n",
       "            observer.disconnect();\n",
       "        }}\n",
       "}});\n",
       "\n",
       "// Listen for the removal of the full notebook cells\n",
       "var notebookContainer = gd.closest('#notebook-container');\n",
       "if (notebookContainer) {{\n",
       "    x.observe(notebookContainer, {childList: true});\n",
       "}}\n",
       "\n",
       "// Listen for the clearing of the current output cell\n",
       "var outputEl = gd.closest('.output');\n",
       "if (outputEl) {{\n",
       "    x.observe(outputEl, {childList: true});\n",
       "}}\n",
       "\n",
       "                        })\n",
       "                };\n",
       "                });\n",
       "            </script>\n",
       "        </div>"
      ]
     },
     "metadata": {},
     "output_type": "display_data"
    }
   ],
   "source": [
    "clusters = visualize_clusters(0.7, 3)"
   ]
  },
  {
   "cell_type": "code",
   "execution_count": 66,
   "metadata": {},
   "outputs": [],
   "source": [
    "def display_districts_by_cluster(clusters):\n",
    "    for i in clusters:\n",
    "        print('Outliers: ' if i==-1 else 'Cluster: ', district_df[district_df['DBSCAN Label']==i]['District'].tolist(), '\\n')"
   ]
  },
  {
   "cell_type": "code",
   "execution_count": 68,
   "metadata": {},
   "outputs": [
    {
     "name": "stdout",
     "output_type": "stream",
     "text": [
      "Outliers:  ['Ramechhap', 'Saptari', 'Siraha', 'Rasuwa', 'Bara', 'Lalitpur', 'Solukhumbu', 'Kathmandu', 'Taplejung', 'Mugu', 'Mustang', 'Manang', 'Pyuthan', 'Humla', 'Jumla', 'Dolpa'] \n",
      "\n",
      "Cluster:  ['Gorkha', 'Lamjung', 'Dhading', 'Kavrepalanchok', 'Dolakha', 'Nuwakot', 'Okhaldhunga', 'Parbat', 'Parsa', 'Khotang', 'Tanahu', 'Myagdi', 'Sindhuli', 'Syangja', 'Sindhupalchok', 'Udayapur', 'Morang', 'Darchula', 'Dhankuta', 'Baitadi', 'Baglung', 'Salyan', 'Arghakhanchi', 'Sankhuwasabha', 'Rukum', 'Banke', 'Sunsari', 'Bhojpur', 'Rupandehi', 'Palpa', 'Panchthar', 'Gulmi', 'Makwanpur', 'Tehrathum', 'Dailekh', 'Ilam', 'Dadeldhura', 'Nawalparasi', 'Dang', 'Jhapa', 'Surkhet', 'Bardiya', 'Kanchanpur', 'Kailali'] \n",
      "\n",
      "Cluster:  ['Rautahat', 'Sarlahi', 'Dhanusa', 'Mahottari'] \n",
      "\n",
      "Cluster:  ['Kaski', 'Bhaktapur', 'Chitwan'] \n",
      "\n",
      "Cluster:  ['Kapilbastu', 'Achham', 'Doti', 'Jajarkot', 'Rolpa', 'Bajhang', 'Bajura', 'Kalikot'] \n",
      "\n"
     ]
    }
   ],
   "source": [
    "display_districts_by_cluster(clusters)"
   ]
  },
  {
   "cell_type": "code",
   "execution_count": 69,
   "metadata": {},
   "outputs": [
    {
     "name": "stdout",
     "output_type": "stream",
     "text": [
      "Counter({1: 30, -1: 21, 0: 8, 3: 6, 4: 4, 2: 3, 5: 3})\n"
     ]
    },
    {
     "data": {
      "application/vnd.plotly.v1+json": {
       "config": {
        "plotlyServerURL": "https://plot.ly"
       },
       "data": [
        {
         "customdata": [
          [
           "Ramechhap"
          ],
          [
           "Gorkha"
          ],
          [
           "Saptari"
          ],
          [
           "Siraha"
          ],
          [
           "Rautahat"
          ],
          [
           "Lamjung"
          ],
          [
           "Rasuwa"
          ],
          [
           "Dhading"
          ],
          [
           "Kavrepalanchok"
          ],
          [
           "Dolakha"
          ],
          [
           "Nuwakot"
          ],
          [
           "Okhaldhunga"
          ],
          [
           "Parbat"
          ],
          [
           "Kaski"
          ],
          [
           "Bara"
          ],
          [
           "Bhaktapur"
          ],
          [
           "Lalitpur"
          ],
          [
           "Parsa"
          ],
          [
           "Khotang"
          ],
          [
           "Tanahu"
          ],
          [
           "Sarlahi"
          ],
          [
           "Myagdi"
          ],
          [
           "Sindhuli"
          ],
          [
           "Chitwan"
          ],
          [
           "Syangja"
          ],
          [
           "Sindhupalchok"
          ],
          [
           "Dhanusa"
          ],
          [
           "Mahottari"
          ],
          [
           "Udayapur"
          ],
          [
           "Morang"
          ],
          [
           "Darchula"
          ],
          [
           "Dhankuta"
          ],
          [
           "Baitadi"
          ],
          [
           "Solukhumbu"
          ],
          [
           "Baglung"
          ],
          [
           "Salyan"
          ],
          [
           "Arghakhanchi"
          ],
          [
           "Kathmandu"
          ],
          [
           "Sankhuwasabha"
          ],
          [
           "Rukum"
          ],
          [
           "Banke"
          ],
          [
           "Sunsari"
          ],
          [
           "Bhojpur"
          ],
          [
           "Rupandehi"
          ],
          [
           "Palpa"
          ],
          [
           "Panchthar"
          ],
          [
           "Gulmi"
          ],
          [
           "Makwanpur"
          ],
          [
           "Tehrathum"
          ],
          [
           "Dailekh"
          ],
          [
           "Ilam"
          ],
          [
           "Dadeldhura"
          ],
          [
           "Nawalparasi"
          ],
          [
           "Kapilbastu"
          ],
          [
           "Dang"
          ],
          [
           "Jhapa"
          ],
          [
           "Surkhet"
          ],
          [
           "Bardiya"
          ],
          [
           "Achham"
          ],
          [
           "Kanchanpur"
          ],
          [
           "Doti"
          ],
          [
           "Kailali"
          ],
          [
           "Jajarkot"
          ],
          [
           "Rolpa"
          ],
          [
           "Taplejung"
          ],
          [
           "Mugu"
          ],
          [
           "Bajhang"
          ],
          [
           "Mustang"
          ],
          [
           "Manang"
          ],
          [
           "Pyuthan"
          ],
          [
           "Humla"
          ],
          [
           "Bajura"
          ],
          [
           "Kalikot"
          ],
          [
           "Jumla"
          ],
          [
           "Dolpa"
          ]
         ],
         "hovertemplate": "C1=%{x}<br>C2=%{y}<br>District=%{customdata[0]}<br>Label=%{marker.color}<extra></extra>",
         "legendgroup": "",
         "marker": {
          "color": [
           -1,
           0,
           -1,
           -1,
           -1,
           1,
           -1,
           0,
           1,
           0,
           0,
           0,
           1,
           -1,
           -1,
           -1,
           -1,
           0,
           1,
           1,
           2,
           1,
           0,
           -1,
           1,
           0,
           2,
           2,
           1,
           1,
           3,
           1,
           3,
           -1,
           1,
           3,
           1,
           -1,
           1,
           3,
           1,
           1,
           1,
           1,
           1,
           1,
           1,
           1,
           1,
           3,
           1,
           3,
           1,
           -1,
           1,
           1,
           1,
           1,
           4,
           1,
           4,
           1,
           4,
           4,
           -1,
           -1,
           5,
           -1,
           -1,
           -1,
           -1,
           5,
           5,
           -1,
           -1
          ],
          "coloraxis": "coloraxis",
          "symbol": "circle"
         },
         "mode": "markers",
         "name": "",
         "showlegend": false,
         "type": "scatter",
         "x": [
          0.11015667764998524,
          0.4053727285896925,
          -0.8622509584755365,
          -1.353550664579631,
          -1.9040785163013418,
          0.8930887654266298,
          0.12525786974677577,
          -0.02733410793563116,
          1.11572745144665,
          -0.12782627016160636,
          -0.09974662210651108,
          0.009026057380781076,
          0.7795478834036355,
          2.242955466359527,
          -0.10028350179016562,
          1.9092290497600577,
          2.7367631038525237,
          -0.23892965952266437,
          0.5614380882816572,
          0.8955539924829182,
          -1.5963583501493586,
          0.6060726233047607,
          -0.5427719520338545,
          1.7276920220656313,
          1.192991892766106,
          -0.22104145526311408,
          -1.1607019479510967,
          -1.8537008101151757,
          0.1262782100610445,
          0.7375689322187072,
          -0.5990047591271433,
          1.0228440114936999,
          -0.8766078876531401,
          1.1502472113925997,
          0.21942987527035476,
          -0.48617296232203844,
          0.30214156219334076,
          4.146013146085425,
          0.48813459046369917,
          -0.6783772451986063,
          -0.12269078448246623,
          0.27553355127768625,
          0.17282875951899002,
          0.39489100569858987,
          0.6477971558540522,
          0.5165951269708163,
          0.006906961883862376,
          0.672225438926391,
          1.171356820799132,
          -0.8411930469361463,
          1.1566297557184708,
          -0.5292467593183462,
          0.4644455134587486,
          -0.9806485134385157,
          0.32639248295347134,
          0.823811051023782,
          0.19353775865910441,
          -0.10208186505489844,
          -1.6673264513574138,
          0.03671538071894544,
          -1.3047610954851256,
          -0.34990994951941584,
          -1.515411250553023,
          -1.2890215210021796,
          0.5110566990004521,
          -1.6638263152130768,
          -1.9720111670446694,
          0.9817493953105728,
          3.5174420315021924,
          -0.9457418650627097,
          -2.193968571118506,
          -2.0599561774386275,
          -1.9277441248394303,
          -1.4807394837087904,
          -1.6984294887115063
         ],
         "xaxis": "x",
         "y": [
          -2.0413094987379004,
          -1.4247721584378945,
          -1.5509302823637925,
          -1.646060506882542,
          -1.584414193742313,
          -0.9554328913927871,
          -0.9717615180238524,
          -1.138039668369485,
          -0.8170787445429135,
          -1.1688208857164357,
          -1.0964353470189927,
          -1.004505254011677,
          -0.851748610602865,
          -0.4185747845346949,
          -0.8379368242692324,
          -0.5170197821143799,
          -0.13924644531968033,
          -0.8268964592975723,
          -0.7135236080053613,
          -0.6297650575328383,
          -1.0980470413514334,
          -0.6519416095309831,
          -0.9055597934836979,
          -0.18539269542363138,
          -0.32896527894440203,
          -0.5522578305440898,
          -0.746449363517943,
          -0.9153235279638191,
          -0.42463617756327415,
          -0.1124003552927766,
          -0.5289628212649096,
          -0.05746955515877982,
          -0.5161666864724678,
          0.23534546523603364,
          -0.21764391937570232,
          -0.3492152830429469,
          -0.06973364965606915,
          1.151042125898869,
          0.11083404772082464,
          -0.19881829321873906,
          0.02005764059115078,
          0.08814670908870613,
          0.03887832631611499,
          0.1322232371352693,
          0.14257130872775856,
          0.21700545145490044,
          0.04379865546438249,
          0.36074247564139333,
          0.4620214106486869,
          -0.09433294853915841,
          0.4563777428240795,
          0.041490077331488066,
          0.37020393000508184,
          0.1858151491323287,
          0.5534411305672431,
          0.686151607451382,
          0.48793809393046705,
          0.49949040336710826,
          0.12030259877129218,
          0.559312857984227,
          0.433961196189556,
          0.7734255415598308,
          0.47915362242279513,
          0.6038611785961868,
          1.3156848131995227,
          0.9267103983984487,
          0.9169160128962361,
          1.9353769513881562,
          2.743865602437532,
          1.5507154385206312,
          1.4531071469724195,
          1.4973876439441096,
          1.662466146866861,
          2.0932637196450274,
          2.93850349293593
         ],
         "yaxis": "y"
        }
       ],
       "layout": {
        "coloraxis": {
         "colorbar": {
          "title": {
           "text": "Label"
          }
         },
         "colorscale": [
          [
           0,
           "#0d0887"
          ],
          [
           0.1111111111111111,
           "#46039f"
          ],
          [
           0.2222222222222222,
           "#7201a8"
          ],
          [
           0.3333333333333333,
           "#9c179e"
          ],
          [
           0.4444444444444444,
           "#bd3786"
          ],
          [
           0.5555555555555556,
           "#d8576b"
          ],
          [
           0.6666666666666666,
           "#ed7953"
          ],
          [
           0.7777777777777778,
           "#fb9f3a"
          ],
          [
           0.8888888888888888,
           "#fdca26"
          ],
          [
           1,
           "#f0f921"
          ]
         ]
        },
        "legend": {
         "tracegroupgap": 0
        },
        "margin": {
         "t": 60
        },
        "template": {
         "data": {
          "bar": [
           {
            "error_x": {
             "color": "#2a3f5f"
            },
            "error_y": {
             "color": "#2a3f5f"
            },
            "marker": {
             "line": {
              "color": "#E5ECF6",
              "width": 0.5
             }
            },
            "type": "bar"
           }
          ],
          "barpolar": [
           {
            "marker": {
             "line": {
              "color": "#E5ECF6",
              "width": 0.5
             }
            },
            "type": "barpolar"
           }
          ],
          "carpet": [
           {
            "aaxis": {
             "endlinecolor": "#2a3f5f",
             "gridcolor": "white",
             "linecolor": "white",
             "minorgridcolor": "white",
             "startlinecolor": "#2a3f5f"
            },
            "baxis": {
             "endlinecolor": "#2a3f5f",
             "gridcolor": "white",
             "linecolor": "white",
             "minorgridcolor": "white",
             "startlinecolor": "#2a3f5f"
            },
            "type": "carpet"
           }
          ],
          "choropleth": [
           {
            "colorbar": {
             "outlinewidth": 0,
             "ticks": ""
            },
            "type": "choropleth"
           }
          ],
          "contour": [
           {
            "colorbar": {
             "outlinewidth": 0,
             "ticks": ""
            },
            "colorscale": [
             [
              0,
              "#0d0887"
             ],
             [
              0.1111111111111111,
              "#46039f"
             ],
             [
              0.2222222222222222,
              "#7201a8"
             ],
             [
              0.3333333333333333,
              "#9c179e"
             ],
             [
              0.4444444444444444,
              "#bd3786"
             ],
             [
              0.5555555555555556,
              "#d8576b"
             ],
             [
              0.6666666666666666,
              "#ed7953"
             ],
             [
              0.7777777777777778,
              "#fb9f3a"
             ],
             [
              0.8888888888888888,
              "#fdca26"
             ],
             [
              1,
              "#f0f921"
             ]
            ],
            "type": "contour"
           }
          ],
          "contourcarpet": [
           {
            "colorbar": {
             "outlinewidth": 0,
             "ticks": ""
            },
            "type": "contourcarpet"
           }
          ],
          "heatmap": [
           {
            "colorbar": {
             "outlinewidth": 0,
             "ticks": ""
            },
            "colorscale": [
             [
              0,
              "#0d0887"
             ],
             [
              0.1111111111111111,
              "#46039f"
             ],
             [
              0.2222222222222222,
              "#7201a8"
             ],
             [
              0.3333333333333333,
              "#9c179e"
             ],
             [
              0.4444444444444444,
              "#bd3786"
             ],
             [
              0.5555555555555556,
              "#d8576b"
             ],
             [
              0.6666666666666666,
              "#ed7953"
             ],
             [
              0.7777777777777778,
              "#fb9f3a"
             ],
             [
              0.8888888888888888,
              "#fdca26"
             ],
             [
              1,
              "#f0f921"
             ]
            ],
            "type": "heatmap"
           }
          ],
          "heatmapgl": [
           {
            "colorbar": {
             "outlinewidth": 0,
             "ticks": ""
            },
            "colorscale": [
             [
              0,
              "#0d0887"
             ],
             [
              0.1111111111111111,
              "#46039f"
             ],
             [
              0.2222222222222222,
              "#7201a8"
             ],
             [
              0.3333333333333333,
              "#9c179e"
             ],
             [
              0.4444444444444444,
              "#bd3786"
             ],
             [
              0.5555555555555556,
              "#d8576b"
             ],
             [
              0.6666666666666666,
              "#ed7953"
             ],
             [
              0.7777777777777778,
              "#fb9f3a"
             ],
             [
              0.8888888888888888,
              "#fdca26"
             ],
             [
              1,
              "#f0f921"
             ]
            ],
            "type": "heatmapgl"
           }
          ],
          "histogram": [
           {
            "marker": {
             "colorbar": {
              "outlinewidth": 0,
              "ticks": ""
             }
            },
            "type": "histogram"
           }
          ],
          "histogram2d": [
           {
            "colorbar": {
             "outlinewidth": 0,
             "ticks": ""
            },
            "colorscale": [
             [
              0,
              "#0d0887"
             ],
             [
              0.1111111111111111,
              "#46039f"
             ],
             [
              0.2222222222222222,
              "#7201a8"
             ],
             [
              0.3333333333333333,
              "#9c179e"
             ],
             [
              0.4444444444444444,
              "#bd3786"
             ],
             [
              0.5555555555555556,
              "#d8576b"
             ],
             [
              0.6666666666666666,
              "#ed7953"
             ],
             [
              0.7777777777777778,
              "#fb9f3a"
             ],
             [
              0.8888888888888888,
              "#fdca26"
             ],
             [
              1,
              "#f0f921"
             ]
            ],
            "type": "histogram2d"
           }
          ],
          "histogram2dcontour": [
           {
            "colorbar": {
             "outlinewidth": 0,
             "ticks": ""
            },
            "colorscale": [
             [
              0,
              "#0d0887"
             ],
             [
              0.1111111111111111,
              "#46039f"
             ],
             [
              0.2222222222222222,
              "#7201a8"
             ],
             [
              0.3333333333333333,
              "#9c179e"
             ],
             [
              0.4444444444444444,
              "#bd3786"
             ],
             [
              0.5555555555555556,
              "#d8576b"
             ],
             [
              0.6666666666666666,
              "#ed7953"
             ],
             [
              0.7777777777777778,
              "#fb9f3a"
             ],
             [
              0.8888888888888888,
              "#fdca26"
             ],
             [
              1,
              "#f0f921"
             ]
            ],
            "type": "histogram2dcontour"
           }
          ],
          "mesh3d": [
           {
            "colorbar": {
             "outlinewidth": 0,
             "ticks": ""
            },
            "type": "mesh3d"
           }
          ],
          "parcoords": [
           {
            "line": {
             "colorbar": {
              "outlinewidth": 0,
              "ticks": ""
             }
            },
            "type": "parcoords"
           }
          ],
          "pie": [
           {
            "automargin": true,
            "type": "pie"
           }
          ],
          "scatter": [
           {
            "marker": {
             "colorbar": {
              "outlinewidth": 0,
              "ticks": ""
             }
            },
            "type": "scatter"
           }
          ],
          "scatter3d": [
           {
            "line": {
             "colorbar": {
              "outlinewidth": 0,
              "ticks": ""
             }
            },
            "marker": {
             "colorbar": {
              "outlinewidth": 0,
              "ticks": ""
             }
            },
            "type": "scatter3d"
           }
          ],
          "scattercarpet": [
           {
            "marker": {
             "colorbar": {
              "outlinewidth": 0,
              "ticks": ""
             }
            },
            "type": "scattercarpet"
           }
          ],
          "scattergeo": [
           {
            "marker": {
             "colorbar": {
              "outlinewidth": 0,
              "ticks": ""
             }
            },
            "type": "scattergeo"
           }
          ],
          "scattergl": [
           {
            "marker": {
             "colorbar": {
              "outlinewidth": 0,
              "ticks": ""
             }
            },
            "type": "scattergl"
           }
          ],
          "scattermapbox": [
           {
            "marker": {
             "colorbar": {
              "outlinewidth": 0,
              "ticks": ""
             }
            },
            "type": "scattermapbox"
           }
          ],
          "scatterpolar": [
           {
            "marker": {
             "colorbar": {
              "outlinewidth": 0,
              "ticks": ""
             }
            },
            "type": "scatterpolar"
           }
          ],
          "scatterpolargl": [
           {
            "marker": {
             "colorbar": {
              "outlinewidth": 0,
              "ticks": ""
             }
            },
            "type": "scatterpolargl"
           }
          ],
          "scatterternary": [
           {
            "marker": {
             "colorbar": {
              "outlinewidth": 0,
              "ticks": ""
             }
            },
            "type": "scatterternary"
           }
          ],
          "surface": [
           {
            "colorbar": {
             "outlinewidth": 0,
             "ticks": ""
            },
            "colorscale": [
             [
              0,
              "#0d0887"
             ],
             [
              0.1111111111111111,
              "#46039f"
             ],
             [
              0.2222222222222222,
              "#7201a8"
             ],
             [
              0.3333333333333333,
              "#9c179e"
             ],
             [
              0.4444444444444444,
              "#bd3786"
             ],
             [
              0.5555555555555556,
              "#d8576b"
             ],
             [
              0.6666666666666666,
              "#ed7953"
             ],
             [
              0.7777777777777778,
              "#fb9f3a"
             ],
             [
              0.8888888888888888,
              "#fdca26"
             ],
             [
              1,
              "#f0f921"
             ]
            ],
            "type": "surface"
           }
          ],
          "table": [
           {
            "cells": {
             "fill": {
              "color": "#EBF0F8"
             },
             "line": {
              "color": "white"
             }
            },
            "header": {
             "fill": {
              "color": "#C8D4E3"
             },
             "line": {
              "color": "white"
             }
            },
            "type": "table"
           }
          ]
         },
         "layout": {
          "annotationdefaults": {
           "arrowcolor": "#2a3f5f",
           "arrowhead": 0,
           "arrowwidth": 1
          },
          "coloraxis": {
           "colorbar": {
            "outlinewidth": 0,
            "ticks": ""
           }
          },
          "colorscale": {
           "diverging": [
            [
             0,
             "#8e0152"
            ],
            [
             0.1,
             "#c51b7d"
            ],
            [
             0.2,
             "#de77ae"
            ],
            [
             0.3,
             "#f1b6da"
            ],
            [
             0.4,
             "#fde0ef"
            ],
            [
             0.5,
             "#f7f7f7"
            ],
            [
             0.6,
             "#e6f5d0"
            ],
            [
             0.7,
             "#b8e186"
            ],
            [
             0.8,
             "#7fbc41"
            ],
            [
             0.9,
             "#4d9221"
            ],
            [
             1,
             "#276419"
            ]
           ],
           "sequential": [
            [
             0,
             "#0d0887"
            ],
            [
             0.1111111111111111,
             "#46039f"
            ],
            [
             0.2222222222222222,
             "#7201a8"
            ],
            [
             0.3333333333333333,
             "#9c179e"
            ],
            [
             0.4444444444444444,
             "#bd3786"
            ],
            [
             0.5555555555555556,
             "#d8576b"
            ],
            [
             0.6666666666666666,
             "#ed7953"
            ],
            [
             0.7777777777777778,
             "#fb9f3a"
            ],
            [
             0.8888888888888888,
             "#fdca26"
            ],
            [
             1,
             "#f0f921"
            ]
           ],
           "sequentialminus": [
            [
             0,
             "#0d0887"
            ],
            [
             0.1111111111111111,
             "#46039f"
            ],
            [
             0.2222222222222222,
             "#7201a8"
            ],
            [
             0.3333333333333333,
             "#9c179e"
            ],
            [
             0.4444444444444444,
             "#bd3786"
            ],
            [
             0.5555555555555556,
             "#d8576b"
            ],
            [
             0.6666666666666666,
             "#ed7953"
            ],
            [
             0.7777777777777778,
             "#fb9f3a"
            ],
            [
             0.8888888888888888,
             "#fdca26"
            ],
            [
             1,
             "#f0f921"
            ]
           ]
          },
          "colorway": [
           "#636efa",
           "#EF553B",
           "#00cc96",
           "#ab63fa",
           "#FFA15A",
           "#19d3f3",
           "#FF6692",
           "#B6E880",
           "#FF97FF",
           "#FECB52"
          ],
          "font": {
           "color": "#2a3f5f"
          },
          "geo": {
           "bgcolor": "white",
           "lakecolor": "white",
           "landcolor": "#E5ECF6",
           "showlakes": true,
           "showland": true,
           "subunitcolor": "white"
          },
          "hoverlabel": {
           "align": "left"
          },
          "hovermode": "closest",
          "mapbox": {
           "style": "light"
          },
          "paper_bgcolor": "white",
          "plot_bgcolor": "#E5ECF6",
          "polar": {
           "angularaxis": {
            "gridcolor": "white",
            "linecolor": "white",
            "ticks": ""
           },
           "bgcolor": "#E5ECF6",
           "radialaxis": {
            "gridcolor": "white",
            "linecolor": "white",
            "ticks": ""
           }
          },
          "scene": {
           "xaxis": {
            "backgroundcolor": "#E5ECF6",
            "gridcolor": "white",
            "gridwidth": 2,
            "linecolor": "white",
            "showbackground": true,
            "ticks": "",
            "zerolinecolor": "white"
           },
           "yaxis": {
            "backgroundcolor": "#E5ECF6",
            "gridcolor": "white",
            "gridwidth": 2,
            "linecolor": "white",
            "showbackground": true,
            "ticks": "",
            "zerolinecolor": "white"
           },
           "zaxis": {
            "backgroundcolor": "#E5ECF6",
            "gridcolor": "white",
            "gridwidth": 2,
            "linecolor": "white",
            "showbackground": true,
            "ticks": "",
            "zerolinecolor": "white"
           }
          },
          "shapedefaults": {
           "line": {
            "color": "#2a3f5f"
           }
          },
          "ternary": {
           "aaxis": {
            "gridcolor": "white",
            "linecolor": "white",
            "ticks": ""
           },
           "baxis": {
            "gridcolor": "white",
            "linecolor": "white",
            "ticks": ""
           },
           "bgcolor": "#E5ECF6",
           "caxis": {
            "gridcolor": "white",
            "linecolor": "white",
            "ticks": ""
           }
          },
          "title": {
           "x": 0.05
          },
          "xaxis": {
           "automargin": true,
           "gridcolor": "white",
           "linecolor": "white",
           "ticks": "",
           "title": {
            "standoff": 15
           },
           "zerolinecolor": "white",
           "zerolinewidth": 2
          },
          "yaxis": {
           "automargin": true,
           "gridcolor": "white",
           "linecolor": "white",
           "ticks": "",
           "title": {
            "standoff": 15
           },
           "zerolinecolor": "white",
           "zerolinewidth": 2
          }
         }
        },
        "xaxis": {
         "anchor": "y",
         "domain": [
          0,
          1
         ],
         "title": {
          "text": "C1"
         }
        },
        "yaxis": {
         "anchor": "x",
         "domain": [
          0,
          1
         ],
         "title": {
          "text": "C2"
         }
        }
       }
      },
      "text/html": [
       "<div>\n",
       "        \n",
       "        \n",
       "            <div id=\"f6811566-1db3-459c-9dce-ff3313319f72\" class=\"plotly-graph-div\" style=\"height:525px; width:100%;\"></div>\n",
       "            <script type=\"text/javascript\">\n",
       "                require([\"plotly\"], function(Plotly) {\n",
       "                    window.PLOTLYENV=window.PLOTLYENV || {};\n",
       "                    \n",
       "                if (document.getElementById(\"f6811566-1db3-459c-9dce-ff3313319f72\")) {\n",
       "                    Plotly.newPlot(\n",
       "                        'f6811566-1db3-459c-9dce-ff3313319f72',\n",
       "                        [{\"customdata\": [[\"Ramechhap\"], [\"Gorkha\"], [\"Saptari\"], [\"Siraha\"], [\"Rautahat\"], [\"Lamjung\"], [\"Rasuwa\"], [\"Dhading\"], [\"Kavrepalanchok\"], [\"Dolakha\"], [\"Nuwakot\"], [\"Okhaldhunga\"], [\"Parbat\"], [\"Kaski\"], [\"Bara\"], [\"Bhaktapur\"], [\"Lalitpur\"], [\"Parsa\"], [\"Khotang\"], [\"Tanahu\"], [\"Sarlahi\"], [\"Myagdi\"], [\"Sindhuli\"], [\"Chitwan\"], [\"Syangja\"], [\"Sindhupalchok\"], [\"Dhanusa\"], [\"Mahottari\"], [\"Udayapur\"], [\"Morang\"], [\"Darchula\"], [\"Dhankuta\"], [\"Baitadi\"], [\"Solukhumbu\"], [\"Baglung\"], [\"Salyan\"], [\"Arghakhanchi\"], [\"Kathmandu\"], [\"Sankhuwasabha\"], [\"Rukum\"], [\"Banke\"], [\"Sunsari\"], [\"Bhojpur\"], [\"Rupandehi\"], [\"Palpa\"], [\"Panchthar\"], [\"Gulmi\"], [\"Makwanpur\"], [\"Tehrathum\"], [\"Dailekh\"], [\"Ilam\"], [\"Dadeldhura\"], [\"Nawalparasi\"], [\"Kapilbastu\"], [\"Dang\"], [\"Jhapa\"], [\"Surkhet\"], [\"Bardiya\"], [\"Achham\"], [\"Kanchanpur\"], [\"Doti\"], [\"Kailali\"], [\"Jajarkot\"], [\"Rolpa\"], [\"Taplejung\"], [\"Mugu\"], [\"Bajhang\"], [\"Mustang\"], [\"Manang\"], [\"Pyuthan\"], [\"Humla\"], [\"Bajura\"], [\"Kalikot\"], [\"Jumla\"], [\"Dolpa\"]], \"hovertemplate\": \"C1=%{x}<br>C2=%{y}<br>District=%{customdata[0]}<br>Label=%{marker.color}<extra></extra>\", \"legendgroup\": \"\", \"marker\": {\"color\": [-1, 0, -1, -1, -1, 1, -1, 0, 1, 0, 0, 0, 1, -1, -1, -1, -1, 0, 1, 1, 2, 1, 0, -1, 1, 0, 2, 2, 1, 1, 3, 1, 3, -1, 1, 3, 1, -1, 1, 3, 1, 1, 1, 1, 1, 1, 1, 1, 1, 3, 1, 3, 1, -1, 1, 1, 1, 1, 4, 1, 4, 1, 4, 4, -1, -1, 5, -1, -1, -1, -1, 5, 5, -1, -1], \"coloraxis\": \"coloraxis\", \"symbol\": \"circle\"}, \"mode\": \"markers\", \"name\": \"\", \"showlegend\": false, \"type\": \"scatter\", \"x\": [0.11015667764998524, 0.4053727285896925, -0.8622509584755365, -1.353550664579631, -1.9040785163013418, 0.8930887654266298, 0.12525786974677577, -0.02733410793563116, 1.11572745144665, -0.12782627016160636, -0.09974662210651108, 0.009026057380781076, 0.7795478834036355, 2.242955466359527, -0.10028350179016562, 1.9092290497600577, 2.7367631038525237, -0.23892965952266437, 0.5614380882816572, 0.8955539924829182, -1.5963583501493586, 0.6060726233047607, -0.5427719520338545, 1.7276920220656313, 1.192991892766106, -0.22104145526311408, -1.1607019479510967, -1.8537008101151757, 0.1262782100610445, 0.7375689322187072, -0.5990047591271433, 1.0228440114936999, -0.8766078876531401, 1.1502472113925997, 0.21942987527035476, -0.48617296232203844, 0.30214156219334076, 4.146013146085425, 0.48813459046369917, -0.6783772451986063, -0.12269078448246623, 0.27553355127768625, 0.17282875951899002, 0.39489100569858987, 0.6477971558540522, 0.5165951269708163, 0.006906961883862376, 0.672225438926391, 1.171356820799132, -0.8411930469361463, 1.1566297557184708, -0.5292467593183462, 0.4644455134587486, -0.9806485134385157, 0.32639248295347134, 0.823811051023782, 0.19353775865910441, -0.10208186505489844, -1.6673264513574138, 0.03671538071894544, -1.3047610954851256, -0.34990994951941584, -1.515411250553023, -1.2890215210021796, 0.5110566990004521, -1.6638263152130768, -1.9720111670446694, 0.9817493953105728, 3.5174420315021924, -0.9457418650627097, -2.193968571118506, -2.0599561774386275, -1.9277441248394303, -1.4807394837087904, -1.6984294887115063], \"xaxis\": \"x\", \"y\": [-2.0413094987379004, -1.4247721584378945, -1.5509302823637925, -1.646060506882542, -1.584414193742313, -0.9554328913927871, -0.9717615180238524, -1.138039668369485, -0.8170787445429135, -1.1688208857164357, -1.0964353470189927, -1.004505254011677, -0.851748610602865, -0.4185747845346949, -0.8379368242692324, -0.5170197821143799, -0.13924644531968033, -0.8268964592975723, -0.7135236080053613, -0.6297650575328383, -1.0980470413514334, -0.6519416095309831, -0.9055597934836979, -0.18539269542363138, -0.32896527894440203, -0.5522578305440898, -0.746449363517943, -0.9153235279638191, -0.42463617756327415, -0.1124003552927766, -0.5289628212649096, -0.05746955515877982, -0.5161666864724678, 0.23534546523603364, -0.21764391937570232, -0.3492152830429469, -0.06973364965606915, 1.151042125898869, 0.11083404772082464, -0.19881829321873906, 0.02005764059115078, 0.08814670908870613, 0.03887832631611499, 0.1322232371352693, 0.14257130872775856, 0.21700545145490044, 0.04379865546438249, 0.36074247564139333, 0.4620214106486869, -0.09433294853915841, 0.4563777428240795, 0.041490077331488066, 0.37020393000508184, 0.1858151491323287, 0.5534411305672431, 0.686151607451382, 0.48793809393046705, 0.49949040336710826, 0.12030259877129218, 0.559312857984227, 0.433961196189556, 0.7734255415598308, 0.47915362242279513, 0.6038611785961868, 1.3156848131995227, 0.9267103983984487, 0.9169160128962361, 1.9353769513881562, 2.743865602437532, 1.5507154385206312, 1.4531071469724195, 1.4973876439441096, 1.662466146866861, 2.0932637196450274, 2.93850349293593], \"yaxis\": \"y\"}],\n",
       "                        {\"coloraxis\": {\"colorbar\": {\"title\": {\"text\": \"Label\"}}, \"colorscale\": [[0.0, \"#0d0887\"], [0.1111111111111111, \"#46039f\"], [0.2222222222222222, \"#7201a8\"], [0.3333333333333333, \"#9c179e\"], [0.4444444444444444, \"#bd3786\"], [0.5555555555555556, \"#d8576b\"], [0.6666666666666666, \"#ed7953\"], [0.7777777777777778, \"#fb9f3a\"], [0.8888888888888888, \"#fdca26\"], [1.0, \"#f0f921\"]]}, \"legend\": {\"tracegroupgap\": 0}, \"margin\": {\"t\": 60}, \"template\": {\"data\": {\"bar\": [{\"error_x\": {\"color\": \"#2a3f5f\"}, \"error_y\": {\"color\": \"#2a3f5f\"}, \"marker\": {\"line\": {\"color\": \"#E5ECF6\", \"width\": 0.5}}, \"type\": \"bar\"}], \"barpolar\": [{\"marker\": {\"line\": {\"color\": \"#E5ECF6\", \"width\": 0.5}}, \"type\": \"barpolar\"}], \"carpet\": [{\"aaxis\": {\"endlinecolor\": \"#2a3f5f\", \"gridcolor\": \"white\", \"linecolor\": \"white\", \"minorgridcolor\": \"white\", \"startlinecolor\": \"#2a3f5f\"}, \"baxis\": {\"endlinecolor\": \"#2a3f5f\", \"gridcolor\": \"white\", \"linecolor\": \"white\", \"minorgridcolor\": \"white\", \"startlinecolor\": \"#2a3f5f\"}, \"type\": \"carpet\"}], \"choropleth\": [{\"colorbar\": {\"outlinewidth\": 0, \"ticks\": \"\"}, \"type\": \"choropleth\"}], \"contour\": [{\"colorbar\": {\"outlinewidth\": 0, \"ticks\": \"\"}, \"colorscale\": [[0.0, \"#0d0887\"], [0.1111111111111111, \"#46039f\"], [0.2222222222222222, \"#7201a8\"], [0.3333333333333333, \"#9c179e\"], [0.4444444444444444, \"#bd3786\"], [0.5555555555555556, \"#d8576b\"], [0.6666666666666666, \"#ed7953\"], [0.7777777777777778, \"#fb9f3a\"], [0.8888888888888888, \"#fdca26\"], [1.0, \"#f0f921\"]], \"type\": \"contour\"}], \"contourcarpet\": [{\"colorbar\": {\"outlinewidth\": 0, \"ticks\": \"\"}, \"type\": \"contourcarpet\"}], \"heatmap\": [{\"colorbar\": {\"outlinewidth\": 0, \"ticks\": \"\"}, \"colorscale\": [[0.0, \"#0d0887\"], [0.1111111111111111, \"#46039f\"], [0.2222222222222222, \"#7201a8\"], [0.3333333333333333, \"#9c179e\"], [0.4444444444444444, \"#bd3786\"], [0.5555555555555556, \"#d8576b\"], [0.6666666666666666, \"#ed7953\"], [0.7777777777777778, \"#fb9f3a\"], [0.8888888888888888, \"#fdca26\"], [1.0, \"#f0f921\"]], \"type\": \"heatmap\"}], \"heatmapgl\": [{\"colorbar\": {\"outlinewidth\": 0, \"ticks\": \"\"}, \"colorscale\": [[0.0, \"#0d0887\"], [0.1111111111111111, \"#46039f\"], [0.2222222222222222, \"#7201a8\"], [0.3333333333333333, \"#9c179e\"], [0.4444444444444444, \"#bd3786\"], [0.5555555555555556, \"#d8576b\"], [0.6666666666666666, \"#ed7953\"], [0.7777777777777778, \"#fb9f3a\"], [0.8888888888888888, \"#fdca26\"], [1.0, \"#f0f921\"]], \"type\": \"heatmapgl\"}], \"histogram\": [{\"marker\": {\"colorbar\": {\"outlinewidth\": 0, \"ticks\": \"\"}}, \"type\": \"histogram\"}], \"histogram2d\": [{\"colorbar\": {\"outlinewidth\": 0, \"ticks\": \"\"}, \"colorscale\": [[0.0, \"#0d0887\"], [0.1111111111111111, \"#46039f\"], [0.2222222222222222, \"#7201a8\"], [0.3333333333333333, \"#9c179e\"], [0.4444444444444444, \"#bd3786\"], [0.5555555555555556, \"#d8576b\"], [0.6666666666666666, \"#ed7953\"], [0.7777777777777778, \"#fb9f3a\"], [0.8888888888888888, \"#fdca26\"], [1.0, \"#f0f921\"]], \"type\": \"histogram2d\"}], \"histogram2dcontour\": [{\"colorbar\": {\"outlinewidth\": 0, \"ticks\": \"\"}, \"colorscale\": [[0.0, \"#0d0887\"], [0.1111111111111111, \"#46039f\"], [0.2222222222222222, \"#7201a8\"], [0.3333333333333333, \"#9c179e\"], [0.4444444444444444, \"#bd3786\"], [0.5555555555555556, \"#d8576b\"], [0.6666666666666666, \"#ed7953\"], [0.7777777777777778, \"#fb9f3a\"], [0.8888888888888888, \"#fdca26\"], [1.0, \"#f0f921\"]], \"type\": \"histogram2dcontour\"}], \"mesh3d\": [{\"colorbar\": {\"outlinewidth\": 0, \"ticks\": \"\"}, \"type\": \"mesh3d\"}], \"parcoords\": [{\"line\": {\"colorbar\": {\"outlinewidth\": 0, \"ticks\": \"\"}}, \"type\": \"parcoords\"}], \"pie\": [{\"automargin\": true, \"type\": \"pie\"}], \"scatter\": [{\"marker\": {\"colorbar\": {\"outlinewidth\": 0, \"ticks\": \"\"}}, \"type\": \"scatter\"}], \"scatter3d\": [{\"line\": {\"colorbar\": {\"outlinewidth\": 0, \"ticks\": \"\"}}, \"marker\": {\"colorbar\": {\"outlinewidth\": 0, \"ticks\": \"\"}}, \"type\": \"scatter3d\"}], \"scattercarpet\": [{\"marker\": {\"colorbar\": {\"outlinewidth\": 0, \"ticks\": \"\"}}, \"type\": \"scattercarpet\"}], \"scattergeo\": [{\"marker\": {\"colorbar\": {\"outlinewidth\": 0, \"ticks\": \"\"}}, \"type\": \"scattergeo\"}], \"scattergl\": [{\"marker\": {\"colorbar\": {\"outlinewidth\": 0, \"ticks\": \"\"}}, \"type\": \"scattergl\"}], \"scattermapbox\": [{\"marker\": {\"colorbar\": {\"outlinewidth\": 0, \"ticks\": \"\"}}, \"type\": \"scattermapbox\"}], \"scatterpolar\": [{\"marker\": {\"colorbar\": {\"outlinewidth\": 0, \"ticks\": \"\"}}, \"type\": \"scatterpolar\"}], \"scatterpolargl\": [{\"marker\": {\"colorbar\": {\"outlinewidth\": 0, \"ticks\": \"\"}}, \"type\": \"scatterpolargl\"}], \"scatterternary\": [{\"marker\": {\"colorbar\": {\"outlinewidth\": 0, \"ticks\": \"\"}}, \"type\": \"scatterternary\"}], \"surface\": [{\"colorbar\": {\"outlinewidth\": 0, \"ticks\": \"\"}, \"colorscale\": [[0.0, \"#0d0887\"], [0.1111111111111111, \"#46039f\"], [0.2222222222222222, \"#7201a8\"], [0.3333333333333333, \"#9c179e\"], [0.4444444444444444, \"#bd3786\"], [0.5555555555555556, \"#d8576b\"], [0.6666666666666666, \"#ed7953\"], [0.7777777777777778, \"#fb9f3a\"], [0.8888888888888888, \"#fdca26\"], [1.0, \"#f0f921\"]], \"type\": \"surface\"}], \"table\": [{\"cells\": {\"fill\": {\"color\": \"#EBF0F8\"}, \"line\": {\"color\": \"white\"}}, \"header\": {\"fill\": {\"color\": \"#C8D4E3\"}, \"line\": {\"color\": \"white\"}}, \"type\": \"table\"}]}, \"layout\": {\"annotationdefaults\": {\"arrowcolor\": \"#2a3f5f\", \"arrowhead\": 0, \"arrowwidth\": 1}, \"coloraxis\": {\"colorbar\": {\"outlinewidth\": 0, \"ticks\": \"\"}}, \"colorscale\": {\"diverging\": [[0, \"#8e0152\"], [0.1, \"#c51b7d\"], [0.2, \"#de77ae\"], [0.3, \"#f1b6da\"], [0.4, \"#fde0ef\"], [0.5, \"#f7f7f7\"], [0.6, \"#e6f5d0\"], [0.7, \"#b8e186\"], [0.8, \"#7fbc41\"], [0.9, \"#4d9221\"], [1, \"#276419\"]], \"sequential\": [[0.0, \"#0d0887\"], [0.1111111111111111, \"#46039f\"], [0.2222222222222222, \"#7201a8\"], [0.3333333333333333, \"#9c179e\"], [0.4444444444444444, \"#bd3786\"], [0.5555555555555556, \"#d8576b\"], [0.6666666666666666, \"#ed7953\"], [0.7777777777777778, \"#fb9f3a\"], [0.8888888888888888, \"#fdca26\"], [1.0, \"#f0f921\"]], \"sequentialminus\": [[0.0, \"#0d0887\"], [0.1111111111111111, \"#46039f\"], [0.2222222222222222, \"#7201a8\"], [0.3333333333333333, \"#9c179e\"], [0.4444444444444444, \"#bd3786\"], [0.5555555555555556, \"#d8576b\"], [0.6666666666666666, \"#ed7953\"], [0.7777777777777778, \"#fb9f3a\"], [0.8888888888888888, \"#fdca26\"], [1.0, \"#f0f921\"]]}, \"colorway\": [\"#636efa\", \"#EF553B\", \"#00cc96\", \"#ab63fa\", \"#FFA15A\", \"#19d3f3\", \"#FF6692\", \"#B6E880\", \"#FF97FF\", \"#FECB52\"], \"font\": {\"color\": \"#2a3f5f\"}, \"geo\": {\"bgcolor\": \"white\", \"lakecolor\": \"white\", \"landcolor\": \"#E5ECF6\", \"showlakes\": true, \"showland\": true, \"subunitcolor\": \"white\"}, \"hoverlabel\": {\"align\": \"left\"}, \"hovermode\": \"closest\", \"mapbox\": {\"style\": \"light\"}, \"paper_bgcolor\": \"white\", \"plot_bgcolor\": \"#E5ECF6\", \"polar\": {\"angularaxis\": {\"gridcolor\": \"white\", \"linecolor\": \"white\", \"ticks\": \"\"}, \"bgcolor\": \"#E5ECF6\", \"radialaxis\": {\"gridcolor\": \"white\", \"linecolor\": \"white\", \"ticks\": \"\"}}, \"scene\": {\"xaxis\": {\"backgroundcolor\": \"#E5ECF6\", \"gridcolor\": \"white\", \"gridwidth\": 2, \"linecolor\": \"white\", \"showbackground\": true, \"ticks\": \"\", \"zerolinecolor\": \"white\"}, \"yaxis\": {\"backgroundcolor\": \"#E5ECF6\", \"gridcolor\": \"white\", \"gridwidth\": 2, \"linecolor\": \"white\", \"showbackground\": true, \"ticks\": \"\", \"zerolinecolor\": \"white\"}, \"zaxis\": {\"backgroundcolor\": \"#E5ECF6\", \"gridcolor\": \"white\", \"gridwidth\": 2, \"linecolor\": \"white\", \"showbackground\": true, \"ticks\": \"\", \"zerolinecolor\": \"white\"}}, \"shapedefaults\": {\"line\": {\"color\": \"#2a3f5f\"}}, \"ternary\": {\"aaxis\": {\"gridcolor\": \"white\", \"linecolor\": \"white\", \"ticks\": \"\"}, \"baxis\": {\"gridcolor\": \"white\", \"linecolor\": \"white\", \"ticks\": \"\"}, \"bgcolor\": \"#E5ECF6\", \"caxis\": {\"gridcolor\": \"white\", \"linecolor\": \"white\", \"ticks\": \"\"}}, \"title\": {\"x\": 0.05}, \"xaxis\": {\"automargin\": true, \"gridcolor\": \"white\", \"linecolor\": \"white\", \"ticks\": \"\", \"title\": {\"standoff\": 15}, \"zerolinecolor\": \"white\", \"zerolinewidth\": 2}, \"yaxis\": {\"automargin\": true, \"gridcolor\": \"white\", \"linecolor\": \"white\", \"ticks\": \"\", \"title\": {\"standoff\": 15}, \"zerolinecolor\": \"white\", \"zerolinewidth\": 2}}}, \"xaxis\": {\"anchor\": \"y\", \"domain\": [0.0, 1.0], \"title\": {\"text\": \"C1\"}}, \"yaxis\": {\"anchor\": \"x\", \"domain\": [0.0, 1.0], \"title\": {\"text\": \"C2\"}}},\n",
       "                        {\"responsive\": true}\n",
       "                    ).then(function(){\n",
       "                            \n",
       "var gd = document.getElementById('f6811566-1db3-459c-9dce-ff3313319f72');\n",
       "var x = new MutationObserver(function (mutations, observer) {{\n",
       "        var display = window.getComputedStyle(gd).display;\n",
       "        if (!display || display === 'none') {{\n",
       "            console.log([gd, 'removed!']);\n",
       "            Plotly.purge(gd);\n",
       "            observer.disconnect();\n",
       "        }}\n",
       "}});\n",
       "\n",
       "// Listen for the removal of the full notebook cells\n",
       "var notebookContainer = gd.closest('#notebook-container');\n",
       "if (notebookContainer) {{\n",
       "    x.observe(notebookContainer, {childList: true});\n",
       "}}\n",
       "\n",
       "// Listen for the clearing of the current output cell\n",
       "var outputEl = gd.closest('.output');\n",
       "if (outputEl) {{\n",
       "    x.observe(outputEl, {childList: true});\n",
       "}}\n",
       "\n",
       "                        })\n",
       "                };\n",
       "                });\n",
       "            </script>\n",
       "        </div>"
      ]
     },
     "metadata": {},
     "output_type": "display_data"
    }
   ],
   "source": [
    "clusters = visualize_clusters(0.6, 3)"
   ]
  },
  {
   "cell_type": "code",
   "execution_count": 70,
   "metadata": {},
   "outputs": [
    {
     "name": "stdout",
     "output_type": "stream",
     "text": [
      "Outliers:  ['Ramechhap', 'Saptari', 'Siraha', 'Rautahat', 'Rasuwa', 'Kaski', 'Bara', 'Bhaktapur', 'Lalitpur', 'Chitwan', 'Solukhumbu', 'Kathmandu', 'Kapilbastu', 'Taplejung', 'Mugu', 'Mustang', 'Manang', 'Pyuthan', 'Humla', 'Jumla', 'Dolpa'] \n",
      "\n",
      "Cluster:  ['Gorkha', 'Dhading', 'Dolakha', 'Nuwakot', 'Okhaldhunga', 'Parsa', 'Sindhuli', 'Sindhupalchok'] \n",
      "\n",
      "Cluster:  ['Lamjung', 'Kavrepalanchok', 'Parbat', 'Khotang', 'Tanahu', 'Myagdi', 'Syangja', 'Udayapur', 'Morang', 'Dhankuta', 'Baglung', 'Arghakhanchi', 'Sankhuwasabha', 'Banke', 'Sunsari', 'Bhojpur', 'Rupandehi', 'Palpa', 'Panchthar', 'Gulmi', 'Makwanpur', 'Tehrathum', 'Ilam', 'Nawalparasi', 'Dang', 'Jhapa', 'Surkhet', 'Bardiya', 'Kanchanpur', 'Kailali'] \n",
      "\n",
      "Cluster:  ['Sarlahi', 'Dhanusa', 'Mahottari'] \n",
      "\n",
      "Cluster:  ['Darchula', 'Baitadi', 'Salyan', 'Rukum', 'Dailekh', 'Dadeldhura'] \n",
      "\n",
      "Cluster:  ['Achham', 'Doti', 'Jajarkot', 'Rolpa'] \n",
      "\n",
      "Cluster:  ['Bajhang', 'Bajura', 'Kalikot'] \n",
      "\n"
     ]
    }
   ],
   "source": [
    "display_districts_by_cluster(clusters)"
   ]
  },
  {
   "cell_type": "code",
   "execution_count": 72,
   "metadata": {},
   "outputs": [],
   "source": [
    "from IPython.display import Image"
   ]
  },
  {
   "cell_type": "code",
   "execution_count": 77,
   "metadata": {},
   "outputs": [
    {
     "data": {
      "image/jpeg": "[encoded data removed]",
      "text/plain": [
       "<IPython.core.display.Image object>"
      ]
     },
     "execution_count": 77,
     "metadata": {},
     "output_type": "execute_result"
    }
   ],
   "source": [
    "Image('map_of_nepal.jpg')"
   ]
  },
  {
   "cell_type": "markdown",
   "metadata": {},
   "source": [
    "Image Source: https://www.pinterest.jp/pin/630855860284723833/"
   ]
  },
  {
   "cell_type": "code",
   "execution_count": null,
   "metadata": {},
   "outputs": [],
   "source": []
  }
 ],
 "metadata": {
  "kernelspec": {
   "display_name": "Python 3",
   "language": "python",
   "name": "python3"
  },
  "language_info": {
   "codemirror_mode": {
    "name": "ipython",
    "version": 3
   },
   "file_extension": ".py",
   "mimetype": "text/x-python",
   "name": "python",
   "nbconvert_exporter": "python",
   "pygments_lexer": "ipython3",
   "version": "3.6.10"
  }
 },
 "nbformat": 4,
 "nbformat_minor": 4
}
